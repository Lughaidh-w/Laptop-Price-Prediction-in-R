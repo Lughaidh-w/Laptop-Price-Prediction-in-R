{
 "cells": [
  {
   "cell_type": "markdown",
   "id": "e525ab3c-c628-4431-b339-d4847ca2e2de",
   "metadata": {},
   "source": [
    "# Laptop Price Prediction in R"
   ]
  },
  {
   "cell_type": "markdown",
   "id": "2a04eb61-3618-4fd3-8d6e-8d1b2299fcd7",
   "metadata": {},
   "source": [
    "## Preprocessing"
   ]
  },
  {
   "cell_type": "markdown",
   "id": "3afd75bc-809e-4501-b354-83c6f4e20650",
   "metadata": {},
   "source": [
    "#### Imports"
   ]
  },
  {
   "cell_type": "code",
   "execution_count": 1,
   "id": "7da2fa3c-abc4-4393-9b4e-8af012c94902",
   "metadata": {},
   "outputs": [
    {
     "name": "stderr",
     "output_type": "stream",
     "text": [
      "── \u001b[1mAttaching core tidyverse packages\u001b[22m ───────────────────────────────────────────────── tidyverse 2.0.0 ──\n",
      "\u001b[32m✔\u001b[39m \u001b[34mdplyr    \u001b[39m 1.1.3     \u001b[32m✔\u001b[39m \u001b[34mreadr    \u001b[39m 2.1.4\n",
      "\u001b[32m✔\u001b[39m \u001b[34mforcats  \u001b[39m 1.0.0     \u001b[32m✔\u001b[39m \u001b[34mstringr  \u001b[39m 1.5.1\n",
      "\u001b[32m✔\u001b[39m \u001b[34mggplot2  \u001b[39m 3.5.0     \u001b[32m✔\u001b[39m \u001b[34mtibble   \u001b[39m 3.2.1\n",
      "\u001b[32m✔\u001b[39m \u001b[34mlubridate\u001b[39m 1.9.3     \u001b[32m✔\u001b[39m \u001b[34mtidyr    \u001b[39m 1.3.0\n",
      "\u001b[32m✔\u001b[39m \u001b[34mpurrr    \u001b[39m 1.0.2     \n",
      "── \u001b[1mConflicts\u001b[22m ─────────────────────────────────────────────────────────────────── tidyverse_conflicts() ──\n",
      "\u001b[31m✖\u001b[39m \u001b[34mdplyr\u001b[39m::\u001b[32mfilter()\u001b[39m masks \u001b[34mstats\u001b[39m::filter()\n",
      "\u001b[31m✖\u001b[39m \u001b[34mdplyr\u001b[39m::\u001b[32mlag()\u001b[39m    masks \u001b[34mstats\u001b[39m::lag()\n",
      "\u001b[36mℹ\u001b[39m Use the conflicted package (\u001b[3m\u001b[34m<http://conflicted.r-lib.org/>\u001b[39m\u001b[23m) to force all conflicts to become errors\n",
      "\n",
      "Attaching package: ‘recipes’\n",
      "\n",
      "\n",
      "The following object is masked from ‘package:stringr’:\n",
      "\n",
      "    fixed\n",
      "\n",
      "\n",
      "The following object is masked from ‘package:stats’:\n",
      "\n",
      "    step\n",
      "\n",
      "\n",
      "Loading required package: lattice\n",
      "\n",
      "\n",
      "Attaching package: ‘caret’\n",
      "\n",
      "\n",
      "The following object is masked from ‘package:purrr’:\n",
      "\n",
      "    lift\n",
      "\n",
      "\n"
     ]
    }
   ],
   "source": [
    "library(tidyverse)\n",
    "library(recipes)\n",
    "library(caret)"
   ]
  },
  {
   "cell_type": "code",
   "execution_count": 2,
   "id": "6e730880-25f9-4be0-bcf1-dc92c1045705",
   "metadata": {},
   "outputs": [],
   "source": [
    "df <- read.csv(\"../input/laptop_price_prepared.csv\")"
   ]
  },
  {
   "cell_type": "code",
   "execution_count": 3,
   "id": "6a487b16-dc93-4c0e-8f30-a04c1d33e06d",
   "metadata": {},
   "outputs": [
    {
     "data": {
      "text/html": [
       "<table class=\"dataframe\">\n",
       "<caption>A data.frame: 6 × 27</caption>\n",
       "<thead>\n",
       "\t<tr><th></th><th scope=col>Company</th><th scope=col>Product</th><th scope=col>TypeName</th><th scope=col>Inches</th><th scope=col>Cpu</th><th scope=col>Ram</th><th scope=col>PrimaryMemSize</th><th scope=col>PrimaryMemType</th><th scope=col>SecondaryMemory</th><th scope=col>OpSys</th><th scope=col>⋯</th><th scope=col>Touchscreen</th><th scope=col>IPS_Panel</th><th scope=col>RetinaDisplay</th><th scope=col>CpuBrand</th><th scope=col>CpuProduct</th><th scope=col>CpuClockSpeed_GHz</th><th scope=col>Ram_GB</th><th scope=col>Gpu_Brand</th><th scope=col>Gpu_Product</th><th scope=col>Weight_kg</th></tr>\n",
       "\t<tr><th></th><th scope=col>&lt;chr&gt;</th><th scope=col>&lt;chr&gt;</th><th scope=col>&lt;chr&gt;</th><th scope=col>&lt;dbl&gt;</th><th scope=col>&lt;chr&gt;</th><th scope=col>&lt;chr&gt;</th><th scope=col>&lt;chr&gt;</th><th scope=col>&lt;chr&gt;</th><th scope=col>&lt;int&gt;</th><th scope=col>&lt;chr&gt;</th><th scope=col>⋯</th><th scope=col>&lt;int&gt;</th><th scope=col>&lt;int&gt;</th><th scope=col>&lt;int&gt;</th><th scope=col>&lt;chr&gt;</th><th scope=col>&lt;chr&gt;</th><th scope=col>&lt;dbl&gt;</th><th scope=col>&lt;int&gt;</th><th scope=col>&lt;chr&gt;</th><th scope=col>&lt;chr&gt;</th><th scope=col>&lt;dbl&gt;</th></tr>\n",
       "</thead>\n",
       "<tbody>\n",
       "\t<tr><th scope=row>1</th><td>Apple</td><td>MacBook Pro</td><td>Ultrabook</td><td>13.3</td><td>Intel Core i5 2.3GHz      </td><td>8GB </td><td>128GB</td><td>SSD          </td><td>0</td><td>macOS     </td><td>⋯</td><td>0</td><td>1</td><td>1</td><td>Intel</td><td>i5</td><td>5</td><td> 8</td><td>Intel</td><td>Iris  </td><td>1.37</td></tr>\n",
       "\t<tr><th scope=row>2</th><td>Apple</td><td>Macbook Air</td><td>Ultrabook</td><td>13.3</td><td>Intel Core i5 1.8GHz      </td><td>8GB </td><td>128GB</td><td>Flash Storage</td><td>0</td><td>macOS     </td><td>⋯</td><td>0</td><td>0</td><td>0</td><td>Intel</td><td>i5</td><td>5</td><td> 8</td><td>Intel</td><td>HD    </td><td>1.34</td></tr>\n",
       "\t<tr><th scope=row>3</th><td>HP   </td><td>250 G6     </td><td>Notebook </td><td>15.6</td><td>Intel Core i5 7200U 2.5GHz</td><td>8GB </td><td>256GB</td><td>SSD          </td><td>0</td><td>No OS     </td><td>⋯</td><td>0</td><td>0</td><td>0</td><td>Intel</td><td>i5</td><td>5</td><td> 8</td><td>Intel</td><td>HD    </td><td>1.86</td></tr>\n",
       "\t<tr><th scope=row>4</th><td>Apple</td><td>MacBook Pro</td><td>Ultrabook</td><td>15.4</td><td>Intel Core i7 2.7GHz      </td><td>16GB</td><td>512GB</td><td>SSD          </td><td>0</td><td>macOS     </td><td>⋯</td><td>0</td><td>1</td><td>1</td><td>Intel</td><td>i7</td><td>7</td><td>16</td><td>AMD  </td><td>Radeon</td><td>1.83</td></tr>\n",
       "\t<tr><th scope=row>5</th><td>Apple</td><td>MacBook Pro</td><td>Ultrabook</td><td>13.3</td><td>Intel Core i5 3.1GHz      </td><td>8GB </td><td>256GB</td><td>SSD          </td><td>0</td><td>macOS     </td><td>⋯</td><td>0</td><td>1</td><td>1</td><td>Intel</td><td>i5</td><td>5</td><td> 8</td><td>Intel</td><td>Iris  </td><td>1.37</td></tr>\n",
       "\t<tr><th scope=row>6</th><td>Acer </td><td>Aspire 3   </td><td>Notebook </td><td>15.6</td><td>AMD A9-Series 9420 3GHz   </td><td>4GB </td><td>500GB</td><td>HDD          </td><td>0</td><td>Windows 10</td><td>⋯</td><td>0</td><td>0</td><td>0</td><td>AMD  </td><td>NA</td><td>9</td><td> 4</td><td>AMD  </td><td>Radeon</td><td>2.10</td></tr>\n",
       "</tbody>\n",
       "</table>\n"
      ],
      "text/latex": [
       "A data.frame: 6 × 27\n",
       "\\begin{tabular}{r|lllllllllllllllllllll}\n",
       "  & Company & Product & TypeName & Inches & Cpu & Ram & PrimaryMemSize & PrimaryMemType & SecondaryMemory & OpSys & ⋯ & Touchscreen & IPS\\_Panel & RetinaDisplay & CpuBrand & CpuProduct & CpuClockSpeed\\_GHz & Ram\\_GB & Gpu\\_Brand & Gpu\\_Product & Weight\\_kg\\\\\n",
       "  & <chr> & <chr> & <chr> & <dbl> & <chr> & <chr> & <chr> & <chr> & <int> & <chr> & ⋯ & <int> & <int> & <int> & <chr> & <chr> & <dbl> & <int> & <chr> & <chr> & <dbl>\\\\\n",
       "\\hline\n",
       "\t1 & Apple & MacBook Pro & Ultrabook & 13.3 & Intel Core i5 2.3GHz       & 8GB  & 128GB & SSD           & 0 & macOS      & ⋯ & 0 & 1 & 1 & Intel & i5 & 5 &  8 & Intel & Iris   & 1.37\\\\\n",
       "\t2 & Apple & Macbook Air & Ultrabook & 13.3 & Intel Core i5 1.8GHz       & 8GB  & 128GB & Flash Storage & 0 & macOS      & ⋯ & 0 & 0 & 0 & Intel & i5 & 5 &  8 & Intel & HD     & 1.34\\\\\n",
       "\t3 & HP    & 250 G6      & Notebook  & 15.6 & Intel Core i5 7200U 2.5GHz & 8GB  & 256GB & SSD           & 0 & No OS      & ⋯ & 0 & 0 & 0 & Intel & i5 & 5 &  8 & Intel & HD     & 1.86\\\\\n",
       "\t4 & Apple & MacBook Pro & Ultrabook & 15.4 & Intel Core i7 2.7GHz       & 16GB & 512GB & SSD           & 0 & macOS      & ⋯ & 0 & 1 & 1 & Intel & i7 & 7 & 16 & AMD   & Radeon & 1.83\\\\\n",
       "\t5 & Apple & MacBook Pro & Ultrabook & 13.3 & Intel Core i5 3.1GHz       & 8GB  & 256GB & SSD           & 0 & macOS      & ⋯ & 0 & 1 & 1 & Intel & i5 & 5 &  8 & Intel & Iris   & 1.37\\\\\n",
       "\t6 & Acer  & Aspire 3    & Notebook  & 15.6 & AMD A9-Series 9420 3GHz    & 4GB  & 500GB & HDD           & 0 & Windows 10 & ⋯ & 0 & 0 & 0 & AMD   & NA & 9 &  4 & AMD   & Radeon & 2.10\\\\\n",
       "\\end{tabular}\n"
      ],
      "text/markdown": [
       "\n",
       "A data.frame: 6 × 27\n",
       "\n",
       "| <!--/--> | Company &lt;chr&gt; | Product &lt;chr&gt; | TypeName &lt;chr&gt; | Inches &lt;dbl&gt; | Cpu &lt;chr&gt; | Ram &lt;chr&gt; | PrimaryMemSize &lt;chr&gt; | PrimaryMemType &lt;chr&gt; | SecondaryMemory &lt;int&gt; | OpSys &lt;chr&gt; | ⋯ ⋯ | Touchscreen &lt;int&gt; | IPS_Panel &lt;int&gt; | RetinaDisplay &lt;int&gt; | CpuBrand &lt;chr&gt; | CpuProduct &lt;chr&gt; | CpuClockSpeed_GHz &lt;dbl&gt; | Ram_GB &lt;int&gt; | Gpu_Brand &lt;chr&gt; | Gpu_Product &lt;chr&gt; | Weight_kg &lt;dbl&gt; |\n",
       "|---|---|---|---|---|---|---|---|---|---|---|---|---|---|---|---|---|---|---|---|---|---|\n",
       "| 1 | Apple | MacBook Pro | Ultrabook | 13.3 | Intel Core i5 2.3GHz       | 8GB  | 128GB | SSD           | 0 | macOS      | ⋯ | 0 | 1 | 1 | Intel | i5 | 5 |  8 | Intel | Iris   | 1.37 |\n",
       "| 2 | Apple | Macbook Air | Ultrabook | 13.3 | Intel Core i5 1.8GHz       | 8GB  | 128GB | Flash Storage | 0 | macOS      | ⋯ | 0 | 0 | 0 | Intel | i5 | 5 |  8 | Intel | HD     | 1.34 |\n",
       "| 3 | HP    | 250 G6      | Notebook  | 15.6 | Intel Core i5 7200U 2.5GHz | 8GB  | 256GB | SSD           | 0 | No OS      | ⋯ | 0 | 0 | 0 | Intel | i5 | 5 |  8 | Intel | HD     | 1.86 |\n",
       "| 4 | Apple | MacBook Pro | Ultrabook | 15.4 | Intel Core i7 2.7GHz       | 16GB | 512GB | SSD           | 0 | macOS      | ⋯ | 0 | 1 | 1 | Intel | i7 | 7 | 16 | AMD   | Radeon | 1.83 |\n",
       "| 5 | Apple | MacBook Pro | Ultrabook | 13.3 | Intel Core i5 3.1GHz       | 8GB  | 256GB | SSD           | 0 | macOS      | ⋯ | 0 | 1 | 1 | Intel | i5 | 5 |  8 | Intel | Iris   | 1.37 |\n",
       "| 6 | Acer  | Aspire 3    | Notebook  | 15.6 | AMD A9-Series 9420 3GHz    | 4GB  | 500GB | HDD           | 0 | Windows 10 | ⋯ | 0 | 0 | 0 | AMD   | NA | 9 |  4 | AMD   | Radeon | 2.10 |\n",
       "\n"
      ],
      "text/plain": [
       "  Company Product     TypeName  Inches Cpu                        Ram \n",
       "1 Apple   MacBook Pro Ultrabook 13.3   Intel Core i5 2.3GHz       8GB \n",
       "2 Apple   Macbook Air Ultrabook 13.3   Intel Core i5 1.8GHz       8GB \n",
       "3 HP      250 G6      Notebook  15.6   Intel Core i5 7200U 2.5GHz 8GB \n",
       "4 Apple   MacBook Pro Ultrabook 15.4   Intel Core i7 2.7GHz       16GB\n",
       "5 Apple   MacBook Pro Ultrabook 13.3   Intel Core i5 3.1GHz       8GB \n",
       "6 Acer    Aspire 3    Notebook  15.6   AMD A9-Series 9420 3GHz    4GB \n",
       "  PrimaryMemSize PrimaryMemType SecondaryMemory OpSys      ⋯ Touchscreen\n",
       "1 128GB          SSD            0               macOS      ⋯ 0          \n",
       "2 128GB          Flash Storage  0               macOS      ⋯ 0          \n",
       "3 256GB          SSD            0               No OS      ⋯ 0          \n",
       "4 512GB          SSD            0               macOS      ⋯ 0          \n",
       "5 256GB          SSD            0               macOS      ⋯ 0          \n",
       "6 500GB          HDD            0               Windows 10 ⋯ 0          \n",
       "  IPS_Panel RetinaDisplay CpuBrand CpuProduct CpuClockSpeed_GHz Ram_GB\n",
       "1 1         1             Intel    i5         5                  8    \n",
       "2 0         0             Intel    i5         5                  8    \n",
       "3 0         0             Intel    i5         5                  8    \n",
       "4 1         1             Intel    i7         7                 16    \n",
       "5 1         1             Intel    i5         5                  8    \n",
       "6 0         0             AMD      NA         9                  4    \n",
       "  Gpu_Brand Gpu_Product Weight_kg\n",
       "1 Intel     Iris        1.37     \n",
       "2 Intel     HD          1.34     \n",
       "3 Intel     HD          1.86     \n",
       "4 AMD       Radeon      1.83     \n",
       "5 Intel     Iris        1.37     \n",
       "6 AMD       Radeon      2.10     "
      ]
     },
     "metadata": {},
     "output_type": "display_data"
    }
   ],
   "source": [
    "head(df)"
   ]
  },
  {
   "cell_type": "markdown",
   "id": "d9ffb37d-171a-48b5-bf4f-69b35c014f01",
   "metadata": {},
   "source": [
    "#### Splitting data"
   ]
  },
  {
   "cell_type": "code",
   "execution_count": 4,
   "id": "5f30199e-d788-47f6-a0ae-b831b8233892",
   "metadata": {},
   "outputs": [],
   "source": [
    "y = df$Price_euros"
   ]
  },
  {
   "cell_type": "code",
   "execution_count": 5,
   "id": "0d20f7a1-b438-4ae0-9f7f-6002ea5d1f72",
   "metadata": {},
   "outputs": [],
   "source": [
    "X <- df[, -which(names(df) == \"Price_euros\")]"
   ]
  },
  {
   "cell_type": "markdown",
   "id": "c54c0a01-279f-4171-a1b6-23c3108a4175",
   "metadata": {},
   "source": [
    "#### Dropping columns"
   ]
  },
  {
   "cell_type": "code",
   "execution_count": 6,
   "id": "ad56c848-2f75-4155-8694-b32e6b8851ff",
   "metadata": {},
   "outputs": [],
   "source": [
    "cols <- c(\"Product\", \"Model\", \"CpuProduct\", \"ResolutionWidth\", \"Inches\", \"Weight\", \"Cpu\")\n",
    "\n",
    "X <- X %>%\n",
    "  select(-one_of(cols))"
   ]
  },
  {
   "cell_type": "markdown",
   "id": "37776ab4-426c-4c44-bebd-4ca743db63f9",
   "metadata": {},
   "source": [
    "#### Data types"
   ]
  },
  {
   "cell_type": "code",
   "execution_count": 7,
   "id": "4eedeb95-cd2e-4d6a-9d5b-e604470f52a1",
   "metadata": {},
   "outputs": [
    {
     "name": "stdout",
     "output_type": "stream",
     "text": [
      "'data.frame':\t1295 obs. of  19 variables:\n",
      " $ Company          : chr  \"Apple\" \"Apple\" \"HP\" \"Apple\" ...\n",
      " $ TypeName         : chr  \"Ultrabook\" \"Ultrabook\" \"Notebook\" \"Ultrabook\" ...\n",
      " $ Ram              : chr  \"8GB\" \"8GB\" \"8GB\" \"16GB\" ...\n",
      " $ PrimaryMemSize   : chr  \"128GB\" \"128GB\" \"256GB\" \"512GB\" ...\n",
      " $ PrimaryMemType   : chr  \"SSD\" \"Flash Storage\" \"SSD\" \"SSD\" ...\n",
      " $ SecondaryMemory  : int  0 0 0 0 0 0 0 0 0 0 ...\n",
      " $ OpSys            : chr  \"macOS\" \"macOS\" \"No OS\" \"macOS\" ...\n",
      " $ Inches_Binned    : int  2 2 4 4 2 4 4 2 3 3 ...\n",
      " $ ResolutionHeight : int  1600 900 1080 1800 1600 768 1800 900 1080 1080 ...\n",
      " $ DisplayType      : chr  \"Retina Display\" NA \"Full HD\" \"Retina Display\" ...\n",
      " $ Touchscreen      : int  0 0 0 0 0 0 0 0 0 0 ...\n",
      " $ IPS_Panel        : int  1 0 0 1 1 0 1 0 0 1 ...\n",
      " $ RetinaDisplay    : int  1 0 0 1 1 0 1 0 0 0 ...\n",
      " $ CpuBrand         : chr  \"Intel\" \"Intel\" \"Intel\" \"Intel\" ...\n",
      " $ CpuClockSpeed_GHz: num  5 5 5 7 5 9 7 5 7 5 ...\n",
      " $ Ram_GB           : int  8 8 8 16 8 4 16 8 16 8 ...\n",
      " $ Gpu_Brand        : chr  \"Intel\" \"Intel\" \"Intel\" \"AMD\" ...\n",
      " $ Gpu_Product      : chr  \"Iris\" \"HD\" \"HD\" \"Radeon\" ...\n",
      " $ Weight_kg        : num  1.37 1.34 1.86 1.83 1.37 2.1 2.04 1.34 1.3 1.6 ...\n"
     ]
    }
   ],
   "source": [
    "str(X)"
   ]
  },
  {
   "cell_type": "code",
   "execution_count": null,
   "id": "72e3b746-a96f-4233-a0a1-b15e57501be4",
   "metadata": {},
   "outputs": [],
   "source": []
  },
  {
   "cell_type": "code",
   "execution_count": 8,
   "id": "b1ac93be-c9ec-424f-b036-21032efecd10",
   "metadata": {},
   "outputs": [
    {
     "name": "stderr",
     "output_type": "stream",
     "text": [
      "Warning message:\n",
      "“\u001b[1m\u001b[22m\u001b[33m!\u001b[39m There are new levels in a factor: `NA`.”\n"
     ]
    },
    {
     "name": "stdout",
     "output_type": "stream",
     "text": [
      "\u001b[90m# A tibble: 1,295 × 63\u001b[39m\n",
      "   SecondaryMemory Inches_Binned ResolutionHeight Touchscreen IPS_Panel\n",
      "             \u001b[3m\u001b[90m<dbl>\u001b[39m\u001b[23m         \u001b[3m\u001b[90m<dbl>\u001b[39m\u001b[23m            \u001b[3m\u001b[90m<dbl>\u001b[39m\u001b[23m       \u001b[3m\u001b[90m<dbl>\u001b[39m\u001b[23m     \u001b[3m\u001b[90m<dbl>\u001b[39m\u001b[23m\n",
      "\u001b[90m 1\u001b[39m               0          1.72             5.61           0      2.23\n",
      "\u001b[90m 2\u001b[39m               0          1.72             3.16           0      0   \n",
      "\u001b[90m 3\u001b[39m               0          3.44             3.79           0      0   \n",
      "\u001b[90m 4\u001b[39m               0          3.44             6.32           0      2.23\n",
      "\u001b[90m 5\u001b[39m               0          1.72             5.61           0      2.23\n",
      "\u001b[90m 6\u001b[39m               0          3.44             2.69           0      0   \n",
      "\u001b[90m 7\u001b[39m               0          3.44             6.32           0      2.23\n",
      "\u001b[90m 8\u001b[39m               0          1.72             3.16           0      0   \n",
      "\u001b[90m 9\u001b[39m               0          2.58             3.79           0      0   \n",
      "\u001b[90m10\u001b[39m               0          2.58             3.79           0      2.23\n",
      "\u001b[90m# ℹ 1,285 more rows\u001b[39m\n",
      "\u001b[90m# ℹ 58 more variables: RetinaDisplay <dbl>, CpuClockSpeed_GHz <dbl>,\u001b[39m\n",
      "\u001b[90m#   Ram_GB <dbl>, Weight_kg <dbl>, Company_Apple <dbl>, Company_Asus <dbl>,\u001b[39m\n",
      "\u001b[90m#   Company_Dell <dbl>, Company_HP <dbl>, Company_Lenovo <dbl>,\u001b[39m\n",
      "\u001b[90m#   Company_MSI <dbl>, Company_Other <dbl>, Company_Toshiba <dbl>,\u001b[39m\n",
      "\u001b[90m#   TypeName_Gaming <dbl>, TypeName_Netbook <dbl>, TypeName_Notebook <dbl>,\u001b[39m\n",
      "\u001b[90m#   TypeName_Ultrabook <dbl>, TypeName_Workstation <dbl>, Ram_X16GB <dbl>, …\u001b[39m\n"
     ]
    }
   ],
   "source": [
    "# Specify the preprocessing steps using recipes\n",
    "recipe <- recipe(~ ., data = X) %>%\n",
    "  # Step to encode categorical variables\n",
    "  step_dummy(all_nominal()) %>%\n",
    "  # Step to scale numerical variables\n",
    "  step_scale(all_numeric())\n",
    "\n",
    "# Fit the recipe to your data\n",
    "processed_X <- prep(recipe, data = X)\n",
    "\n",
    "# Extract the preprocessed data\n",
    "processed_X <- bake(processed_X, new_data = NULL)\n",
    "\n",
    "# View the preprocessed data\n",
    "print(processed_X)\n"
   ]
  },
  {
   "cell_type": "code",
   "execution_count": 9,
   "id": "82bc953f-cd5b-4eb0-9a87-56a873b0b026",
   "metadata": {},
   "outputs": [
    {
     "data": {
      "text/html": [
       "<style>\n",
       ".list-inline {list-style: none; margin:0; padding: 0}\n",
       ".list-inline>li {display: inline-block}\n",
       ".list-inline>li:not(:last-child)::after {content: \"\\00b7\"; padding: 0 .5ex}\n",
       "</style>\n",
       "<ol class=list-inline><li>'SecondaryMemory'</li><li>'Inches_Binned'</li><li>'ResolutionHeight'</li><li>'Touchscreen'</li><li>'IPS_Panel'</li><li>'RetinaDisplay'</li><li>'CpuClockSpeed_GHz'</li><li>'Ram_GB'</li><li>'Weight_kg'</li><li>'Company_Apple'</li><li>'Company_Asus'</li><li>'Company_Dell'</li><li>'Company_HP'</li><li>'Company_Lenovo'</li><li>'Company_MSI'</li><li>'Company_Other'</li><li>'Company_Toshiba'</li><li>'TypeName_Gaming'</li><li>'TypeName_Netbook'</li><li>'TypeName_Notebook'</li><li>'TypeName_Ultrabook'</li><li>'TypeName_Workstation'</li><li>'Ram_X16GB'</li><li>'Ram_X24GB'</li><li>'Ram_X2GB'</li><li>'Ram_X32GB'</li><li>'Ram_X4GB'</li><li>'Ram_X64GB'</li><li>'Ram_X6GB'</li><li>'Ram_X8GB'</li><li>'PrimaryMemSize_X128GB'</li><li>'PrimaryMemSize_X16GB'</li><li>'PrimaryMemSize_X180GB'</li><li>'PrimaryMemSize_X1TB'</li><li>'PrimaryMemSize_X240GB'</li><li>'PrimaryMemSize_X256GB'</li><li>'PrimaryMemSize_X2TB'</li><li>'PrimaryMemSize_X32GB'</li><li>'PrimaryMemSize_X500GB'</li><li>'PrimaryMemSize_X508GB'</li><li>'PrimaryMemSize_X512GB'</li><li>'PrimaryMemSize_X64GB'</li><li>'PrimaryMemSize_X8GB'</li><li>'PrimaryMemType_HDD'</li><li>'PrimaryMemType_Hybrid'</li><li>'PrimaryMemType_SSD'</li><li>'OpSys_Linux'</li><li>'OpSys_macOS'</li><li>'OpSys_No.OS'</li><li>'OpSys_Windows.10'</li><li>'OpSys_Windows.7'</li><li>'DisplayType_Full.HD'</li><li>'DisplayType_Quad.HD.'</li><li>'DisplayType_Retina.Display'</li><li>'CpuBrand_Intel'</li><li>'Gpu_Brand_Intel'</li><li>'Gpu_Brand_Nvidia'</li><li>'Gpu_Product_HD'</li><li>'Gpu_Product_Iris'</li><li>'Gpu_Product_Quadro'</li><li>'Gpu_Product_R17M.M1.70'</li><li>'Gpu_Product_Radeon'</li><li>'Gpu_Product_UHD'</li></ol>\n"
      ],
      "text/latex": [
       "\\begin{enumerate*}\n",
       "\\item 'SecondaryMemory'\n",
       "\\item 'Inches\\_Binned'\n",
       "\\item 'ResolutionHeight'\n",
       "\\item 'Touchscreen'\n",
       "\\item 'IPS\\_Panel'\n",
       "\\item 'RetinaDisplay'\n",
       "\\item 'CpuClockSpeed\\_GHz'\n",
       "\\item 'Ram\\_GB'\n",
       "\\item 'Weight\\_kg'\n",
       "\\item 'Company\\_Apple'\n",
       "\\item 'Company\\_Asus'\n",
       "\\item 'Company\\_Dell'\n",
       "\\item 'Company\\_HP'\n",
       "\\item 'Company\\_Lenovo'\n",
       "\\item 'Company\\_MSI'\n",
       "\\item 'Company\\_Other'\n",
       "\\item 'Company\\_Toshiba'\n",
       "\\item 'TypeName\\_Gaming'\n",
       "\\item 'TypeName\\_Netbook'\n",
       "\\item 'TypeName\\_Notebook'\n",
       "\\item 'TypeName\\_Ultrabook'\n",
       "\\item 'TypeName\\_Workstation'\n",
       "\\item 'Ram\\_X16GB'\n",
       "\\item 'Ram\\_X24GB'\n",
       "\\item 'Ram\\_X2GB'\n",
       "\\item 'Ram\\_X32GB'\n",
       "\\item 'Ram\\_X4GB'\n",
       "\\item 'Ram\\_X64GB'\n",
       "\\item 'Ram\\_X6GB'\n",
       "\\item 'Ram\\_X8GB'\n",
       "\\item 'PrimaryMemSize\\_X128GB'\n",
       "\\item 'PrimaryMemSize\\_X16GB'\n",
       "\\item 'PrimaryMemSize\\_X180GB'\n",
       "\\item 'PrimaryMemSize\\_X1TB'\n",
       "\\item 'PrimaryMemSize\\_X240GB'\n",
       "\\item 'PrimaryMemSize\\_X256GB'\n",
       "\\item 'PrimaryMemSize\\_X2TB'\n",
       "\\item 'PrimaryMemSize\\_X32GB'\n",
       "\\item 'PrimaryMemSize\\_X500GB'\n",
       "\\item 'PrimaryMemSize\\_X508GB'\n",
       "\\item 'PrimaryMemSize\\_X512GB'\n",
       "\\item 'PrimaryMemSize\\_X64GB'\n",
       "\\item 'PrimaryMemSize\\_X8GB'\n",
       "\\item 'PrimaryMemType\\_HDD'\n",
       "\\item 'PrimaryMemType\\_Hybrid'\n",
       "\\item 'PrimaryMemType\\_SSD'\n",
       "\\item 'OpSys\\_Linux'\n",
       "\\item 'OpSys\\_macOS'\n",
       "\\item 'OpSys\\_No.OS'\n",
       "\\item 'OpSys\\_Windows.10'\n",
       "\\item 'OpSys\\_Windows.7'\n",
       "\\item 'DisplayType\\_Full.HD'\n",
       "\\item 'DisplayType\\_Quad.HD.'\n",
       "\\item 'DisplayType\\_Retina.Display'\n",
       "\\item 'CpuBrand\\_Intel'\n",
       "\\item 'Gpu\\_Brand\\_Intel'\n",
       "\\item 'Gpu\\_Brand\\_Nvidia'\n",
       "\\item 'Gpu\\_Product\\_HD'\n",
       "\\item 'Gpu\\_Product\\_Iris'\n",
       "\\item 'Gpu\\_Product\\_Quadro'\n",
       "\\item 'Gpu\\_Product\\_R17M.M1.70'\n",
       "\\item 'Gpu\\_Product\\_Radeon'\n",
       "\\item 'Gpu\\_Product\\_UHD'\n",
       "\\end{enumerate*}\n"
      ],
      "text/markdown": [
       "1. 'SecondaryMemory'\n",
       "2. 'Inches_Binned'\n",
       "3. 'ResolutionHeight'\n",
       "4. 'Touchscreen'\n",
       "5. 'IPS_Panel'\n",
       "6. 'RetinaDisplay'\n",
       "7. 'CpuClockSpeed_GHz'\n",
       "8. 'Ram_GB'\n",
       "9. 'Weight_kg'\n",
       "10. 'Company_Apple'\n",
       "11. 'Company_Asus'\n",
       "12. 'Company_Dell'\n",
       "13. 'Company_HP'\n",
       "14. 'Company_Lenovo'\n",
       "15. 'Company_MSI'\n",
       "16. 'Company_Other'\n",
       "17. 'Company_Toshiba'\n",
       "18. 'TypeName_Gaming'\n",
       "19. 'TypeName_Netbook'\n",
       "20. 'TypeName_Notebook'\n",
       "21. 'TypeName_Ultrabook'\n",
       "22. 'TypeName_Workstation'\n",
       "23. 'Ram_X16GB'\n",
       "24. 'Ram_X24GB'\n",
       "25. 'Ram_X2GB'\n",
       "26. 'Ram_X32GB'\n",
       "27. 'Ram_X4GB'\n",
       "28. 'Ram_X64GB'\n",
       "29. 'Ram_X6GB'\n",
       "30. 'Ram_X8GB'\n",
       "31. 'PrimaryMemSize_X128GB'\n",
       "32. 'PrimaryMemSize_X16GB'\n",
       "33. 'PrimaryMemSize_X180GB'\n",
       "34. 'PrimaryMemSize_X1TB'\n",
       "35. 'PrimaryMemSize_X240GB'\n",
       "36. 'PrimaryMemSize_X256GB'\n",
       "37. 'PrimaryMemSize_X2TB'\n",
       "38. 'PrimaryMemSize_X32GB'\n",
       "39. 'PrimaryMemSize_X500GB'\n",
       "40. 'PrimaryMemSize_X508GB'\n",
       "41. 'PrimaryMemSize_X512GB'\n",
       "42. 'PrimaryMemSize_X64GB'\n",
       "43. 'PrimaryMemSize_X8GB'\n",
       "44. 'PrimaryMemType_HDD'\n",
       "45. 'PrimaryMemType_Hybrid'\n",
       "46. 'PrimaryMemType_SSD'\n",
       "47. 'OpSys_Linux'\n",
       "48. 'OpSys_macOS'\n",
       "49. 'OpSys_No.OS'\n",
       "50. 'OpSys_Windows.10'\n",
       "51. 'OpSys_Windows.7'\n",
       "52. 'DisplayType_Full.HD'\n",
       "53. 'DisplayType_Quad.HD.'\n",
       "54. 'DisplayType_Retina.Display'\n",
       "55. 'CpuBrand_Intel'\n",
       "56. 'Gpu_Brand_Intel'\n",
       "57. 'Gpu_Brand_Nvidia'\n",
       "58. 'Gpu_Product_HD'\n",
       "59. 'Gpu_Product_Iris'\n",
       "60. 'Gpu_Product_Quadro'\n",
       "61. 'Gpu_Product_R17M.M1.70'\n",
       "62. 'Gpu_Product_Radeon'\n",
       "63. 'Gpu_Product_UHD'\n",
       "\n",
       "\n"
      ],
      "text/plain": [
       " [1] \"SecondaryMemory\"            \"Inches_Binned\"             \n",
       " [3] \"ResolutionHeight\"           \"Touchscreen\"               \n",
       " [5] \"IPS_Panel\"                  \"RetinaDisplay\"             \n",
       " [7] \"CpuClockSpeed_GHz\"          \"Ram_GB\"                    \n",
       " [9] \"Weight_kg\"                  \"Company_Apple\"             \n",
       "[11] \"Company_Asus\"               \"Company_Dell\"              \n",
       "[13] \"Company_HP\"                 \"Company_Lenovo\"            \n",
       "[15] \"Company_MSI\"                \"Company_Other\"             \n",
       "[17] \"Company_Toshiba\"            \"TypeName_Gaming\"           \n",
       "[19] \"TypeName_Netbook\"           \"TypeName_Notebook\"         \n",
       "[21] \"TypeName_Ultrabook\"         \"TypeName_Workstation\"      \n",
       "[23] \"Ram_X16GB\"                  \"Ram_X24GB\"                 \n",
       "[25] \"Ram_X2GB\"                   \"Ram_X32GB\"                 \n",
       "[27] \"Ram_X4GB\"                   \"Ram_X64GB\"                 \n",
       "[29] \"Ram_X6GB\"                   \"Ram_X8GB\"                  \n",
       "[31] \"PrimaryMemSize_X128GB\"      \"PrimaryMemSize_X16GB\"      \n",
       "[33] \"PrimaryMemSize_X180GB\"      \"PrimaryMemSize_X1TB\"       \n",
       "[35] \"PrimaryMemSize_X240GB\"      \"PrimaryMemSize_X256GB\"     \n",
       "[37] \"PrimaryMemSize_X2TB\"        \"PrimaryMemSize_X32GB\"      \n",
       "[39] \"PrimaryMemSize_X500GB\"      \"PrimaryMemSize_X508GB\"     \n",
       "[41] \"PrimaryMemSize_X512GB\"      \"PrimaryMemSize_X64GB\"      \n",
       "[43] \"PrimaryMemSize_X8GB\"        \"PrimaryMemType_HDD\"        \n",
       "[45] \"PrimaryMemType_Hybrid\"      \"PrimaryMemType_SSD\"        \n",
       "[47] \"OpSys_Linux\"                \"OpSys_macOS\"               \n",
       "[49] \"OpSys_No.OS\"                \"OpSys_Windows.10\"          \n",
       "[51] \"OpSys_Windows.7\"            \"DisplayType_Full.HD\"       \n",
       "[53] \"DisplayType_Quad.HD.\"       \"DisplayType_Retina.Display\"\n",
       "[55] \"CpuBrand_Intel\"             \"Gpu_Brand_Intel\"           \n",
       "[57] \"Gpu_Brand_Nvidia\"           \"Gpu_Product_HD\"            \n",
       "[59] \"Gpu_Product_Iris\"           \"Gpu_Product_Quadro\"        \n",
       "[61] \"Gpu_Product_R17M.M1.70\"     \"Gpu_Product_Radeon\"        \n",
       "[63] \"Gpu_Product_UHD\"           "
      ]
     },
     "metadata": {},
     "output_type": "display_data"
    }
   ],
   "source": [
    "names(processed_X)"
   ]
  },
  {
   "cell_type": "markdown",
   "id": "6a2b8731-9c72-47dd-ad81-2fc63fd9303d",
   "metadata": {},
   "source": [
    "#### Test train split"
   ]
  },
  {
   "cell_type": "code",
   "execution_count": 12,
   "id": "b7da65c8-e1a2-4404-8b80-cc53fc5942b9",
   "metadata": {},
   "outputs": [],
   "source": [
    "set.seed(123) # for reproducibility\n",
    "trainIndex <- createDataPartition(y, p = .8, \n",
    "                                  list = FALSE, \n",
    "                                  times = 1)\n",
    "X_train <- processed_X[trainIndex, ]\n",
    "y_train <- y[trainIndex]\n",
    "X_test  <- processed_X[-trainIndex, ]\n",
    "y_test  <- y[-trainIndex]"
   ]
  },
  {
   "cell_type": "markdown",
   "id": "30a8bcdb-f81b-4bc8-b74b-7f7bdfc77e90",
   "metadata": {},
   "source": [
    "#### Linear Regression"
   ]
  },
  {
   "cell_type": "code",
   "execution_count": 13,
   "id": "3d55bcd4-6391-4d07-b0a9-b30001ddb1d2",
   "metadata": {},
   "outputs": [
    {
     "data": {
      "text/plain": [
       "\n",
       "Call:\n",
       "lm(formula = y_train ~ ., data = X_train)\n",
       "\n",
       "Residuals:\n",
       "     Min       1Q   Median       3Q      Max \n",
       "-1616.46  -190.46   -41.26   164.72  1615.13 \n",
       "\n",
       "Coefficients: (10 not defined because of singularities)\n",
       "                           Estimate Std. Error t value Pr(>|t|)    \n",
       "(Intercept)                 652.937   1050.800   0.621 0.534560    \n",
       "SecondaryMemory              27.547     19.805   1.391 0.164701    \n",
       "Inches_Binned               -58.984     27.949  -2.110 0.035184 *  \n",
       "ResolutionHeight             89.863    123.876   0.725 0.468439    \n",
       "Touchscreen                  17.152     23.620   0.726 0.467996    \n",
       "IPS_Panel                   -10.822     14.102  -0.767 0.443117    \n",
       "RetinaDisplay               -19.173     56.403  -0.340 0.734015    \n",
       "CpuClockSpeed_GHz           -44.541     28.188  -1.580 0.114535    \n",
       "Ram_GB                      127.202    108.793   1.169 0.242723    \n",
       "Weight_kg                   140.114     27.544   5.087 4.69e-07 ***\n",
       "Company_Apple               -73.908     85.420  -0.865 0.387208    \n",
       "Company_Asus                 33.838     23.225   1.457 0.145583    \n",
       "Company_Dell                 39.582     27.638   1.432 0.152548    \n",
       "Company_HP                   77.821     26.536   2.933 0.003471 ** \n",
       "Company_Lenovo               46.749     27.038   1.729 0.084258 .  \n",
       "Company_MSI                  49.051     17.776   2.759 0.005944 ** \n",
       "Company_Other               119.430     19.501   6.124 1.53e-09 ***\n",
       "Company_Toshiba              56.631     16.974   3.336 0.000894 ***\n",
       "TypeName_Gaming              36.148     34.226   1.056 0.291263    \n",
       "TypeName_Netbook             34.354     30.066   1.143 0.253592    \n",
       "TypeName_Notebook           -66.186     38.960  -1.699 0.089803 .  \n",
       "TypeName_Ultrabook           42.529     27.045   1.573 0.116289    \n",
       "TypeName_Workstation         -5.409     23.850  -0.227 0.820656    \n",
       "Ram_X16GB                    41.000     61.517   0.666 0.505326    \n",
       "Ram_X24GB                    53.602     23.378   2.293 0.022160 *  \n",
       "Ram_X2GB                    -48.855     51.352  -0.951 0.341751    \n",
       "Ram_X32GB                    83.010     58.776   1.412 0.158311    \n",
       "Ram_X4GB                    -74.081     45.360  -1.633 0.102888    \n",
       "Ram_X64GB                    10.683     34.578   0.309 0.757445    \n",
       "Ram_X6GB                    -39.489     17.404  -2.269 0.023576 *  \n",
       "Ram_X8GB                         NA         NA      NA       NA    \n",
       "PrimaryMemSize_X128GB        46.474     75.581   0.615 0.538825    \n",
       "PrimaryMemSize_X16GB        -68.691     43.407  -1.582 0.113997    \n",
       "PrimaryMemSize_X180GB        17.557     17.261   1.017 0.309422    \n",
       "PrimaryMemSize_X1TB         386.587    103.427   3.738 0.000201 ***\n",
       "PrimaryMemSize_X240GB            NA         NA      NA       NA    \n",
       "PrimaryMemSize_X256GB       145.056    105.544   1.374 0.169773    \n",
       "PrimaryMemSize_X2TB         118.736     32.489   3.655 0.000277 ***\n",
       "PrimaryMemSize_X32GB       -107.083     39.462  -2.714 0.006822 ** \n",
       "PrimaryMemSize_X500GB       313.908     84.460   3.717 0.000218 ***\n",
       "PrimaryMemSize_X508GB            NA         NA      NA       NA    \n",
       "PrimaryMemSize_X512GB       144.667     68.546   2.111 0.035172 *  \n",
       "PrimaryMemSize_X64GB        -83.881     37.825  -2.218 0.026908 *  \n",
       "PrimaryMemSize_X8GB              NA         NA      NA       NA    \n",
       "PrimaryMemType_HDD         -464.797    102.071  -4.554 6.23e-06 ***\n",
       "PrimaryMemType_Hybrid            NA         NA      NA       NA    \n",
       "PrimaryMemType_SSD          -41.430     74.613  -0.555 0.578898    \n",
       "OpSys_Linux                -179.108     67.435  -2.656 0.008089 ** \n",
       "OpSys_macOS                      NA         NA      NA       NA    \n",
       "OpSys_No.OS                -219.836     69.581  -3.159 0.001650 ** \n",
       "OpSys_Windows.10           -261.895    115.585  -2.266 0.023770 *  \n",
       "OpSys_Windows.7             -77.854     56.636  -1.375 0.169692    \n",
       "DisplayType_Full.HD         -26.897    140.163  -0.192 0.847879    \n",
       "DisplayType_Quad.HD.        -30.269     35.991  -0.841 0.400629    \n",
       "DisplayType_Retina.Display       NA         NA      NA       NA    \n",
       "CpuBrand_Intel               25.461     19.673   1.294 0.196032    \n",
       "Gpu_Brand_Intel              31.448     35.303   0.891 0.373355    \n",
       "Gpu_Brand_Nvidia             36.957     26.425   1.399 0.162398    \n",
       "Gpu_Product_HD               70.325     27.743   2.535 0.011467 *  \n",
       "Gpu_Product_Iris             38.115     19.561   1.949 0.051754 .  \n",
       "Gpu_Product_Quadro          134.061     23.017   5.824 8.78e-09 ***\n",
       "Gpu_Product_R17M.M1.70           NA         NA      NA       NA    \n",
       "Gpu_Product_Radeon               NA         NA      NA       NA    \n",
       "Gpu_Product_UHD                  NA         NA      NA       NA    \n",
       "---\n",
       "Signif. codes:  0 ‘***’ 0.001 ‘**’ 0.01 ‘*’ 0.05 ‘.’ 0.1 ‘ ’ 1\n",
       "\n",
       "Residual standard error: 343.1 on 691 degrees of freedom\n",
       "  (293 observations deleted due to missingness)\n",
       "Multiple R-squared:  0.766,\tAdjusted R-squared:  0.748 \n",
       "F-statistic: 42.68 on 53 and 691 DF,  p-value: < 2.2e-16\n"
      ]
     },
     "metadata": {},
     "output_type": "display_data"
    },
    {
     "name": "stderr",
     "output_type": "stream",
     "text": [
      "Warning message in predict.lm(lm_model, newdata = X_test):\n",
      "“prediction from rank-deficient fit; attr(*, \"non-estim\") has doubtful cases”\n"
     ]
    },
    {
     "name": "stdout",
     "output_type": "stream",
     "text": [
      "[1] \"Root Mean Squared Error (RMSE): NA\"\n"
     ]
    }
   ],
   "source": [
    "# Perform linear regression\n",
    "lm_model <- lm(y_train ~ ., data = X_train)\n",
    "\n",
    "# Summarize the linear regression model\n",
    "summary(lm_model)\n",
    "\n",
    "# Predictions\n",
    "y_pred <- predict(lm_model, newdata = X_test)\n",
    "\n",
    "# Evaluate the model\n",
    "mse <- mean((y_pred - y_test)^2)\n",
    "rmse <- sqrt(mse)\n",
    "print(paste(\"Root Mean Squared Error (RMSE):\", rmse))"
   ]
  },
  {
   "cell_type": "code",
   "execution_count": null,
   "id": "4675457a-6e69-4546-8364-f9338f996d0c",
   "metadata": {},
   "outputs": [],
   "source": []
  },
  {
   "cell_type": "code",
   "execution_count": null,
   "id": "620b5dc9-8981-4a0f-9e9e-dea485fe12f7",
   "metadata": {},
   "outputs": [],
   "source": []
  }
 ],
 "metadata": {
  "kernelspec": {
   "display_name": "R",
   "language": "R",
   "name": "ir"
  },
  "language_info": {
   "codemirror_mode": "r",
   "file_extension": ".r",
   "mimetype": "text/x-r-source",
   "name": "R",
   "pygments_lexer": "r",
   "version": "4.3.3"
  }
 },
 "nbformat": 4,
 "nbformat_minor": 5
}
