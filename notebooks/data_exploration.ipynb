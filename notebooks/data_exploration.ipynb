{
 "cells": [
  {
   "cell_type": "markdown",
   "id": "67b4cc87-e1e4-4387-8acc-f1e71ecd267a",
   "metadata": {},
   "source": [
    "# Laptop Price Prediction in R"
   ]
  },
  {
   "cell_type": "markdown",
   "id": "a8c7104a-88f7-4626-af6f-d80d4f30e5f4",
   "metadata": {},
   "source": [
    "### Table of Contents"
   ]
  },
  {
   "cell_type": "markdown",
   "id": "48da2304-1053-4889-8b03-09c3409e5220",
   "metadata": {},
   "source": [
    "### Introduction"
   ]
  },
  {
   "cell_type": "markdown",
   "id": "03579d17-63e5-44b7-bb82-2e497b6a4793",
   "metadata": {},
   "source": [
    "This notebook performs data exploration on the laptop price dataset.\n",
    "\n",
    "I performed data wrangling on this dataset in python previously, this is to demonstrate R techniques used"
   ]
  },
  {
   "cell_type": "markdown",
   "id": "fa0ab40a-a22f-4153-8383-cdbae324350c",
   "metadata": {},
   "source": [
    "#### Imports"
   ]
  },
  {
   "cell_type": "code",
   "execution_count": 1,
   "id": "a5898c80-4a4c-4ec1-b7ec-9b7d7bad0b9a",
   "metadata": {},
   "outputs": [],
   "source": [
    "library(IRdisplay)"
   ]
  },
  {
   "cell_type": "code",
   "execution_count": 2,
   "id": "42f57238-809f-4daf-ba3a-545e1c592b71",
   "metadata": {},
   "outputs": [],
   "source": [
    "df <- read.csv(\"../input/laptop_price.csv\")"
   ]
  },
  {
   "cell_type": "markdown",
   "id": "80d8f693-0e5c-47ae-9369-cab8b7abbc52",
   "metadata": {},
   "source": [
    "#### Descriptive Statistics"
   ]
  },
  {
   "cell_type": "code",
   "execution_count": 3,
   "id": "8778e7a0-66fa-42f6-bde5-fb341d680876",
   "metadata": {},
   "outputs": [
    {
     "data": {
      "text/html": [
       "<table class=\"dataframe\">\n",
       "<caption>A data.frame: 6 × 13</caption>\n",
       "<thead>\n",
       "\t<tr><th></th><th scope=col>laptop_ID</th><th scope=col>Company</th><th scope=col>Product</th><th scope=col>TypeName</th><th scope=col>Inches</th><th scope=col>ScreenResolution</th><th scope=col>Cpu</th><th scope=col>Ram</th><th scope=col>Memory</th><th scope=col>Gpu</th><th scope=col>OpSys</th><th scope=col>Weight</th><th scope=col>Price_euros</th></tr>\n",
       "\t<tr><th></th><th scope=col>&lt;int&gt;</th><th scope=col>&lt;chr&gt;</th><th scope=col>&lt;chr&gt;</th><th scope=col>&lt;chr&gt;</th><th scope=col>&lt;dbl&gt;</th><th scope=col>&lt;chr&gt;</th><th scope=col>&lt;chr&gt;</th><th scope=col>&lt;chr&gt;</th><th scope=col>&lt;chr&gt;</th><th scope=col>&lt;chr&gt;</th><th scope=col>&lt;chr&gt;</th><th scope=col>&lt;chr&gt;</th><th scope=col>&lt;dbl&gt;</th></tr>\n",
       "</thead>\n",
       "<tbody>\n",
       "\t<tr><th scope=row>1</th><td>1</td><td>Apple</td><td>MacBook Pro</td><td>Ultrabook</td><td>13.3</td><td>IPS Panel Retina Display 2560x1600</td><td>Intel Core i5 2.3GHz      </td><td>8GB </td><td>128GB SSD          </td><td>Intel Iris Plus Graphics 640</td><td>macOS     </td><td>1.37kg</td><td>1339.69</td></tr>\n",
       "\t<tr><th scope=row>2</th><td>2</td><td>Apple</td><td>Macbook Air</td><td>Ultrabook</td><td>13.3</td><td>1440x900                          </td><td>Intel Core i5 1.8GHz      </td><td>8GB </td><td>128GB Flash Storage</td><td>Intel HD Graphics 6000      </td><td>macOS     </td><td>1.34kg</td><td> 898.94</td></tr>\n",
       "\t<tr><th scope=row>3</th><td>3</td><td>HP   </td><td>250 G6     </td><td>Notebook </td><td>15.6</td><td>Full HD 1920x1080                 </td><td>Intel Core i5 7200U 2.5GHz</td><td>8GB </td><td>256GB SSD          </td><td>Intel HD Graphics 620       </td><td>No OS     </td><td>1.86kg</td><td> 575.00</td></tr>\n",
       "\t<tr><th scope=row>4</th><td>4</td><td>Apple</td><td>MacBook Pro</td><td>Ultrabook</td><td>15.4</td><td>IPS Panel Retina Display 2880x1800</td><td>Intel Core i7 2.7GHz      </td><td>16GB</td><td>512GB SSD          </td><td>AMD Radeon Pro 455          </td><td>macOS     </td><td>1.83kg</td><td>2537.45</td></tr>\n",
       "\t<tr><th scope=row>5</th><td>5</td><td>Apple</td><td>MacBook Pro</td><td>Ultrabook</td><td>13.3</td><td>IPS Panel Retina Display 2560x1600</td><td>Intel Core i5 3.1GHz      </td><td>8GB </td><td>256GB SSD          </td><td>Intel Iris Plus Graphics 650</td><td>macOS     </td><td>1.37kg</td><td>1803.60</td></tr>\n",
       "\t<tr><th scope=row>6</th><td>6</td><td>Acer </td><td>Aspire 3   </td><td>Notebook </td><td>15.6</td><td>1366x768                          </td><td>AMD A9-Series 9420 3GHz   </td><td>4GB </td><td>500GB HDD          </td><td>AMD Radeon R5               </td><td>Windows 10</td><td>2.1kg </td><td> 400.00</td></tr>\n",
       "</tbody>\n",
       "</table>\n"
      ],
      "text/latex": [
       "A data.frame: 6 × 13\n",
       "\\begin{tabular}{r|lllllllllllll}\n",
       "  & laptop\\_ID & Company & Product & TypeName & Inches & ScreenResolution & Cpu & Ram & Memory & Gpu & OpSys & Weight & Price\\_euros\\\\\n",
       "  & <int> & <chr> & <chr> & <chr> & <dbl> & <chr> & <chr> & <chr> & <chr> & <chr> & <chr> & <chr> & <dbl>\\\\\n",
       "\\hline\n",
       "\t1 & 1 & Apple & MacBook Pro & Ultrabook & 13.3 & IPS Panel Retina Display 2560x1600 & Intel Core i5 2.3GHz       & 8GB  & 128GB SSD           & Intel Iris Plus Graphics 640 & macOS      & 1.37kg & 1339.69\\\\\n",
       "\t2 & 2 & Apple & Macbook Air & Ultrabook & 13.3 & 1440x900                           & Intel Core i5 1.8GHz       & 8GB  & 128GB Flash Storage & Intel HD Graphics 6000       & macOS      & 1.34kg &  898.94\\\\\n",
       "\t3 & 3 & HP    & 250 G6      & Notebook  & 15.6 & Full HD 1920x1080                  & Intel Core i5 7200U 2.5GHz & 8GB  & 256GB SSD           & Intel HD Graphics 620        & No OS      & 1.86kg &  575.00\\\\\n",
       "\t4 & 4 & Apple & MacBook Pro & Ultrabook & 15.4 & IPS Panel Retina Display 2880x1800 & Intel Core i7 2.7GHz       & 16GB & 512GB SSD           & AMD Radeon Pro 455           & macOS      & 1.83kg & 2537.45\\\\\n",
       "\t5 & 5 & Apple & MacBook Pro & Ultrabook & 13.3 & IPS Panel Retina Display 2560x1600 & Intel Core i5 3.1GHz       & 8GB  & 256GB SSD           & Intel Iris Plus Graphics 650 & macOS      & 1.37kg & 1803.60\\\\\n",
       "\t6 & 6 & Acer  & Aspire 3    & Notebook  & 15.6 & 1366x768                           & AMD A9-Series 9420 3GHz    & 4GB  & 500GB HDD           & AMD Radeon R5                & Windows 10 & 2.1kg  &  400.00\\\\\n",
       "\\end{tabular}\n"
      ],
      "text/markdown": [
       "\n",
       "A data.frame: 6 × 13\n",
       "\n",
       "| <!--/--> | laptop_ID &lt;int&gt; | Company &lt;chr&gt; | Product &lt;chr&gt; | TypeName &lt;chr&gt; | Inches &lt;dbl&gt; | ScreenResolution &lt;chr&gt; | Cpu &lt;chr&gt; | Ram &lt;chr&gt; | Memory &lt;chr&gt; | Gpu &lt;chr&gt; | OpSys &lt;chr&gt; | Weight &lt;chr&gt; | Price_euros &lt;dbl&gt; |\n",
       "|---|---|---|---|---|---|---|---|---|---|---|---|---|---|\n",
       "| 1 | 1 | Apple | MacBook Pro | Ultrabook | 13.3 | IPS Panel Retina Display 2560x1600 | Intel Core i5 2.3GHz       | 8GB  | 128GB SSD           | Intel Iris Plus Graphics 640 | macOS      | 1.37kg | 1339.69 |\n",
       "| 2 | 2 | Apple | Macbook Air | Ultrabook | 13.3 | 1440x900                           | Intel Core i5 1.8GHz       | 8GB  | 128GB Flash Storage | Intel HD Graphics 6000       | macOS      | 1.34kg |  898.94 |\n",
       "| 3 | 3 | HP    | 250 G6      | Notebook  | 15.6 | Full HD 1920x1080                  | Intel Core i5 7200U 2.5GHz | 8GB  | 256GB SSD           | Intel HD Graphics 620        | No OS      | 1.86kg |  575.00 |\n",
       "| 4 | 4 | Apple | MacBook Pro | Ultrabook | 15.4 | IPS Panel Retina Display 2880x1800 | Intel Core i7 2.7GHz       | 16GB | 512GB SSD           | AMD Radeon Pro 455           | macOS      | 1.83kg | 2537.45 |\n",
       "| 5 | 5 | Apple | MacBook Pro | Ultrabook | 13.3 | IPS Panel Retina Display 2560x1600 | Intel Core i5 3.1GHz       | 8GB  | 256GB SSD           | Intel Iris Plus Graphics 650 | macOS      | 1.37kg | 1803.60 |\n",
       "| 6 | 6 | Acer  | Aspire 3    | Notebook  | 15.6 | 1366x768                           | AMD A9-Series 9420 3GHz    | 4GB  | 500GB HDD           | AMD Radeon R5                | Windows 10 | 2.1kg  |  400.00 |\n",
       "\n"
      ],
      "text/plain": [
       "  laptop_ID Company Product     TypeName  Inches\n",
       "1 1         Apple   MacBook Pro Ultrabook 13.3  \n",
       "2 2         Apple   Macbook Air Ultrabook 13.3  \n",
       "3 3         HP      250 G6      Notebook  15.6  \n",
       "4 4         Apple   MacBook Pro Ultrabook 15.4  \n",
       "5 5         Apple   MacBook Pro Ultrabook 13.3  \n",
       "6 6         Acer    Aspire 3    Notebook  15.6  \n",
       "  ScreenResolution                   Cpu                        Ram \n",
       "1 IPS Panel Retina Display 2560x1600 Intel Core i5 2.3GHz       8GB \n",
       "2 1440x900                           Intel Core i5 1.8GHz       8GB \n",
       "3 Full HD 1920x1080                  Intel Core i5 7200U 2.5GHz 8GB \n",
       "4 IPS Panel Retina Display 2880x1800 Intel Core i7 2.7GHz       16GB\n",
       "5 IPS Panel Retina Display 2560x1600 Intel Core i5 3.1GHz       8GB \n",
       "6 1366x768                           AMD A9-Series 9420 3GHz    4GB \n",
       "  Memory              Gpu                          OpSys      Weight\n",
       "1 128GB SSD           Intel Iris Plus Graphics 640 macOS      1.37kg\n",
       "2 128GB Flash Storage Intel HD Graphics 6000       macOS      1.34kg\n",
       "3 256GB SSD           Intel HD Graphics 620        No OS      1.86kg\n",
       "4 512GB SSD           AMD Radeon Pro 455           macOS      1.83kg\n",
       "5 256GB SSD           Intel Iris Plus Graphics 650 macOS      1.37kg\n",
       "6 500GB HDD           AMD Radeon R5                Windows 10 2.1kg \n",
       "  Price_euros\n",
       "1 1339.69    \n",
       "2  898.94    \n",
       "3  575.00    \n",
       "4 2537.45    \n",
       "5 1803.60    \n",
       "6  400.00    "
      ]
     },
     "metadata": {},
     "output_type": "display_data"
    }
   ],
   "source": [
    "head(df)"
   ]
  },
  {
   "cell_type": "code",
   "execution_count": 4,
   "id": "d9e14de1-3ef1-44fe-af96-be8bc3b5c1ee",
   "metadata": {},
   "outputs": [
    {
     "data": {
      "text/plain": [
       "   laptop_ID        Company            Product            TypeName        \n",
       " Min.   :   1.0   Length:1303        Length:1303        Length:1303       \n",
       " 1st Qu.: 331.5   Class :character   Class :character   Class :character  \n",
       " Median : 659.0   Mode  :character   Mode  :character   Mode  :character  \n",
       " Mean   : 660.2                                                           \n",
       " 3rd Qu.: 990.5                                                           \n",
       " Max.   :1320.0                                                           \n",
       "     Inches      ScreenResolution       Cpu                Ram           \n",
       " Min.   :10.10   Length:1303        Length:1303        Length:1303       \n",
       " 1st Qu.:14.00   Class :character   Class :character   Class :character  \n",
       " Median :15.60   Mode  :character   Mode  :character   Mode  :character  \n",
       " Mean   :15.02                                                           \n",
       " 3rd Qu.:15.60                                                           \n",
       " Max.   :18.40                                                           \n",
       "    Memory              Gpu               OpSys              Weight         \n",
       " Length:1303        Length:1303        Length:1303        Length:1303       \n",
       " Class :character   Class :character   Class :character   Class :character  \n",
       " Mode  :character   Mode  :character   Mode  :character   Mode  :character  \n",
       "                                                                            \n",
       "                                                                            \n",
       "                                                                            \n",
       "  Price_euros  \n",
       " Min.   : 174  \n",
       " 1st Qu.: 599  \n",
       " Median : 977  \n",
       " Mean   :1124  \n",
       " 3rd Qu.:1488  \n",
       " Max.   :6099  "
      ]
     },
     "metadata": {},
     "output_type": "display_data"
    }
   ],
   "source": [
    "summary(df)"
   ]
  },
  {
   "cell_type": "code",
   "execution_count": 5,
   "id": "574d3542-38ec-4212-818a-e3219cdd62b8",
   "metadata": {},
   "outputs": [
    {
     "data": {
      "text/html": [
       "<style>\n",
       ".list-inline {list-style: none; margin:0; padding: 0}\n",
       ".list-inline>li {display: inline-block}\n",
       ".list-inline>li:not(:last-child)::after {content: \"\\00b7\"; padding: 0 .5ex}\n",
       "</style>\n",
       "<ol class=list-inline><li>1303</li><li>13</li></ol>\n"
      ],
      "text/latex": [
       "\\begin{enumerate*}\n",
       "\\item 1303\n",
       "\\item 13\n",
       "\\end{enumerate*}\n"
      ],
      "text/markdown": [
       "1. 1303\n",
       "2. 13\n",
       "\n",
       "\n"
      ],
      "text/plain": [
       "[1] 1303   13"
      ]
     },
     "metadata": {},
     "output_type": "display_data"
    }
   ],
   "source": [
    "# data shape\n",
    "dim(df)"
   ]
  },
  {
   "cell_type": "markdown",
   "id": "4bac3376-79a2-469d-937d-45c114c05c23",
   "metadata": {},
   "source": [
    "#### Null values"
   ]
  },
  {
   "cell_type": "code",
   "execution_count": 6,
   "id": "cdfb95c5-ef1d-4bf0-b673-052a251e049d",
   "metadata": {},
   "outputs": [
    {
     "data": {
      "text/html": [
       "<style>\n",
       ".dl-inline {width: auto; margin:0; padding: 0}\n",
       ".dl-inline>dt, .dl-inline>dd {float: none; width: auto; display: inline-block}\n",
       ".dl-inline>dt::after {content: \":\\0020\"; padding-right: .5ex}\n",
       ".dl-inline>dt:not(:first-of-type) {padding-left: .5ex}\n",
       "</style><dl class=dl-inline><dt>laptop_ID</dt><dd>0</dd><dt>Company</dt><dd>0</dd><dt>Product</dt><dd>0</dd><dt>TypeName</dt><dd>0</dd><dt>Inches</dt><dd>0</dd><dt>ScreenResolution</dt><dd>0</dd><dt>Cpu</dt><dd>0</dd><dt>Ram</dt><dd>0</dd><dt>Memory</dt><dd>0</dd><dt>Gpu</dt><dd>0</dd><dt>OpSys</dt><dd>0</dd><dt>Weight</dt><dd>0</dd><dt>Price_euros</dt><dd>0</dd></dl>\n"
      ],
      "text/latex": [
       "\\begin{description*}\n",
       "\\item[laptop\\textbackslash{}\\_ID] 0\n",
       "\\item[Company] 0\n",
       "\\item[Product] 0\n",
       "\\item[TypeName] 0\n",
       "\\item[Inches] 0\n",
       "\\item[ScreenResolution] 0\n",
       "\\item[Cpu] 0\n",
       "\\item[Ram] 0\n",
       "\\item[Memory] 0\n",
       "\\item[Gpu] 0\n",
       "\\item[OpSys] 0\n",
       "\\item[Weight] 0\n",
       "\\item[Price\\textbackslash{}\\_euros] 0\n",
       "\\end{description*}\n"
      ],
      "text/markdown": [
       "laptop_ID\n",
       ":   0Company\n",
       ":   0Product\n",
       ":   0TypeName\n",
       ":   0Inches\n",
       ":   0ScreenResolution\n",
       ":   0Cpu\n",
       ":   0Ram\n",
       ":   0Memory\n",
       ":   0Gpu\n",
       ":   0OpSys\n",
       ":   0Weight\n",
       ":   0Price_euros\n",
       ":   0\n",
       "\n"
      ],
      "text/plain": [
       "       laptop_ID          Company          Product         TypeName \n",
       "               0                0                0                0 \n",
       "          Inches ScreenResolution              Cpu              Ram \n",
       "               0                0                0                0 \n",
       "          Memory              Gpu            OpSys           Weight \n",
       "               0                0                0                0 \n",
       "     Price_euros \n",
       "               0 "
      ]
     },
     "metadata": {},
     "output_type": "display_data"
    }
   ],
   "source": [
    "colSums(is.na(df))"
   ]
  },
  {
   "cell_type": "markdown",
   "id": "02c13330-53de-4728-a033-7ca88a346966",
   "metadata": {},
   "source": [
    "#### Null values in a table"
   ]
  },
  {
   "cell_type": "markdown",
   "id": "f2ca1ca9-d278-49dc-a480-ea2e186bc4af",
   "metadata": {},
   "source": [
    "null_counts <- colSums(is.na(df))\n",
    "display(data.frame(Null_Count = null_counts))"
   ]
  },
  {
   "cell_type": "markdown",
   "id": "4babc910-f76e-479b-be83-27f3f4802c49",
   "metadata": {},
   "source": [
    "### Feature Exploration (some wrangling)"
   ]
  },
  {
   "cell_type": "markdown",
   "id": "d75c050f-f083-49a9-92a1-bb17cbd2a188",
   "metadata": {},
   "source": [
    "Features are explored in sequence."
   ]
  },
  {
   "cell_type": "code",
   "execution_count": 7,
   "id": "adc95080-ce37-45a2-b499-9b3c06ab4b79",
   "metadata": {},
   "outputs": [
    {
     "data": {
      "text/html": [
       "<style>\n",
       ".list-inline {list-style: none; margin:0; padding: 0}\n",
       ".list-inline>li {display: inline-block}\n",
       ".list-inline>li:not(:last-child)::after {content: \"\\00b7\"; padding: 0 .5ex}\n",
       "</style>\n",
       "<ol class=list-inline><li>'laptop_ID'</li><li>'Company'</li><li>'Product'</li><li>'TypeName'</li><li>'Inches'</li><li>'ScreenResolution'</li><li>'Cpu'</li><li>'Ram'</li><li>'Memory'</li><li>'Gpu'</li><li>'OpSys'</li><li>'Weight'</li><li>'Price_euros'</li></ol>\n"
      ],
      "text/latex": [
       "\\begin{enumerate*}\n",
       "\\item 'laptop\\_ID'\n",
       "\\item 'Company'\n",
       "\\item 'Product'\n",
       "\\item 'TypeName'\n",
       "\\item 'Inches'\n",
       "\\item 'ScreenResolution'\n",
       "\\item 'Cpu'\n",
       "\\item 'Ram'\n",
       "\\item 'Memory'\n",
       "\\item 'Gpu'\n",
       "\\item 'OpSys'\n",
       "\\item 'Weight'\n",
       "\\item 'Price\\_euros'\n",
       "\\end{enumerate*}\n"
      ],
      "text/markdown": [
       "1. 'laptop_ID'\n",
       "2. 'Company'\n",
       "3. 'Product'\n",
       "4. 'TypeName'\n",
       "5. 'Inches'\n",
       "6. 'ScreenResolution'\n",
       "7. 'Cpu'\n",
       "8. 'Ram'\n",
       "9. 'Memory'\n",
       "10. 'Gpu'\n",
       "11. 'OpSys'\n",
       "12. 'Weight'\n",
       "13. 'Price_euros'\n",
       "\n",
       "\n"
      ],
      "text/plain": [
       " [1] \"laptop_ID\"        \"Company\"          \"Product\"          \"TypeName\"        \n",
       " [5] \"Inches\"           \"ScreenResolution\" \"Cpu\"              \"Ram\"             \n",
       " [9] \"Memory\"           \"Gpu\"              \"OpSys\"            \"Weight\"          \n",
       "[13] \"Price_euros\"     "
      ]
     },
     "metadata": {},
     "output_type": "display_data"
    }
   ],
   "source": [
    "names(df)"
   ]
  },
  {
   "cell_type": "markdown",
   "id": "12387f69-6124-4915-9859-b6ef8cfa1c3d",
   "metadata": {},
   "source": [
    "#### Feature: Laptop_ID"
   ]
  },
  {
   "cell_type": "markdown",
   "id": "c6142d2d-0556-4451-906b-51125e06121b",
   "metadata": {},
   "source": [
    "Each entry is unique but some values are skipped."
   ]
  },
  {
   "cell_type": "code",
   "execution_count": 8,
   "id": "9a326546-74db-4607-ae94-a2d62bd5f0e1",
   "metadata": {},
   "outputs": [
    {
     "data": {
      "text/html": [
       "1303"
      ],
      "text/latex": [
       "1303"
      ],
      "text/markdown": [
       "1303"
      ],
      "text/plain": [
       "[1] 1303"
      ]
     },
     "metadata": {},
     "output_type": "display_data"
    }
   ],
   "source": [
    "length(unique(df$laptop_ID))"
   ]
  },
  {
   "cell_type": "code",
   "execution_count": 9,
   "id": "325869df-01f4-467f-8cbc-55f254c1ee9c",
   "metadata": {},
   "outputs": [
    {
     "data": {
      "text/html": [
       "<style>\n",
       ".list-inline {list-style: none; margin:0; padding: 0}\n",
       ".list-inline>li {display: inline-block}\n",
       ".list-inline>li:not(:last-child)::after {content: \"\\00b7\"; padding: 0 .5ex}\n",
       "</style>\n",
       "<ol class=list-inline><li>1315</li><li>1316</li><li>1317</li><li>1318</li><li>1319</li><li>1320</li></ol>\n"
      ],
      "text/latex": [
       "\\begin{enumerate*}\n",
       "\\item 1315\n",
       "\\item 1316\n",
       "\\item 1317\n",
       "\\item 1318\n",
       "\\item 1319\n",
       "\\item 1320\n",
       "\\end{enumerate*}\n"
      ],
      "text/markdown": [
       "1. 1315\n",
       "2. 1316\n",
       "3. 1317\n",
       "4. 1318\n",
       "5. 1319\n",
       "6. 1320\n",
       "\n",
       "\n"
      ],
      "text/plain": [
       "[1] 1315 1316 1317 1318 1319 1320"
      ]
     },
     "metadata": {},
     "output_type": "display_data"
    }
   ],
   "source": [
    "tail(df$laptop_ID)"
   ]
  },
  {
   "cell_type": "markdown",
   "id": "243e0ae6-3b57-422a-af9c-3f4476b9d2e3",
   "metadata": {},
   "source": [
    "#### Dropping Laptop_ID"
   ]
  },
  {
   "cell_type": "code",
   "execution_count": 12,
   "id": "5dc5723b-db31-4e6a-9007-47e1b5ead909",
   "metadata": {},
   "outputs": [],
   "source": [
    "#df <- subset(df, select = -c(0))\n",
    "df = df[, -which(names(df) == \"laptop_ID\")]"
   ]
  },
  {
   "cell_type": "code",
   "execution_count": 13,
   "id": "2e53913c-d144-4ad2-b222-981e8c5b0f12",
   "metadata": {},
   "outputs": [
    {
     "data": {
      "text/html": [
       "<table class=\"dataframe\">\n",
       "<caption>A data.frame: 6 × 12</caption>\n",
       "<thead>\n",
       "\t<tr><th></th><th scope=col>Company</th><th scope=col>Product</th><th scope=col>TypeName</th><th scope=col>Inches</th><th scope=col>ScreenResolution</th><th scope=col>Cpu</th><th scope=col>Ram</th><th scope=col>Memory</th><th scope=col>Gpu</th><th scope=col>OpSys</th><th scope=col>Weight</th><th scope=col>Price_euros</th></tr>\n",
       "\t<tr><th></th><th scope=col>&lt;chr&gt;</th><th scope=col>&lt;chr&gt;</th><th scope=col>&lt;chr&gt;</th><th scope=col>&lt;dbl&gt;</th><th scope=col>&lt;chr&gt;</th><th scope=col>&lt;chr&gt;</th><th scope=col>&lt;chr&gt;</th><th scope=col>&lt;chr&gt;</th><th scope=col>&lt;chr&gt;</th><th scope=col>&lt;chr&gt;</th><th scope=col>&lt;chr&gt;</th><th scope=col>&lt;dbl&gt;</th></tr>\n",
       "</thead>\n",
       "<tbody>\n",
       "\t<tr><th scope=row>1</th><td>Apple</td><td>MacBook Pro</td><td>Ultrabook</td><td>13.3</td><td>IPS Panel Retina Display 2560x1600</td><td>Intel Core i5 2.3GHz      </td><td>8GB </td><td>128GB SSD          </td><td>Intel Iris Plus Graphics 640</td><td>macOS     </td><td>1.37kg</td><td>1339.69</td></tr>\n",
       "\t<tr><th scope=row>2</th><td>Apple</td><td>Macbook Air</td><td>Ultrabook</td><td>13.3</td><td>1440x900                          </td><td>Intel Core i5 1.8GHz      </td><td>8GB </td><td>128GB Flash Storage</td><td>Intel HD Graphics 6000      </td><td>macOS     </td><td>1.34kg</td><td> 898.94</td></tr>\n",
       "\t<tr><th scope=row>3</th><td>HP   </td><td>250 G6     </td><td>Notebook </td><td>15.6</td><td>Full HD 1920x1080                 </td><td>Intel Core i5 7200U 2.5GHz</td><td>8GB </td><td>256GB SSD          </td><td>Intel HD Graphics 620       </td><td>No OS     </td><td>1.86kg</td><td> 575.00</td></tr>\n",
       "\t<tr><th scope=row>4</th><td>Apple</td><td>MacBook Pro</td><td>Ultrabook</td><td>15.4</td><td>IPS Panel Retina Display 2880x1800</td><td>Intel Core i7 2.7GHz      </td><td>16GB</td><td>512GB SSD          </td><td>AMD Radeon Pro 455          </td><td>macOS     </td><td>1.83kg</td><td>2537.45</td></tr>\n",
       "\t<tr><th scope=row>5</th><td>Apple</td><td>MacBook Pro</td><td>Ultrabook</td><td>13.3</td><td>IPS Panel Retina Display 2560x1600</td><td>Intel Core i5 3.1GHz      </td><td>8GB </td><td>256GB SSD          </td><td>Intel Iris Plus Graphics 650</td><td>macOS     </td><td>1.37kg</td><td>1803.60</td></tr>\n",
       "\t<tr><th scope=row>6</th><td>Acer </td><td>Aspire 3   </td><td>Notebook </td><td>15.6</td><td>1366x768                          </td><td>AMD A9-Series 9420 3GHz   </td><td>4GB </td><td>500GB HDD          </td><td>AMD Radeon R5               </td><td>Windows 10</td><td>2.1kg </td><td> 400.00</td></tr>\n",
       "</tbody>\n",
       "</table>\n"
      ],
      "text/latex": [
       "A data.frame: 6 × 12\n",
       "\\begin{tabular}{r|llllllllllll}\n",
       "  & Company & Product & TypeName & Inches & ScreenResolution & Cpu & Ram & Memory & Gpu & OpSys & Weight & Price\\_euros\\\\\n",
       "  & <chr> & <chr> & <chr> & <dbl> & <chr> & <chr> & <chr> & <chr> & <chr> & <chr> & <chr> & <dbl>\\\\\n",
       "\\hline\n",
       "\t1 & Apple & MacBook Pro & Ultrabook & 13.3 & IPS Panel Retina Display 2560x1600 & Intel Core i5 2.3GHz       & 8GB  & 128GB SSD           & Intel Iris Plus Graphics 640 & macOS      & 1.37kg & 1339.69\\\\\n",
       "\t2 & Apple & Macbook Air & Ultrabook & 13.3 & 1440x900                           & Intel Core i5 1.8GHz       & 8GB  & 128GB Flash Storage & Intel HD Graphics 6000       & macOS      & 1.34kg &  898.94\\\\\n",
       "\t3 & HP    & 250 G6      & Notebook  & 15.6 & Full HD 1920x1080                  & Intel Core i5 7200U 2.5GHz & 8GB  & 256GB SSD           & Intel HD Graphics 620        & No OS      & 1.86kg &  575.00\\\\\n",
       "\t4 & Apple & MacBook Pro & Ultrabook & 15.4 & IPS Panel Retina Display 2880x1800 & Intel Core i7 2.7GHz       & 16GB & 512GB SSD           & AMD Radeon Pro 455           & macOS      & 1.83kg & 2537.45\\\\\n",
       "\t5 & Apple & MacBook Pro & Ultrabook & 13.3 & IPS Panel Retina Display 2560x1600 & Intel Core i5 3.1GHz       & 8GB  & 256GB SSD           & Intel Iris Plus Graphics 650 & macOS      & 1.37kg & 1803.60\\\\\n",
       "\t6 & Acer  & Aspire 3    & Notebook  & 15.6 & 1366x768                           & AMD A9-Series 9420 3GHz    & 4GB  & 500GB HDD           & AMD Radeon R5                & Windows 10 & 2.1kg  &  400.00\\\\\n",
       "\\end{tabular}\n"
      ],
      "text/markdown": [
       "\n",
       "A data.frame: 6 × 12\n",
       "\n",
       "| <!--/--> | Company &lt;chr&gt; | Product &lt;chr&gt; | TypeName &lt;chr&gt; | Inches &lt;dbl&gt; | ScreenResolution &lt;chr&gt; | Cpu &lt;chr&gt; | Ram &lt;chr&gt; | Memory &lt;chr&gt; | Gpu &lt;chr&gt; | OpSys &lt;chr&gt; | Weight &lt;chr&gt; | Price_euros &lt;dbl&gt; |\n",
       "|---|---|---|---|---|---|---|---|---|---|---|---|---|\n",
       "| 1 | Apple | MacBook Pro | Ultrabook | 13.3 | IPS Panel Retina Display 2560x1600 | Intel Core i5 2.3GHz       | 8GB  | 128GB SSD           | Intel Iris Plus Graphics 640 | macOS      | 1.37kg | 1339.69 |\n",
       "| 2 | Apple | Macbook Air | Ultrabook | 13.3 | 1440x900                           | Intel Core i5 1.8GHz       | 8GB  | 128GB Flash Storage | Intel HD Graphics 6000       | macOS      | 1.34kg |  898.94 |\n",
       "| 3 | HP    | 250 G6      | Notebook  | 15.6 | Full HD 1920x1080                  | Intel Core i5 7200U 2.5GHz | 8GB  | 256GB SSD           | Intel HD Graphics 620        | No OS      | 1.86kg |  575.00 |\n",
       "| 4 | Apple | MacBook Pro | Ultrabook | 15.4 | IPS Panel Retina Display 2880x1800 | Intel Core i7 2.7GHz       | 16GB | 512GB SSD           | AMD Radeon Pro 455           | macOS      | 1.83kg | 2537.45 |\n",
       "| 5 | Apple | MacBook Pro | Ultrabook | 13.3 | IPS Panel Retina Display 2560x1600 | Intel Core i5 3.1GHz       | 8GB  | 256GB SSD           | Intel Iris Plus Graphics 650 | macOS      | 1.37kg | 1803.60 |\n",
       "| 6 | Acer  | Aspire 3    | Notebook  | 15.6 | 1366x768                           | AMD A9-Series 9420 3GHz    | 4GB  | 500GB HDD           | AMD Radeon R5                | Windows 10 | 2.1kg  |  400.00 |\n",
       "\n"
      ],
      "text/plain": [
       "  Company Product     TypeName  Inches ScreenResolution                  \n",
       "1 Apple   MacBook Pro Ultrabook 13.3   IPS Panel Retina Display 2560x1600\n",
       "2 Apple   Macbook Air Ultrabook 13.3   1440x900                          \n",
       "3 HP      250 G6      Notebook  15.6   Full HD 1920x1080                 \n",
       "4 Apple   MacBook Pro Ultrabook 15.4   IPS Panel Retina Display 2880x1800\n",
       "5 Apple   MacBook Pro Ultrabook 13.3   IPS Panel Retina Display 2560x1600\n",
       "6 Acer    Aspire 3    Notebook  15.6   1366x768                          \n",
       "  Cpu                        Ram  Memory             \n",
       "1 Intel Core i5 2.3GHz       8GB  128GB SSD          \n",
       "2 Intel Core i5 1.8GHz       8GB  128GB Flash Storage\n",
       "3 Intel Core i5 7200U 2.5GHz 8GB  256GB SSD          \n",
       "4 Intel Core i7 2.7GHz       16GB 512GB SSD          \n",
       "5 Intel Core i5 3.1GHz       8GB  256GB SSD          \n",
       "6 AMD A9-Series 9420 3GHz    4GB  500GB HDD          \n",
       "  Gpu                          OpSys      Weight Price_euros\n",
       "1 Intel Iris Plus Graphics 640 macOS      1.37kg 1339.69    \n",
       "2 Intel HD Graphics 6000       macOS      1.34kg  898.94    \n",
       "3 Intel HD Graphics 620        No OS      1.86kg  575.00    \n",
       "4 AMD Radeon Pro 455           macOS      1.83kg 2537.45    \n",
       "5 Intel Iris Plus Graphics 650 macOS      1.37kg 1803.60    \n",
       "6 AMD Radeon R5                Windows 10 2.1kg   400.00    "
      ]
     },
     "metadata": {},
     "output_type": "display_data"
    }
   ],
   "source": [
    "head(df)"
   ]
  },
  {
   "cell_type": "markdown",
   "id": "af131f0c-32a5-4527-a1e5-820a59b006ed",
   "metadata": {},
   "source": [
    "#### Feature: Company"
   ]
  },
  {
   "cell_type": "code",
   "execution_count": 14,
   "id": "e4754b35-247f-4405-bb8d-8df648f86eb1",
   "metadata": {},
   "outputs": [
    {
     "data": {
      "text/html": [
       "19"
      ],
      "text/latex": [
       "19"
      ],
      "text/markdown": [
       "19"
      ],
      "text/plain": [
       "[1] 19"
      ]
     },
     "metadata": {},
     "output_type": "display_data"
    }
   ],
   "source": [
    "length(unique(df$Company))"
   ]
  },
  {
   "cell_type": "code",
   "execution_count": 15,
   "id": "06385f1c-a10e-4bdf-978f-eecffbd4c680",
   "metadata": {},
   "outputs": [
    {
     "data": {
      "text/plain": [
       "\n",
       "     Acer     Apple      Asus     Chuwi      Dell   Fujitsu    Google        HP \n",
       "      103        21       158         3       297         3         3       274 \n",
       "   Huawei    Lenovo        LG  Mediacom Microsoft       MSI     Razer   Samsung \n",
       "        2       297         3         7         6        54         7         9 \n",
       "  Toshiba      Vero    Xiaomi \n",
       "       48         4         4 "
      ]
     },
     "metadata": {},
     "output_type": "display_data"
    }
   ],
   "source": [
    "table(df$Company)"
   ]
  },
  {
   "cell_type": "code",
   "execution_count": 31,
   "id": "8d21b992-ee08-4237-8a40-9af42a4a8b70",
   "metadata": {},
   "outputs": [
    {
     "data": {
      "image/png": "[encoded data removed]",
      "text/plain": [
       "plot without title"
      ]
     },
     "metadata": {
      "image/png": {
       "height": 480,
       "width": 600
      }
     },
     "output_type": "display_data"
    }
   ],
   "source": [
    "barplot(table(df$Company), col=\"lightblue\")"
   ]
  },
  {
   "cell_type": "code",
   "execution_count": 29,
   "id": "cda78aa7-be21-4e39-9c8e-1d9cac738d10",
   "metadata": {},
   "outputs": [
    {
     "data": {
      "image/png": "[encoded data removed]",
      "text/plain": [
       "plot without title"
      ]
     },
     "metadata": {
      "image/png": {
       "height": 480,
       "width": 600
      }
     },
     "output_type": "display_data"
    }
   ],
   "source": [
    "options(repr.plot.width=10, repr.plot.height=8)\n",
    "boxplot(Price_euros ~ Company, data = df, col=\"lightblue\")"
   ]
  },
  {
   "cell_type": "markdown",
   "id": "b3d08705-1f2d-49d9-bb4d-854db23089f6",
   "metadata": {},
   "source": [
    "#### Average price per company"
   ]
  },
  {
   "cell_type": "code",
   "execution_count": 27,
   "id": "75fb438f-9559-43fa-8cae-0117ceed470b",
   "metadata": {},
   "outputs": [
    {
     "data": {
      "text/html": [
       "1123.68699155794"
      ],
      "text/latex": [
       "1123.68699155794"
      ],
      "text/markdown": [
       "1123.68699155794"
      ],
      "text/plain": [
       "[1] 1123.687"
      ]
     },
     "metadata": {},
     "output_type": "display_data"
    }
   ],
   "source": [
    "mean(df$Price_euros)"
   ]
  },
  {
   "cell_type": "code",
   "execution_count": 28,
   "id": "e1372723-2d3d-4df1-ab80-ede66530bcb9",
   "metadata": {},
   "outputs": [
    {
     "data": {
      "text/html": [
       "<table class=\"dataframe\">\n",
       "<caption>A data.frame: 19 × 2</caption>\n",
       "<thead>\n",
       "\t<tr><th scope=col>Company</th><th scope=col>Price_euros</th></tr>\n",
       "\t<tr><th scope=col>&lt;chr&gt;</th><th scope=col>&lt;dbl&gt;</th></tr>\n",
       "</thead>\n",
       "<tbody>\n",
       "\t<tr><td>Acer     </td><td> 626.7758</td></tr>\n",
       "\t<tr><td>Apple    </td><td>1564.1986</td></tr>\n",
       "\t<tr><td>Asus     </td><td>1104.1694</td></tr>\n",
       "\t<tr><td>Chuwi    </td><td> 314.2967</td></tr>\n",
       "\t<tr><td>Dell     </td><td>1186.0690</td></tr>\n",
       "\t<tr><td>Fujitsu  </td><td> 729.0000</td></tr>\n",
       "\t<tr><td>Google   </td><td>1677.6667</td></tr>\n",
       "\t<tr><td>HP       </td><td>1067.7749</td></tr>\n",
       "\t<tr><td>Huawei   </td><td>1424.0000</td></tr>\n",
       "\t<tr><td>Lenovo   </td><td>1086.3844</td></tr>\n",
       "\t<tr><td>LG       </td><td>2099.0000</td></tr>\n",
       "\t<tr><td>Mediacom </td><td> 295.0000</td></tr>\n",
       "\t<tr><td>Microsoft</td><td>1612.3083</td></tr>\n",
       "\t<tr><td>MSI      </td><td>1728.9081</td></tr>\n",
       "\t<tr><td>Razer    </td><td>3346.1429</td></tr>\n",
       "\t<tr><td>Samsung  </td><td>1413.4444</td></tr>\n",
       "\t<tr><td>Toshiba  </td><td>1267.8125</td></tr>\n",
       "\t<tr><td>Vero     </td><td> 217.4250</td></tr>\n",
       "\t<tr><td>Xiaomi   </td><td>1133.4625</td></tr>\n",
       "</tbody>\n",
       "</table>\n"
      ],
      "text/latex": [
       "A data.frame: 19 × 2\n",
       "\\begin{tabular}{ll}\n",
       " Company & Price\\_euros\\\\\n",
       " <chr> & <dbl>\\\\\n",
       "\\hline\n",
       "\t Acer      &  626.7758\\\\\n",
       "\t Apple     & 1564.1986\\\\\n",
       "\t Asus      & 1104.1694\\\\\n",
       "\t Chuwi     &  314.2967\\\\\n",
       "\t Dell      & 1186.0690\\\\\n",
       "\t Fujitsu   &  729.0000\\\\\n",
       "\t Google    & 1677.6667\\\\\n",
       "\t HP        & 1067.7749\\\\\n",
       "\t Huawei    & 1424.0000\\\\\n",
       "\t Lenovo    & 1086.3844\\\\\n",
       "\t LG        & 2099.0000\\\\\n",
       "\t Mediacom  &  295.0000\\\\\n",
       "\t Microsoft & 1612.3083\\\\\n",
       "\t MSI       & 1728.9081\\\\\n",
       "\t Razer     & 3346.1429\\\\\n",
       "\t Samsung   & 1413.4444\\\\\n",
       "\t Toshiba   & 1267.8125\\\\\n",
       "\t Vero      &  217.4250\\\\\n",
       "\t Xiaomi    & 1133.4625\\\\\n",
       "\\end{tabular}\n"
      ],
      "text/markdown": [
       "\n",
       "A data.frame: 19 × 2\n",
       "\n",
       "| Company &lt;chr&gt; | Price_euros &lt;dbl&gt; |\n",
       "|---|---|\n",
       "| Acer      |  626.7758 |\n",
       "| Apple     | 1564.1986 |\n",
       "| Asus      | 1104.1694 |\n",
       "| Chuwi     |  314.2967 |\n",
       "| Dell      | 1186.0690 |\n",
       "| Fujitsu   |  729.0000 |\n",
       "| Google    | 1677.6667 |\n",
       "| HP        | 1067.7749 |\n",
       "| Huawei    | 1424.0000 |\n",
       "| Lenovo    | 1086.3844 |\n",
       "| LG        | 2099.0000 |\n",
       "| Mediacom  |  295.0000 |\n",
       "| Microsoft | 1612.3083 |\n",
       "| MSI       | 1728.9081 |\n",
       "| Razer     | 3346.1429 |\n",
       "| Samsung   | 1413.4444 |\n",
       "| Toshiba   | 1267.8125 |\n",
       "| Vero      |  217.4250 |\n",
       "| Xiaomi    | 1133.4625 |\n",
       "\n"
      ],
      "text/plain": [
       "   Company   Price_euros\n",
       "1  Acer       626.7758  \n",
       "2  Apple     1564.1986  \n",
       "3  Asus      1104.1694  \n",
       "4  Chuwi      314.2967  \n",
       "5  Dell      1186.0690  \n",
       "6  Fujitsu    729.0000  \n",
       "7  Google    1677.6667  \n",
       "8  HP        1067.7749  \n",
       "9  Huawei    1424.0000  \n",
       "10 Lenovo    1086.3844  \n",
       "11 LG        2099.0000  \n",
       "12 Mediacom   295.0000  \n",
       "13 Microsoft 1612.3083  \n",
       "14 MSI       1728.9081  \n",
       "15 Razer     3346.1429  \n",
       "16 Samsung   1413.4444  \n",
       "17 Toshiba   1267.8125  \n",
       "18 Vero       217.4250  \n",
       "19 Xiaomi    1133.4625  "
      ]
     },
     "metadata": {},
     "output_type": "display_data"
    }
   ],
   "source": [
    "aggregate(Price_euros ~ Company, data = df, FUN = mean)"
   ]
  },
  {
   "cell_type": "markdown",
   "id": "9bfdb809-57c6-488a-adbe-4246385c5577",
   "metadata": {},
   "source": [
    "#### Feature: Product"
   ]
  },
  {
   "cell_type": "code",
   "execution_count": null,
   "id": "8194c6d3-5649-4564-b9c4-c630fb0ffdbb",
   "metadata": {},
   "outputs": [],
   "source": []
  }
 ],
 "metadata": {
  "kernelspec": {
   "display_name": "R",
   "language": "R",
   "name": "ir"
  },
  "language_info": {
   "codemirror_mode": "r",
   "file_extension": ".r",
   "mimetype": "text/x-r-source",
   "name": "R",
   "pygments_lexer": "r",
   "version": "4.3.3"
  }
 },
 "nbformat": 4,
 "nbformat_minor": 5
}
