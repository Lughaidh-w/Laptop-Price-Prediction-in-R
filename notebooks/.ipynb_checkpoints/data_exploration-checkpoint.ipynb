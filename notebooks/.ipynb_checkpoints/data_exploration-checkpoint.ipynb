{
 "cells": [
  {
   "cell_type": "markdown",
   "id": "67b4cc87-e1e4-4387-8acc-f1e71ecd267a",
   "metadata": {},
   "source": [
    "# Laptop Price Prediction in R"
   ]
  },
  {
   "cell_type": "markdown",
   "id": "48da2304-1053-4889-8b03-09c3409e5220",
   "metadata": {},
   "source": [
    "### Introduction"
   ]
  },
  {
   "cell_type": "markdown",
   "id": "03579d17-63e5-44b7-bb82-2e497b6a4793",
   "metadata": {},
   "source": [
    "This notebook performs data exploration on the laptop price dataset.\n",
    "\n",
    "I performed data wrangling on this dataset in python previously, this is to demonstrate R techniques used"
   ]
  },
  {
   "cell_type": "markdown",
   "id": "fa0ab40a-a22f-4153-8383-cdbae324350c",
   "metadata": {},
   "source": [
    "#### Imports"
   ]
  },
  {
   "cell_type": "code",
   "execution_count": 13,
   "id": "a5898c80-4a4c-4ec1-b7ec-9b7d7bad0b9a",
   "metadata": {},
   "outputs": [],
   "source": [
    "library(IRdisplay)"
   ]
  },
  {
   "cell_type": "code",
   "execution_count": 14,
   "id": "42f57238-809f-4daf-ba3a-545e1c592b71",
   "metadata": {},
   "outputs": [],
   "source": [
    "df <- read.csv(\"../input/laptop_price.csv\")"
   ]
  },
  {
   "cell_type": "markdown",
   "id": "80d8f693-0e5c-47ae-9369-cab8b7abbc52",
   "metadata": {},
   "source": [
    "#### Descriptive Statistics"
   ]
  },
  {
   "cell_type": "code",
   "execution_count": 15,
   "id": "8778e7a0-66fa-42f6-bde5-fb341d680876",
   "metadata": {},
   "outputs": [
    {
     "data": {
      "text/html": [
       "<table class=\"dataframe\">\n",
       "<caption>A data.frame: 6 × 13</caption>\n",
       "<thead>\n",
       "\t<tr><th></th><th scope=col>laptop_ID</th><th scope=col>Company</th><th scope=col>Product</th><th scope=col>TypeName</th><th scope=col>Inches</th><th scope=col>ScreenResolution</th><th scope=col>Cpu</th><th scope=col>Ram</th><th scope=col>Memory</th><th scope=col>Gpu</th><th scope=col>OpSys</th><th scope=col>Weight</th><th scope=col>Price_euros</th></tr>\n",
       "\t<tr><th></th><th scope=col>&lt;int&gt;</th><th scope=col>&lt;chr&gt;</th><th scope=col>&lt;chr&gt;</th><th scope=col>&lt;chr&gt;</th><th scope=col>&lt;dbl&gt;</th><th scope=col>&lt;chr&gt;</th><th scope=col>&lt;chr&gt;</th><th scope=col>&lt;chr&gt;</th><th scope=col>&lt;chr&gt;</th><th scope=col>&lt;chr&gt;</th><th scope=col>&lt;chr&gt;</th><th scope=col>&lt;chr&gt;</th><th scope=col>&lt;dbl&gt;</th></tr>\n",
       "</thead>\n",
       "<tbody>\n",
       "\t<tr><th scope=row>1</th><td>1</td><td>Apple</td><td>MacBook Pro</td><td>Ultrabook</td><td>13.3</td><td>IPS Panel Retina Display 2560x1600</td><td>Intel Core i5 2.3GHz      </td><td>8GB </td><td>128GB SSD          </td><td>Intel Iris Plus Graphics 640</td><td>macOS     </td><td>1.37kg</td><td>1339.69</td></tr>\n",
       "\t<tr><th scope=row>2</th><td>2</td><td>Apple</td><td>Macbook Air</td><td>Ultrabook</td><td>13.3</td><td>1440x900                          </td><td>Intel Core i5 1.8GHz      </td><td>8GB </td><td>128GB Flash Storage</td><td>Intel HD Graphics 6000      </td><td>macOS     </td><td>1.34kg</td><td> 898.94</td></tr>\n",
       "\t<tr><th scope=row>3</th><td>3</td><td>HP   </td><td>250 G6     </td><td>Notebook </td><td>15.6</td><td>Full HD 1920x1080                 </td><td>Intel Core i5 7200U 2.5GHz</td><td>8GB </td><td>256GB SSD          </td><td>Intel HD Graphics 620       </td><td>No OS     </td><td>1.86kg</td><td> 575.00</td></tr>\n",
       "\t<tr><th scope=row>4</th><td>4</td><td>Apple</td><td>MacBook Pro</td><td>Ultrabook</td><td>15.4</td><td>IPS Panel Retina Display 2880x1800</td><td>Intel Core i7 2.7GHz      </td><td>16GB</td><td>512GB SSD          </td><td>AMD Radeon Pro 455          </td><td>macOS     </td><td>1.83kg</td><td>2537.45</td></tr>\n",
       "\t<tr><th scope=row>5</th><td>5</td><td>Apple</td><td>MacBook Pro</td><td>Ultrabook</td><td>13.3</td><td>IPS Panel Retina Display 2560x1600</td><td>Intel Core i5 3.1GHz      </td><td>8GB </td><td>256GB SSD          </td><td>Intel Iris Plus Graphics 650</td><td>macOS     </td><td>1.37kg</td><td>1803.60</td></tr>\n",
       "\t<tr><th scope=row>6</th><td>6</td><td>Acer </td><td>Aspire 3   </td><td>Notebook </td><td>15.6</td><td>1366x768                          </td><td>AMD A9-Series 9420 3GHz   </td><td>4GB </td><td>500GB HDD          </td><td>AMD Radeon R5               </td><td>Windows 10</td><td>2.1kg </td><td> 400.00</td></tr>\n",
       "</tbody>\n",
       "</table>\n"
      ],
      "text/latex": [
       "A data.frame: 6 × 13\n",
       "\\begin{tabular}{r|lllllllllllll}\n",
       "  & laptop\\_ID & Company & Product & TypeName & Inches & ScreenResolution & Cpu & Ram & Memory & Gpu & OpSys & Weight & Price\\_euros\\\\\n",
       "  & <int> & <chr> & <chr> & <chr> & <dbl> & <chr> & <chr> & <chr> & <chr> & <chr> & <chr> & <chr> & <dbl>\\\\\n",
       "\\hline\n",
       "\t1 & 1 & Apple & MacBook Pro & Ultrabook & 13.3 & IPS Panel Retina Display 2560x1600 & Intel Core i5 2.3GHz       & 8GB  & 128GB SSD           & Intel Iris Plus Graphics 640 & macOS      & 1.37kg & 1339.69\\\\\n",
       "\t2 & 2 & Apple & Macbook Air & Ultrabook & 13.3 & 1440x900                           & Intel Core i5 1.8GHz       & 8GB  & 128GB Flash Storage & Intel HD Graphics 6000       & macOS      & 1.34kg &  898.94\\\\\n",
       "\t3 & 3 & HP    & 250 G6      & Notebook  & 15.6 & Full HD 1920x1080                  & Intel Core i5 7200U 2.5GHz & 8GB  & 256GB SSD           & Intel HD Graphics 620        & No OS      & 1.86kg &  575.00\\\\\n",
       "\t4 & 4 & Apple & MacBook Pro & Ultrabook & 15.4 & IPS Panel Retina Display 2880x1800 & Intel Core i7 2.7GHz       & 16GB & 512GB SSD           & AMD Radeon Pro 455           & macOS      & 1.83kg & 2537.45\\\\\n",
       "\t5 & 5 & Apple & MacBook Pro & Ultrabook & 13.3 & IPS Panel Retina Display 2560x1600 & Intel Core i5 3.1GHz       & 8GB  & 256GB SSD           & Intel Iris Plus Graphics 650 & macOS      & 1.37kg & 1803.60\\\\\n",
       "\t6 & 6 & Acer  & Aspire 3    & Notebook  & 15.6 & 1366x768                           & AMD A9-Series 9420 3GHz    & 4GB  & 500GB HDD           & AMD Radeon R5                & Windows 10 & 2.1kg  &  400.00\\\\\n",
       "\\end{tabular}\n"
      ],
      "text/markdown": [
       "\n",
       "A data.frame: 6 × 13\n",
       "\n",
       "| <!--/--> | laptop_ID &lt;int&gt; | Company &lt;chr&gt; | Product &lt;chr&gt; | TypeName &lt;chr&gt; | Inches &lt;dbl&gt; | ScreenResolution &lt;chr&gt; | Cpu &lt;chr&gt; | Ram &lt;chr&gt; | Memory &lt;chr&gt; | Gpu &lt;chr&gt; | OpSys &lt;chr&gt; | Weight &lt;chr&gt; | Price_euros &lt;dbl&gt; |\n",
       "|---|---|---|---|---|---|---|---|---|---|---|---|---|---|\n",
       "| 1 | 1 | Apple | MacBook Pro | Ultrabook | 13.3 | IPS Panel Retina Display 2560x1600 | Intel Core i5 2.3GHz       | 8GB  | 128GB SSD           | Intel Iris Plus Graphics 640 | macOS      | 1.37kg | 1339.69 |\n",
       "| 2 | 2 | Apple | Macbook Air | Ultrabook | 13.3 | 1440x900                           | Intel Core i5 1.8GHz       | 8GB  | 128GB Flash Storage | Intel HD Graphics 6000       | macOS      | 1.34kg |  898.94 |\n",
       "| 3 | 3 | HP    | 250 G6      | Notebook  | 15.6 | Full HD 1920x1080                  | Intel Core i5 7200U 2.5GHz | 8GB  | 256GB SSD           | Intel HD Graphics 620        | No OS      | 1.86kg |  575.00 |\n",
       "| 4 | 4 | Apple | MacBook Pro | Ultrabook | 15.4 | IPS Panel Retina Display 2880x1800 | Intel Core i7 2.7GHz       | 16GB | 512GB SSD           | AMD Radeon Pro 455           | macOS      | 1.83kg | 2537.45 |\n",
       "| 5 | 5 | Apple | MacBook Pro | Ultrabook | 13.3 | IPS Panel Retina Display 2560x1600 | Intel Core i5 3.1GHz       | 8GB  | 256GB SSD           | Intel Iris Plus Graphics 650 | macOS      | 1.37kg | 1803.60 |\n",
       "| 6 | 6 | Acer  | Aspire 3    | Notebook  | 15.6 | 1366x768                           | AMD A9-Series 9420 3GHz    | 4GB  | 500GB HDD           | AMD Radeon R5                | Windows 10 | 2.1kg  |  400.00 |\n",
       "\n"
      ],
      "text/plain": [
       "  laptop_ID Company Product     TypeName  Inches\n",
       "1 1         Apple   MacBook Pro Ultrabook 13.3  \n",
       "2 2         Apple   Macbook Air Ultrabook 13.3  \n",
       "3 3         HP      250 G6      Notebook  15.6  \n",
       "4 4         Apple   MacBook Pro Ultrabook 15.4  \n",
       "5 5         Apple   MacBook Pro Ultrabook 13.3  \n",
       "6 6         Acer    Aspire 3    Notebook  15.6  \n",
       "  ScreenResolution                   Cpu                        Ram \n",
       "1 IPS Panel Retina Display 2560x1600 Intel Core i5 2.3GHz       8GB \n",
       "2 1440x900                           Intel Core i5 1.8GHz       8GB \n",
       "3 Full HD 1920x1080                  Intel Core i5 7200U 2.5GHz 8GB \n",
       "4 IPS Panel Retina Display 2880x1800 Intel Core i7 2.7GHz       16GB\n",
       "5 IPS Panel Retina Display 2560x1600 Intel Core i5 3.1GHz       8GB \n",
       "6 1366x768                           AMD A9-Series 9420 3GHz    4GB \n",
       "  Memory              Gpu                          OpSys      Weight\n",
       "1 128GB SSD           Intel Iris Plus Graphics 640 macOS      1.37kg\n",
       "2 128GB Flash Storage Intel HD Graphics 6000       macOS      1.34kg\n",
       "3 256GB SSD           Intel HD Graphics 620        No OS      1.86kg\n",
       "4 512GB SSD           AMD Radeon Pro 455           macOS      1.83kg\n",
       "5 256GB SSD           Intel Iris Plus Graphics 650 macOS      1.37kg\n",
       "6 500GB HDD           AMD Radeon R5                Windows 10 2.1kg \n",
       "  Price_euros\n",
       "1 1339.69    \n",
       "2  898.94    \n",
       "3  575.00    \n",
       "4 2537.45    \n",
       "5 1803.60    \n",
       "6  400.00    "
      ]
     },
     "metadata": {},
     "output_type": "display_data"
    }
   ],
   "source": [
    "head(df)"
   ]
  },
  {
   "cell_type": "code",
   "execution_count": 16,
   "id": "d9e14de1-3ef1-44fe-af96-be8bc3b5c1ee",
   "metadata": {},
   "outputs": [
    {
     "data": {
      "text/plain": [
       "   laptop_ID        Company            Product            TypeName        \n",
       " Min.   :   1.0   Length:1303        Length:1303        Length:1303       \n",
       " 1st Qu.: 331.5   Class :character   Class :character   Class :character  \n",
       " Median : 659.0   Mode  :character   Mode  :character   Mode  :character  \n",
       " Mean   : 660.2                                                           \n",
       " 3rd Qu.: 990.5                                                           \n",
       " Max.   :1320.0                                                           \n",
       "     Inches      ScreenResolution       Cpu                Ram           \n",
       " Min.   :10.10   Length:1303        Length:1303        Length:1303       \n",
       " 1st Qu.:14.00   Class :character   Class :character   Class :character  \n",
       " Median :15.60   Mode  :character   Mode  :character   Mode  :character  \n",
       " Mean   :15.02                                                           \n",
       " 3rd Qu.:15.60                                                           \n",
       " Max.   :18.40                                                           \n",
       "    Memory              Gpu               OpSys              Weight         \n",
       " Length:1303        Length:1303        Length:1303        Length:1303       \n",
       " Class :character   Class :character   Class :character   Class :character  \n",
       " Mode  :character   Mode  :character   Mode  :character   Mode  :character  \n",
       "                                                                            \n",
       "                                                                            \n",
       "                                                                            \n",
       "  Price_euros  \n",
       " Min.   : 174  \n",
       " 1st Qu.: 599  \n",
       " Median : 977  \n",
       " Mean   :1124  \n",
       " 3rd Qu.:1488  \n",
       " Max.   :6099  "
      ]
     },
     "metadata": {},
     "output_type": "display_data"
    }
   ],
   "source": [
    "summary(df)"
   ]
  },
  {
   "cell_type": "code",
   "execution_count": 17,
   "id": "574d3542-38ec-4212-818a-e3219cdd62b8",
   "metadata": {},
   "outputs": [
    {
     "data": {
      "text/html": [
       "<style>\n",
       ".list-inline {list-style: none; margin:0; padding: 0}\n",
       ".list-inline>li {display: inline-block}\n",
       ".list-inline>li:not(:last-child)::after {content: \"\\00b7\"; padding: 0 .5ex}\n",
       "</style>\n",
       "<ol class=list-inline><li>1303</li><li>13</li></ol>\n"
      ],
      "text/latex": [
       "\\begin{enumerate*}\n",
       "\\item 1303\n",
       "\\item 13\n",
       "\\end{enumerate*}\n"
      ],
      "text/markdown": [
       "1. 1303\n",
       "2. 13\n",
       "\n",
       "\n"
      ],
      "text/plain": [
       "[1] 1303   13"
      ]
     },
     "metadata": {},
     "output_type": "display_data"
    }
   ],
   "source": [
    "# data shape\n",
    "dim(df)"
   ]
  },
  {
   "cell_type": "markdown",
   "id": "4bac3376-79a2-469d-937d-45c114c05c23",
   "metadata": {},
   "source": [
    "#### Null values"
   ]
  },
  {
   "cell_type": "code",
   "execution_count": 18,
   "id": "cdfb95c5-ef1d-4bf0-b673-052a251e049d",
   "metadata": {},
   "outputs": [
    {
     "data": {
      "text/html": [
       "<style>\n",
       ".dl-inline {width: auto; margin:0; padding: 0}\n",
       ".dl-inline>dt, .dl-inline>dd {float: none; width: auto; display: inline-block}\n",
       ".dl-inline>dt::after {content: \":\\0020\"; padding-right: .5ex}\n",
       ".dl-inline>dt:not(:first-of-type) {padding-left: .5ex}\n",
       "</style><dl class=dl-inline><dt>laptop_ID</dt><dd>0</dd><dt>Company</dt><dd>0</dd><dt>Product</dt><dd>0</dd><dt>TypeName</dt><dd>0</dd><dt>Inches</dt><dd>0</dd><dt>ScreenResolution</dt><dd>0</dd><dt>Cpu</dt><dd>0</dd><dt>Ram</dt><dd>0</dd><dt>Memory</dt><dd>0</dd><dt>Gpu</dt><dd>0</dd><dt>OpSys</dt><dd>0</dd><dt>Weight</dt><dd>0</dd><dt>Price_euros</dt><dd>0</dd></dl>\n"
      ],
      "text/latex": [
       "\\begin{description*}\n",
       "\\item[laptop\\textbackslash{}\\_ID] 0\n",
       "\\item[Company] 0\n",
       "\\item[Product] 0\n",
       "\\item[TypeName] 0\n",
       "\\item[Inches] 0\n",
       "\\item[ScreenResolution] 0\n",
       "\\item[Cpu] 0\n",
       "\\item[Ram] 0\n",
       "\\item[Memory] 0\n",
       "\\item[Gpu] 0\n",
       "\\item[OpSys] 0\n",
       "\\item[Weight] 0\n",
       "\\item[Price\\textbackslash{}\\_euros] 0\n",
       "\\end{description*}\n"
      ],
      "text/markdown": [
       "laptop_ID\n",
       ":   0Company\n",
       ":   0Product\n",
       ":   0TypeName\n",
       ":   0Inches\n",
       ":   0ScreenResolution\n",
       ":   0Cpu\n",
       ":   0Ram\n",
       ":   0Memory\n",
       ":   0Gpu\n",
       ":   0OpSys\n",
       ":   0Weight\n",
       ":   0Price_euros\n",
       ":   0\n",
       "\n"
      ],
      "text/plain": [
       "       laptop_ID          Company          Product         TypeName \n",
       "               0                0                0                0 \n",
       "          Inches ScreenResolution              Cpu              Ram \n",
       "               0                0                0                0 \n",
       "          Memory              Gpu            OpSys           Weight \n",
       "               0                0                0                0 \n",
       "     Price_euros \n",
       "               0 "
      ]
     },
     "metadata": {},
     "output_type": "display_data"
    }
   ],
   "source": [
    "colSums(is.na(df))"
   ]
  },
  {
   "cell_type": "markdown",
   "id": "02c13330-53de-4728-a033-7ca88a346966",
   "metadata": {},
   "source": [
    "#### Null values in a table"
   ]
  },
  {
   "cell_type": "code",
   "execution_count": 20,
   "id": "28da5667-e377-46a7-b658-6123af372365",
   "metadata": {},
   "outputs": [
    {
     "data": {
      "text/html": [
       "<table class=\"dataframe\">\n",
       "<caption>A data.frame: 13 × 1</caption>\n",
       "<thead>\n",
       "\t<tr><th></th><th scope=col>Null_Count</th></tr>\n",
       "\t<tr><th></th><th scope=col>&lt;dbl&gt;</th></tr>\n",
       "</thead>\n",
       "<tbody>\n",
       "\t<tr><th scope=row>laptop_ID</th><td>0</td></tr>\n",
       "\t<tr><th scope=row>Company</th><td>0</td></tr>\n",
       "\t<tr><th scope=row>Product</th><td>0</td></tr>\n",
       "\t<tr><th scope=row>TypeName</th><td>0</td></tr>\n",
       "\t<tr><th scope=row>Inches</th><td>0</td></tr>\n",
       "\t<tr><th scope=row>ScreenResolution</th><td>0</td></tr>\n",
       "\t<tr><th scope=row>Cpu</th><td>0</td></tr>\n",
       "\t<tr><th scope=row>Ram</th><td>0</td></tr>\n",
       "\t<tr><th scope=row>Memory</th><td>0</td></tr>\n",
       "\t<tr><th scope=row>Gpu</th><td>0</td></tr>\n",
       "\t<tr><th scope=row>OpSys</th><td>0</td></tr>\n",
       "\t<tr><th scope=row>Weight</th><td>0</td></tr>\n",
       "\t<tr><th scope=row>Price_euros</th><td>0</td></tr>\n",
       "</tbody>\n",
       "</table>\n"
      ],
      "text/latex": [
       "A data.frame: 13 × 1\n",
       "\\begin{tabular}{r|l}\n",
       "  & Null\\_Count\\\\\n",
       "  & <dbl>\\\\\n",
       "\\hline\n",
       "\tlaptop\\_ID & 0\\\\\n",
       "\tCompany & 0\\\\\n",
       "\tProduct & 0\\\\\n",
       "\tTypeName & 0\\\\\n",
       "\tInches & 0\\\\\n",
       "\tScreenResolution & 0\\\\\n",
       "\tCpu & 0\\\\\n",
       "\tRam & 0\\\\\n",
       "\tMemory & 0\\\\\n",
       "\tGpu & 0\\\\\n",
       "\tOpSys & 0\\\\\n",
       "\tWeight & 0\\\\\n",
       "\tPrice\\_euros & 0\\\\\n",
       "\\end{tabular}\n"
      ],
      "text/markdown": [
       "\n",
       "A data.frame: 13 × 1\n",
       "\n",
       "| <!--/--> | Null_Count &lt;dbl&gt; |\n",
       "|---|---|\n",
       "| laptop_ID | 0 |\n",
       "| Company | 0 |\n",
       "| Product | 0 |\n",
       "| TypeName | 0 |\n",
       "| Inches | 0 |\n",
       "| ScreenResolution | 0 |\n",
       "| Cpu | 0 |\n",
       "| Ram | 0 |\n",
       "| Memory | 0 |\n",
       "| Gpu | 0 |\n",
       "| OpSys | 0 |\n",
       "| Weight | 0 |\n",
       "| Price_euros | 0 |\n",
       "\n"
      ],
      "text/plain": [
       "                 Null_Count\n",
       "laptop_ID        0         \n",
       "Company          0         \n",
       "Product          0         \n",
       "TypeName         0         \n",
       "Inches           0         \n",
       "ScreenResolution 0         \n",
       "Cpu              0         \n",
       "Ram              0         \n",
       "Memory           0         \n",
       "Gpu              0         \n",
       "OpSys            0         \n",
       "Weight           0         \n",
       "Price_euros      0         "
      ]
     },
     "metadata": {},
     "output_type": "display_data"
    }
   ],
   "source": [
    "null_counts <- colSums(is.na(df))\n",
    "display(data.frame(Null_Count = null_counts))"
   ]
  },
  {
   "cell_type": "code",
   "execution_count": null,
   "id": "f87c84c2-da90-4409-88ab-82eb3734d150",
   "metadata": {},
   "outputs": [],
   "source": []
  }
 ],
 "metadata": {
  "kernelspec": {
   "display_name": "R",
   "language": "R",
   "name": "ir"
  },
  "language_info": {
   "codemirror_mode": "r",
   "file_extension": ".r",
   "mimetype": "text/x-r-source",
   "name": "R",
   "pygments_lexer": "r",
   "version": "4.3.3"
  }
 },
 "nbformat": 4,
 "nbformat_minor": 5
}
