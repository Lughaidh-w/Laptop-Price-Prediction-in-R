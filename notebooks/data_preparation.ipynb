{
 "cells": [
  {
   "cell_type": "code",
   "execution_count": 1,
   "id": "a8ae366b-26f3-48af-accf-5cea225fc19f",
   "metadata": {},
   "outputs": [
    {
     "name": "stderr",
     "output_type": "stream",
     "text": [
      "── \u001b[1mAttaching core tidyverse packages\u001b[22m ───────────────────────────────────────────────── tidyverse 2.0.0 ──\n",
      "\u001b[32m✔\u001b[39m \u001b[34mdplyr    \u001b[39m 1.1.3     \u001b[32m✔\u001b[39m \u001b[34mreadr    \u001b[39m 2.1.4\n",
      "\u001b[32m✔\u001b[39m \u001b[34mforcats  \u001b[39m 1.0.0     \u001b[32m✔\u001b[39m \u001b[34mstringr  \u001b[39m 1.5.1\n",
      "\u001b[32m✔\u001b[39m \u001b[34mggplot2  \u001b[39m 3.5.0     \u001b[32m✔\u001b[39m \u001b[34mtibble   \u001b[39m 3.2.1\n",
      "\u001b[32m✔\u001b[39m \u001b[34mlubridate\u001b[39m 1.9.3     \u001b[32m✔\u001b[39m \u001b[34mtidyr    \u001b[39m 1.3.0\n",
      "\u001b[32m✔\u001b[39m \u001b[34mpurrr    \u001b[39m 1.0.2     \n",
      "── \u001b[1mConflicts\u001b[22m ─────────────────────────────────────────────────────────────────── tidyverse_conflicts() ──\n",
      "\u001b[31m✖\u001b[39m \u001b[34mdplyr\u001b[39m::\u001b[32mfilter()\u001b[39m masks \u001b[34mstats\u001b[39m::filter()\n",
      "\u001b[31m✖\u001b[39m \u001b[34mdplyr\u001b[39m::\u001b[32mlag()\u001b[39m    masks \u001b[34mstats\u001b[39m::lag()\n",
      "\u001b[36mℹ\u001b[39m Use the conflicted package (\u001b[3m\u001b[34m<http://conflicted.r-lib.org/>\u001b[39m\u001b[23m) to force all conflicts to become errors\n"
     ]
    }
   ],
   "source": [
    "#library(IRdisplay)\n",
    "library(tidyverse)\n",
    "library(stringr)"
   ]
  },
  {
   "cell_type": "code",
   "execution_count": 2,
   "id": "566d15d2-a961-41fa-8afd-61a20b897e9d",
   "metadata": {},
   "outputs": [],
   "source": [
    "df <- read.csv(\"../input/laptop_price_explored.csv\")"
   ]
  },
  {
   "cell_type": "code",
   "execution_count": null,
   "id": "8182a4c1-45a2-4c4f-a1ed-bbf3dee3ac6b",
   "metadata": {},
   "outputs": [],
   "source": []
  },
  {
   "cell_type": "code",
   "execution_count": 3,
   "id": "83ead015-091c-4a29-87df-9f5c02f4de76",
   "metadata": {},
   "outputs": [
    {
     "data": {
      "text/html": [
       "<table class=\"dataframe\">\n",
       "<caption>A data.frame: 6 × 12</caption>\n",
       "<thead>\n",
       "\t<tr><th></th><th scope=col>Company</th><th scope=col>Product</th><th scope=col>TypeName</th><th scope=col>Inches</th><th scope=col>ScreenResolution</th><th scope=col>Cpu</th><th scope=col>Ram</th><th scope=col>Memory</th><th scope=col>Gpu</th><th scope=col>OpSys</th><th scope=col>Weight</th><th scope=col>Price_euros</th></tr>\n",
       "\t<tr><th></th><th scope=col>&lt;chr&gt;</th><th scope=col>&lt;chr&gt;</th><th scope=col>&lt;chr&gt;</th><th scope=col>&lt;dbl&gt;</th><th scope=col>&lt;chr&gt;</th><th scope=col>&lt;chr&gt;</th><th scope=col>&lt;chr&gt;</th><th scope=col>&lt;chr&gt;</th><th scope=col>&lt;chr&gt;</th><th scope=col>&lt;chr&gt;</th><th scope=col>&lt;chr&gt;</th><th scope=col>&lt;dbl&gt;</th></tr>\n",
       "</thead>\n",
       "<tbody>\n",
       "\t<tr><th scope=row>1</th><td>Apple</td><td>MacBook Pro</td><td>Ultrabook</td><td>13.3</td><td>IPS Panel Retina Display 2560x1600</td><td>Intel Core i5 2.3GHz      </td><td>8GB </td><td>128GB SSD          </td><td>Intel Iris Plus Graphics 640</td><td>macOS     </td><td>1.37kg</td><td>1339.69</td></tr>\n",
       "\t<tr><th scope=row>2</th><td>Apple</td><td>Macbook Air</td><td>Ultrabook</td><td>13.3</td><td>1440x900                          </td><td>Intel Core i5 1.8GHz      </td><td>8GB </td><td>128GB Flash Storage</td><td>Intel HD Graphics 6000      </td><td>macOS     </td><td>1.34kg</td><td> 898.94</td></tr>\n",
       "\t<tr><th scope=row>3</th><td>HP   </td><td>250 G6     </td><td>Notebook </td><td>15.6</td><td>Full HD 1920x1080                 </td><td>Intel Core i5 7200U 2.5GHz</td><td>8GB </td><td>256GB SSD          </td><td>Intel HD Graphics 620       </td><td>No OS     </td><td>1.86kg</td><td> 575.00</td></tr>\n",
       "\t<tr><th scope=row>4</th><td>Apple</td><td>MacBook Pro</td><td>Ultrabook</td><td>15.4</td><td>IPS Panel Retina Display 2880x1800</td><td>Intel Core i7 2.7GHz      </td><td>16GB</td><td>512GB SSD          </td><td>AMD Radeon Pro 455          </td><td>macOS     </td><td>1.83kg</td><td>2537.45</td></tr>\n",
       "\t<tr><th scope=row>5</th><td>Apple</td><td>MacBook Pro</td><td>Ultrabook</td><td>13.3</td><td>IPS Panel Retina Display 2560x1600</td><td>Intel Core i5 3.1GHz      </td><td>8GB </td><td>256GB SSD          </td><td>Intel Iris Plus Graphics 650</td><td>macOS     </td><td>1.37kg</td><td>1803.60</td></tr>\n",
       "\t<tr><th scope=row>6</th><td>Acer </td><td>Aspire 3   </td><td>Notebook </td><td>15.6</td><td>1366x768                          </td><td>AMD A9-Series 9420 3GHz   </td><td>4GB </td><td>500GB HDD          </td><td>AMD Radeon R5               </td><td>Windows 10</td><td>2.1kg </td><td> 400.00</td></tr>\n",
       "</tbody>\n",
       "</table>\n"
      ],
      "text/latex": [
       "A data.frame: 6 × 12\n",
       "\\begin{tabular}{r|llllllllllll}\n",
       "  & Company & Product & TypeName & Inches & ScreenResolution & Cpu & Ram & Memory & Gpu & OpSys & Weight & Price\\_euros\\\\\n",
       "  & <chr> & <chr> & <chr> & <dbl> & <chr> & <chr> & <chr> & <chr> & <chr> & <chr> & <chr> & <dbl>\\\\\n",
       "\\hline\n",
       "\t1 & Apple & MacBook Pro & Ultrabook & 13.3 & IPS Panel Retina Display 2560x1600 & Intel Core i5 2.3GHz       & 8GB  & 128GB SSD           & Intel Iris Plus Graphics 640 & macOS      & 1.37kg & 1339.69\\\\\n",
       "\t2 & Apple & Macbook Air & Ultrabook & 13.3 & 1440x900                           & Intel Core i5 1.8GHz       & 8GB  & 128GB Flash Storage & Intel HD Graphics 6000       & macOS      & 1.34kg &  898.94\\\\\n",
       "\t3 & HP    & 250 G6      & Notebook  & 15.6 & Full HD 1920x1080                  & Intel Core i5 7200U 2.5GHz & 8GB  & 256GB SSD           & Intel HD Graphics 620        & No OS      & 1.86kg &  575.00\\\\\n",
       "\t4 & Apple & MacBook Pro & Ultrabook & 15.4 & IPS Panel Retina Display 2880x1800 & Intel Core i7 2.7GHz       & 16GB & 512GB SSD           & AMD Radeon Pro 455           & macOS      & 1.83kg & 2537.45\\\\\n",
       "\t5 & Apple & MacBook Pro & Ultrabook & 13.3 & IPS Panel Retina Display 2560x1600 & Intel Core i5 3.1GHz       & 8GB  & 256GB SSD           & Intel Iris Plus Graphics 650 & macOS      & 1.37kg & 1803.60\\\\\n",
       "\t6 & Acer  & Aspire 3    & Notebook  & 15.6 & 1366x768                           & AMD A9-Series 9420 3GHz    & 4GB  & 500GB HDD           & AMD Radeon R5                & Windows 10 & 2.1kg  &  400.00\\\\\n",
       "\\end{tabular}\n"
      ],
      "text/markdown": [
       "\n",
       "A data.frame: 6 × 12\n",
       "\n",
       "| <!--/--> | Company &lt;chr&gt; | Product &lt;chr&gt; | TypeName &lt;chr&gt; | Inches &lt;dbl&gt; | ScreenResolution &lt;chr&gt; | Cpu &lt;chr&gt; | Ram &lt;chr&gt; | Memory &lt;chr&gt; | Gpu &lt;chr&gt; | OpSys &lt;chr&gt; | Weight &lt;chr&gt; | Price_euros &lt;dbl&gt; |\n",
       "|---|---|---|---|---|---|---|---|---|---|---|---|---|\n",
       "| 1 | Apple | MacBook Pro | Ultrabook | 13.3 | IPS Panel Retina Display 2560x1600 | Intel Core i5 2.3GHz       | 8GB  | 128GB SSD           | Intel Iris Plus Graphics 640 | macOS      | 1.37kg | 1339.69 |\n",
       "| 2 | Apple | Macbook Air | Ultrabook | 13.3 | 1440x900                           | Intel Core i5 1.8GHz       | 8GB  | 128GB Flash Storage | Intel HD Graphics 6000       | macOS      | 1.34kg |  898.94 |\n",
       "| 3 | HP    | 250 G6      | Notebook  | 15.6 | Full HD 1920x1080                  | Intel Core i5 7200U 2.5GHz | 8GB  | 256GB SSD           | Intel HD Graphics 620        | No OS      | 1.86kg |  575.00 |\n",
       "| 4 | Apple | MacBook Pro | Ultrabook | 15.4 | IPS Panel Retina Display 2880x1800 | Intel Core i7 2.7GHz       | 16GB | 512GB SSD           | AMD Radeon Pro 455           | macOS      | 1.83kg | 2537.45 |\n",
       "| 5 | Apple | MacBook Pro | Ultrabook | 13.3 | IPS Panel Retina Display 2560x1600 | Intel Core i5 3.1GHz       | 8GB  | 256GB SSD           | Intel Iris Plus Graphics 650 | macOS      | 1.37kg | 1803.60 |\n",
       "| 6 | Acer  | Aspire 3    | Notebook  | 15.6 | 1366x768                           | AMD A9-Series 9420 3GHz    | 4GB  | 500GB HDD           | AMD Radeon R5                | Windows 10 | 2.1kg  |  400.00 |\n",
       "\n"
      ],
      "text/plain": [
       "  Company Product     TypeName  Inches ScreenResolution                  \n",
       "1 Apple   MacBook Pro Ultrabook 13.3   IPS Panel Retina Display 2560x1600\n",
       "2 Apple   Macbook Air Ultrabook 13.3   1440x900                          \n",
       "3 HP      250 G6      Notebook  15.6   Full HD 1920x1080                 \n",
       "4 Apple   MacBook Pro Ultrabook 15.4   IPS Panel Retina Display 2880x1800\n",
       "5 Apple   MacBook Pro Ultrabook 13.3   IPS Panel Retina Display 2560x1600\n",
       "6 Acer    Aspire 3    Notebook  15.6   1366x768                          \n",
       "  Cpu                        Ram  Memory             \n",
       "1 Intel Core i5 2.3GHz       8GB  128GB SSD          \n",
       "2 Intel Core i5 1.8GHz       8GB  128GB Flash Storage\n",
       "3 Intel Core i5 7200U 2.5GHz 8GB  256GB SSD          \n",
       "4 Intel Core i7 2.7GHz       16GB 512GB SSD          \n",
       "5 Intel Core i5 3.1GHz       8GB  256GB SSD          \n",
       "6 AMD A9-Series 9420 3GHz    4GB  500GB HDD          \n",
       "  Gpu                          OpSys      Weight Price_euros\n",
       "1 Intel Iris Plus Graphics 640 macOS      1.37kg 1339.69    \n",
       "2 Intel HD Graphics 6000       macOS      1.34kg  898.94    \n",
       "3 Intel HD Graphics 620        No OS      1.86kg  575.00    \n",
       "4 AMD Radeon Pro 455           macOS      1.83kg 2537.45    \n",
       "5 Intel Iris Plus Graphics 650 macOS      1.37kg 1803.60    \n",
       "6 AMD Radeon R5                Windows 10 2.1kg   400.00    "
      ]
     },
     "metadata": {},
     "output_type": "display_data"
    }
   ],
   "source": [
    "head(df)"
   ]
  },
  {
   "cell_type": "markdown",
   "id": "a77abdc1-82e9-4cbf-981a-0fa3a5f83398",
   "metadata": {},
   "source": [
    "### Data Preparation"
   ]
  },
  {
   "cell_type": "markdown",
   "id": "108355d4-ce02-4e07-8fdd-f8dc801a02d9",
   "metadata": {},
   "source": [
    "#### Feature: Company"
   ]
  },
  {
   "cell_type": "code",
   "execution_count": 4,
   "id": "8cc919c0-c823-4a7d-afa7-6c12dd837734",
   "metadata": {},
   "outputs": [
    {
     "data": {
      "text/plain": [
       "\n",
       "     Acer     Apple      Asus     Chuwi      Dell   Fujitsu    Google        HP \n",
       "      103        21       158         3       297         3         3       274 \n",
       "   Huawei    Lenovo        LG  Mediacom Microsoft       MSI     Razer   Samsung \n",
       "        2       297         3         7         6        54         7         9 \n",
       "  Toshiba      Vero    Xiaomi \n",
       "       48         4         4 "
      ]
     },
     "metadata": {},
     "output_type": "display_data"
    }
   ],
   "source": [
    "company_counts <- table(df$Company)\n",
    "company_counts"
   ]
  },
  {
   "cell_type": "code",
   "execution_count": 5,
   "id": "1afdaa65-2aef-4297-86e6-d3e4bb86c4c6",
   "metadata": {},
   "outputs": [
    {
     "data": {
      "text/plain": [
       "\n",
       "   Acer   Apple    Asus    Dell      HP  Lenovo     MSI   Other Toshiba \n",
       "    103      21     158     297     274     297      54      51      48 "
      ]
     },
     "metadata": {},
     "output_type": "display_data"
    }
   ],
   "source": [
    "companies_to_replace <- names(company_counts[company_counts < 20])\n",
    "\n",
    "df$Company[df$Company %in% companies_to_replace] <- \"Other\"\n",
    "\n",
    "table(df$Company)"
   ]
  },
  {
   "cell_type": "markdown",
   "id": "0a95ac61-d935-4c7c-8feb-c6cb73a7ea2f",
   "metadata": {},
   "source": [
    "#### Feature: Product"
   ]
  },
  {
   "cell_type": "code",
   "execution_count": 6,
   "id": "0d9bd033-8002-41c9-8e23-3ea4bedc9901",
   "metadata": {},
   "outputs": [
    {
     "name": "stdout",
     "output_type": "stream",
     "text": [
      "[1] 225\n"
     ]
    }
   ],
   "source": [
    "df$Model <- sapply(strsplit(as.character(df$Product), \" \"), \"[\", 1)\n",
    "\n",
    "\n",
    "num_unique_models <- length(unique(df$Model))\n",
    "\n",
    "print(num_unique_models)"
   ]
  },
  {
   "cell_type": "code",
   "execution_count": 7,
   "id": "d00aecab-d100-4b9f-893d-1a97748e11f4",
   "metadata": {},
   "outputs": [
    {
     "data": {
      "text/html": [
       "<table class=\"dataframe\">\n",
       "<caption>A data.frame: 10 × 2</caption>\n",
       "<thead>\n",
       "\t<tr><th></th><th scope=col>Model</th><th scope=col>n</th></tr>\n",
       "\t<tr><th></th><th scope=col>&lt;chr&gt;</th><th scope=col>&lt;int&gt;</th></tr>\n",
       "</thead>\n",
       "<tbody>\n",
       "\t<tr><th scope=row>1</th><td>Inspiron </td><td>141</td></tr>\n",
       "\t<tr><th scope=row>2</th><td>IdeaPad  </td><td> 95</td></tr>\n",
       "\t<tr><th scope=row>3</th><td>Aspire   </td><td> 63</td></tr>\n",
       "\t<tr><th scope=row>4</th><td>ThinkPad </td><td> 62</td></tr>\n",
       "\t<tr><th scope=row>5</th><td>Latitude </td><td> 52</td></tr>\n",
       "\t<tr><th scope=row>6</th><td>ProBook  </td><td> 50</td></tr>\n",
       "\t<tr><th scope=row>7</th><td>EliteBook</td><td> 45</td></tr>\n",
       "\t<tr><th scope=row>8</th><td>XPS      </td><td> 39</td></tr>\n",
       "\t<tr><th scope=row>9</th><td>Thinkpad </td><td> 37</td></tr>\n",
       "\t<tr><th scope=row>10</th><td>Vostro   </td><td> 33</td></tr>\n",
       "</tbody>\n",
       "</table>\n"
      ],
      "text/latex": [
       "A data.frame: 10 × 2\n",
       "\\begin{tabular}{r|ll}\n",
       "  & Model & n\\\\\n",
       "  & <chr> & <int>\\\\\n",
       "\\hline\n",
       "\t1 & Inspiron  & 141\\\\\n",
       "\t2 & IdeaPad   &  95\\\\\n",
       "\t3 & Aspire    &  63\\\\\n",
       "\t4 & ThinkPad  &  62\\\\\n",
       "\t5 & Latitude  &  52\\\\\n",
       "\t6 & ProBook   &  50\\\\\n",
       "\t7 & EliteBook &  45\\\\\n",
       "\t8 & XPS       &  39\\\\\n",
       "\t9 & Thinkpad  &  37\\\\\n",
       "\t10 & Vostro    &  33\\\\\n",
       "\\end{tabular}\n"
      ],
      "text/markdown": [
       "\n",
       "A data.frame: 10 × 2\n",
       "\n",
       "| <!--/--> | Model &lt;chr&gt; | n &lt;int&gt; |\n",
       "|---|---|---|\n",
       "| 1 | Inspiron  | 141 |\n",
       "| 2 | IdeaPad   |  95 |\n",
       "| 3 | Aspire    |  63 |\n",
       "| 4 | ThinkPad  |  62 |\n",
       "| 5 | Latitude  |  52 |\n",
       "| 6 | ProBook   |  50 |\n",
       "| 7 | EliteBook |  45 |\n",
       "| 8 | XPS       |  39 |\n",
       "| 9 | Thinkpad  |  37 |\n",
       "| 10 | Vostro    |  33 |\n",
       "\n"
      ],
      "text/plain": [
       "   Model     n  \n",
       "1  Inspiron  141\n",
       "2  IdeaPad    95\n",
       "3  Aspire     63\n",
       "4  ThinkPad   62\n",
       "5  Latitude   52\n",
       "6  ProBook    50\n",
       "7  EliteBook  45\n",
       "8  XPS        39\n",
       "9  Thinkpad   37\n",
       "10 Vostro     33"
      ]
     },
     "metadata": {},
     "output_type": "display_data"
    }
   ],
   "source": [
    "head(dplyr::count(df, Model, sort=TRUE), 10)"
   ]
  },
  {
   "cell_type": "markdown",
   "id": "bcded454-a018-447e-afaa-6a941aa517bc",
   "metadata": {},
   "source": [
    "#### Feature: Inches"
   ]
  },
  {
   "cell_type": "code",
   "execution_count": 8,
   "id": "187503bb-4760-4445-bb14-26442c86535f",
   "metadata": {},
   "outputs": [
    {
     "data": {
      "text/html": [
       "<style>\n",
       ".list-inline {list-style: none; margin:0; padding: 0}\n",
       ".list-inline>li {display: inline-block}\n",
       ".list-inline>li:not(:last-child)::after {content: \"\\00b7\"; padding: 0 .5ex}\n",
       "</style>\n",
       "<ol class=list-inline><li>13.3</li><li>15.6</li><li>15.4</li><li>14</li><li>12</li><li>11.6</li><li>17.3</li><li>10.1</li><li>13.5</li><li>12.5</li><li>13</li><li>18.4</li><li>13.9</li><li>12.3</li><li>17</li><li>15</li><li>14.1</li><li>11.3</li></ol>\n"
      ],
      "text/latex": [
       "\\begin{enumerate*}\n",
       "\\item 13.3\n",
       "\\item 15.6\n",
       "\\item 15.4\n",
       "\\item 14\n",
       "\\item 12\n",
       "\\item 11.6\n",
       "\\item 17.3\n",
       "\\item 10.1\n",
       "\\item 13.5\n",
       "\\item 12.5\n",
       "\\item 13\n",
       "\\item 18.4\n",
       "\\item 13.9\n",
       "\\item 12.3\n",
       "\\item 17\n",
       "\\item 15\n",
       "\\item 14.1\n",
       "\\item 11.3\n",
       "\\end{enumerate*}\n"
      ],
      "text/markdown": [
       "1. 13.3\n",
       "2. 15.6\n",
       "3. 15.4\n",
       "4. 14\n",
       "5. 12\n",
       "6. 11.6\n",
       "7. 17.3\n",
       "8. 10.1\n",
       "9. 13.5\n",
       "10. 12.5\n",
       "11. 13\n",
       "12. 18.4\n",
       "13. 13.9\n",
       "14. 12.3\n",
       "15. 17\n",
       "16. 15\n",
       "17. 14.1\n",
       "18. 11.3\n",
       "\n",
       "\n"
      ],
      "text/plain": [
       " [1] 13.3 15.6 15.4 14.0 12.0 11.6 17.3 10.1 13.5 12.5 13.0 18.4 13.9 12.3 17.0\n",
       "[16] 15.0 14.1 11.3"
      ]
     },
     "metadata": {},
     "output_type": "display_data"
    }
   ],
   "source": [
    "unique(df$Inches)"
   ]
  },
  {
   "cell_type": "code",
   "execution_count": 9,
   "id": "424b84e3-a819-4b23-a175-fcb8babe7fc4",
   "metadata": {},
   "outputs": [],
   "source": [
    "# Define the bin edges\n",
    "bin_edges <- c(0, 11.8, 12.6, 13.7, 14.2, 16.8, Inf)\n",
    "\n",
    "# Create custom labels\n",
    "custom_labels <- c(0, 1, 2, 3, 4, 5)\n",
    "\n",
    "# Create a new categorical variable based on binning\n",
    "df$Inches_Binned <- cut(df$Inches, breaks = bin_edges, labels = custom_labels)"
   ]
  },
  {
   "cell_type": "code",
   "execution_count": 10,
   "id": "6e814210-c740-4c13-8db0-0a6d7e3fc496",
   "metadata": {},
   "outputs": [
    {
     "data": {
      "text/html": [
       "<table class=\"dataframe\">\n",
       "<caption>A data.frame: 6 × 2</caption>\n",
       "<thead>\n",
       "\t<tr><th scope=col>Inches_Binned</th><th scope=col>n</th></tr>\n",
       "\t<tr><th scope=col>&lt;fct&gt;</th><th scope=col>&lt;int&gt;</th></tr>\n",
       "</thead>\n",
       "<tbody>\n",
       "\t<tr><td>4</td><td>673</td></tr>\n",
       "\t<tr><td>3</td><td>204</td></tr>\n",
       "\t<tr><td>2</td><td>172</td></tr>\n",
       "\t<tr><td>5</td><td>166</td></tr>\n",
       "\t<tr><td>1</td><td> 50</td></tr>\n",
       "\t<tr><td>0</td><td> 38</td></tr>\n",
       "</tbody>\n",
       "</table>\n"
      ],
      "text/latex": [
       "A data.frame: 6 × 2\n",
       "\\begin{tabular}{ll}\n",
       " Inches\\_Binned & n\\\\\n",
       " <fct> & <int>\\\\\n",
       "\\hline\n",
       "\t 4 & 673\\\\\n",
       "\t 3 & 204\\\\\n",
       "\t 2 & 172\\\\\n",
       "\t 5 & 166\\\\\n",
       "\t 1 &  50\\\\\n",
       "\t 0 &  38\\\\\n",
       "\\end{tabular}\n"
      ],
      "text/markdown": [
       "\n",
       "A data.frame: 6 × 2\n",
       "\n",
       "| Inches_Binned &lt;fct&gt; | n &lt;int&gt; |\n",
       "|---|---|\n",
       "| 4 | 673 |\n",
       "| 3 | 204 |\n",
       "| 2 | 172 |\n",
       "| 5 | 166 |\n",
       "| 1 |  50 |\n",
       "| 0 |  38 |\n",
       "\n"
      ],
      "text/plain": [
       "  Inches_Binned n  \n",
       "1 4             673\n",
       "2 3             204\n",
       "3 2             172\n",
       "4 5             166\n",
       "5 1              50\n",
       "6 0              38"
      ]
     },
     "metadata": {},
     "output_type": "display_data"
    }
   ],
   "source": [
    "dplyr::count(df, Inches_Binned, sort=TRUE)"
   ]
  },
  {
   "cell_type": "markdown",
   "id": "3f6bcaac-dd8d-4344-ae02-558e999b9d09",
   "metadata": {},
   "source": [
    "#### Feature: Screen Resolution"
   ]
  },
  {
   "cell_type": "code",
   "execution_count": 11,
   "id": "184e99d1-175f-4f5f-a546-33ab1b16645e",
   "metadata": {},
   "outputs": [],
   "source": [
    "# Extract the resolution from the \"ScreenResolution\" column\n",
    "df$Resolution <- str_extract(df$ScreenResolution, \"\\\\d+x\\\\d+\")\n",
    "\n",
    "# Create a new column for the display type\n",
    "df$DisplayType <- str_trim(str_replace(df$ScreenResolution, \"\\\\d+x\\\\d+\", \"\"))\n",
    "\n",
    "# Replace empty strings with NA\n",
    "df$DisplayType[df$DisplayType == \"\"] <- NA\n",
    "\n",
    "# Drop the original \"ScreenResolution\" column\n",
    "df <- subset(df, select = -c(ScreenResolution))"
   ]
  },
  {
   "cell_type": "code",
   "execution_count": 12,
   "id": "106b4512-5aea-4aba-8ec3-ea2d9929d505",
   "metadata": {},
   "outputs": [],
   "source": [
    "# Create touchscreen variable\n",
    "df$Touchscreen <- ifelse(grepl(\"Touchscreen\", df$DisplayType, ignore.case = TRUE), \"1\", \"0\")\n",
    "\n",
    "# Create IPS variable\n",
    "df$IPS_Panel <- ifelse(grepl(\"IPS Panel\", df$DisplayType, ignore.case = TRUE), \"1\", \"0\")\n",
    "\n",
    "# Create Retina Display variable\n",
    "df$RetinaDisplay <- ifelse(grepl(\"Retina Display\", df$DisplayType, ignore.case = TRUE), \"1\", \"0\")\n",
    "\n",
    "# Remove \"Touchscreen\" and \"/\" from \"DisplayType\"\n",
    "df$DisplayType <- gsub(\"Touchscreen\", \"\", df$DisplayType, ignore.case = TRUE)\n",
    "df$DisplayType <- gsub(\"/ \", \"\", df$DisplayType)\n",
    "df$DisplayType <- gsub(\"IPS Panel\", \"\", df$DisplayType, ignore.case = TRUE)\n",
    "df$DisplayType <- trimws(df$DisplayType)\n",
    "\n",
    "# Replace '' with NA for visualization\n",
    "df$DisplayType[df$DisplayType == \"\"] <- NA\n",
    "df$Touchscreen[df$Touchscreen == \"\"] <- NA\n",
    "df$IPS_Panel[df$IPS_Panel == \"\"] <- NA\n",
    "df$RetinaDisplay[df$RetinaDisplay == \"\"] <- NA\n",
    "\n"
   ]
  },
  {
   "cell_type": "code",
   "execution_count": 16,
   "id": "757f7a03-e60b-4aa0-9ba7-8339138601f9",
   "metadata": {},
   "outputs": [
    {
     "data": {
      "text/html": [
       "<style>\n",
       ".list-inline {list-style: none; margin:0; padding: 0}\n",
       ".list-inline>li {display: inline-block}\n",
       ".list-inline>li:not(:last-child)::after {content: \"\\00b7\"; padding: 0 .5ex}\n",
       "</style>\n",
       "<ol class=list-inline><li>'2560x1600'</li><li>'1440x900'</li><li>'1920x1080'</li><li>'2880x1800'</li><li>'1366x768'</li><li>'2304x1440'</li><li>'3200x1800'</li><li>'1920x1200'</li><li>'2256x1504'</li><li>'3840x2160'</li><li>'2160x1440'</li><li>'2560x1440'</li><li>'1600x900'</li><li>'2736x1824'</li><li>'2400x1600'</li></ol>\n"
      ],
      "text/latex": [
       "\\begin{enumerate*}\n",
       "\\item '2560x1600'\n",
       "\\item '1440x900'\n",
       "\\item '1920x1080'\n",
       "\\item '2880x1800'\n",
       "\\item '1366x768'\n",
       "\\item '2304x1440'\n",
       "\\item '3200x1800'\n",
       "\\item '1920x1200'\n",
       "\\item '2256x1504'\n",
       "\\item '3840x2160'\n",
       "\\item '2160x1440'\n",
       "\\item '2560x1440'\n",
       "\\item '1600x900'\n",
       "\\item '2736x1824'\n",
       "\\item '2400x1600'\n",
       "\\end{enumerate*}\n"
      ],
      "text/markdown": [
       "1. '2560x1600'\n",
       "2. '1440x900'\n",
       "3. '1920x1080'\n",
       "4. '2880x1800'\n",
       "5. '1366x768'\n",
       "6. '2304x1440'\n",
       "7. '3200x1800'\n",
       "8. '1920x1200'\n",
       "9. '2256x1504'\n",
       "10. '3840x2160'\n",
       "11. '2160x1440'\n",
       "12. '2560x1440'\n",
       "13. '1600x900'\n",
       "14. '2736x1824'\n",
       "15. '2400x1600'\n",
       "\n",
       "\n"
      ],
      "text/plain": [
       " [1] \"2560x1600\" \"1440x900\"  \"1920x1080\" \"2880x1800\" \"1366x768\"  \"2304x1440\"\n",
       " [7] \"3200x1800\" \"1920x1200\" \"2256x1504\" \"3840x2160\" \"2160x1440\" \"2560x1440\"\n",
       "[13] \"1600x900\"  \"2736x1824\" \"2400x1600\""
      ]
     },
     "metadata": {},
     "output_type": "display_data"
    }
   ],
   "source": [
    "unique(df$Resolution)"
   ]
  },
  {
   "cell_type": "code",
   "execution_count": 18,
   "id": "5623b53a-621c-40a7-99a2-891ff73adad9",
   "metadata": {},
   "outputs": [
    {
     "data": {
      "text/html": [
       "<table class=\"dataframe\">\n",
       "<caption>A data.frame: 6 × 19</caption>\n",
       "<thead>\n",
       "\t<tr><th></th><th scope=col>Company</th><th scope=col>Product</th><th scope=col>TypeName</th><th scope=col>Inches</th><th scope=col>Cpu</th><th scope=col>Ram</th><th scope=col>Memory</th><th scope=col>Gpu</th><th scope=col>OpSys</th><th scope=col>Weight</th><th scope=col>Price_euros</th><th scope=col>Model</th><th scope=col>Inches_Binned</th><th scope=col>ResolutionWidth</th><th scope=col>ResolutionHeight</th><th scope=col>DisplayType</th><th scope=col>Touchscreen</th><th scope=col>IPS_Panel</th><th scope=col>RetinaDisplay</th></tr>\n",
       "\t<tr><th></th><th scope=col>&lt;chr&gt;</th><th scope=col>&lt;chr&gt;</th><th scope=col>&lt;chr&gt;</th><th scope=col>&lt;dbl&gt;</th><th scope=col>&lt;chr&gt;</th><th scope=col>&lt;chr&gt;</th><th scope=col>&lt;chr&gt;</th><th scope=col>&lt;chr&gt;</th><th scope=col>&lt;chr&gt;</th><th scope=col>&lt;chr&gt;</th><th scope=col>&lt;dbl&gt;</th><th scope=col>&lt;chr&gt;</th><th scope=col>&lt;fct&gt;</th><th scope=col>&lt;int&gt;</th><th scope=col>&lt;int&gt;</th><th scope=col>&lt;chr&gt;</th><th scope=col>&lt;chr&gt;</th><th scope=col>&lt;chr&gt;</th><th scope=col>&lt;chr&gt;</th></tr>\n",
       "</thead>\n",
       "<tbody>\n",
       "\t<tr><th scope=row>1</th><td>Apple</td><td>MacBook Pro</td><td>Ultrabook</td><td>13.3</td><td>Intel Core i5 2.3GHz      </td><td>8GB </td><td>128GB SSD          </td><td>Intel Iris Plus Graphics 640</td><td>macOS     </td><td>1.37kg</td><td>1339.69</td><td>MacBook</td><td>2</td><td>2560</td><td>1600</td><td>Retina Display</td><td>0</td><td>1</td><td>1</td></tr>\n",
       "\t<tr><th scope=row>2</th><td>Apple</td><td>Macbook Air</td><td>Ultrabook</td><td>13.3</td><td>Intel Core i5 1.8GHz      </td><td>8GB </td><td>128GB Flash Storage</td><td>Intel HD Graphics 6000      </td><td>macOS     </td><td>1.34kg</td><td> 898.94</td><td>Macbook</td><td>2</td><td>1440</td><td> 900</td><td>NA            </td><td>0</td><td>0</td><td>0</td></tr>\n",
       "\t<tr><th scope=row>3</th><td>HP   </td><td>250 G6     </td><td>Notebook </td><td>15.6</td><td>Intel Core i5 7200U 2.5GHz</td><td>8GB </td><td>256GB SSD          </td><td>Intel HD Graphics 620       </td><td>No OS     </td><td>1.86kg</td><td> 575.00</td><td>250    </td><td>4</td><td>1920</td><td>1080</td><td>Full HD       </td><td>0</td><td>0</td><td>0</td></tr>\n",
       "\t<tr><th scope=row>4</th><td>Apple</td><td>MacBook Pro</td><td>Ultrabook</td><td>15.4</td><td>Intel Core i7 2.7GHz      </td><td>16GB</td><td>512GB SSD          </td><td>AMD Radeon Pro 455          </td><td>macOS     </td><td>1.83kg</td><td>2537.45</td><td>MacBook</td><td>4</td><td>2880</td><td>1800</td><td>Retina Display</td><td>0</td><td>1</td><td>1</td></tr>\n",
       "\t<tr><th scope=row>5</th><td>Apple</td><td>MacBook Pro</td><td>Ultrabook</td><td>13.3</td><td>Intel Core i5 3.1GHz      </td><td>8GB </td><td>256GB SSD          </td><td>Intel Iris Plus Graphics 650</td><td>macOS     </td><td>1.37kg</td><td>1803.60</td><td>MacBook</td><td>2</td><td>2560</td><td>1600</td><td>Retina Display</td><td>0</td><td>1</td><td>1</td></tr>\n",
       "\t<tr><th scope=row>6</th><td>Acer </td><td>Aspire 3   </td><td>Notebook </td><td>15.6</td><td>AMD A9-Series 9420 3GHz   </td><td>4GB </td><td>500GB HDD          </td><td>AMD Radeon R5               </td><td>Windows 10</td><td>2.1kg </td><td> 400.00</td><td>Aspire </td><td>4</td><td>1366</td><td> 768</td><td>NA            </td><td>0</td><td>0</td><td>0</td></tr>\n",
       "</tbody>\n",
       "</table>\n"
      ],
      "text/latex": [
       "A data.frame: 6 × 19\n",
       "\\begin{tabular}{r|lllllllllllllllllll}\n",
       "  & Company & Product & TypeName & Inches & Cpu & Ram & Memory & Gpu & OpSys & Weight & Price\\_euros & Model & Inches\\_Binned & ResolutionWidth & ResolutionHeight & DisplayType & Touchscreen & IPS\\_Panel & RetinaDisplay\\\\\n",
       "  & <chr> & <chr> & <chr> & <dbl> & <chr> & <chr> & <chr> & <chr> & <chr> & <chr> & <dbl> & <chr> & <fct> & <int> & <int> & <chr> & <chr> & <chr> & <chr>\\\\\n",
       "\\hline\n",
       "\t1 & Apple & MacBook Pro & Ultrabook & 13.3 & Intel Core i5 2.3GHz       & 8GB  & 128GB SSD           & Intel Iris Plus Graphics 640 & macOS      & 1.37kg & 1339.69 & MacBook & 2 & 2560 & 1600 & Retina Display & 0 & 1 & 1\\\\\n",
       "\t2 & Apple & Macbook Air & Ultrabook & 13.3 & Intel Core i5 1.8GHz       & 8GB  & 128GB Flash Storage & Intel HD Graphics 6000       & macOS      & 1.34kg &  898.94 & Macbook & 2 & 1440 &  900 & NA             & 0 & 0 & 0\\\\\n",
       "\t3 & HP    & 250 G6      & Notebook  & 15.6 & Intel Core i5 7200U 2.5GHz & 8GB  & 256GB SSD           & Intel HD Graphics 620        & No OS      & 1.86kg &  575.00 & 250     & 4 & 1920 & 1080 & Full HD        & 0 & 0 & 0\\\\\n",
       "\t4 & Apple & MacBook Pro & Ultrabook & 15.4 & Intel Core i7 2.7GHz       & 16GB & 512GB SSD           & AMD Radeon Pro 455           & macOS      & 1.83kg & 2537.45 & MacBook & 4 & 2880 & 1800 & Retina Display & 0 & 1 & 1\\\\\n",
       "\t5 & Apple & MacBook Pro & Ultrabook & 13.3 & Intel Core i5 3.1GHz       & 8GB  & 256GB SSD           & Intel Iris Plus Graphics 650 & macOS      & 1.37kg & 1803.60 & MacBook & 2 & 2560 & 1600 & Retina Display & 0 & 1 & 1\\\\\n",
       "\t6 & Acer  & Aspire 3    & Notebook  & 15.6 & AMD A9-Series 9420 3GHz    & 4GB  & 500GB HDD           & AMD Radeon R5                & Windows 10 & 2.1kg  &  400.00 & Aspire  & 4 & 1366 &  768 & NA             & 0 & 0 & 0\\\\\n",
       "\\end{tabular}\n"
      ],
      "text/markdown": [
       "\n",
       "A data.frame: 6 × 19\n",
       "\n",
       "| <!--/--> | Company &lt;chr&gt; | Product &lt;chr&gt; | TypeName &lt;chr&gt; | Inches &lt;dbl&gt; | Cpu &lt;chr&gt; | Ram &lt;chr&gt; | Memory &lt;chr&gt; | Gpu &lt;chr&gt; | OpSys &lt;chr&gt; | Weight &lt;chr&gt; | Price_euros &lt;dbl&gt; | Model &lt;chr&gt; | Inches_Binned &lt;fct&gt; | ResolutionWidth &lt;int&gt; | ResolutionHeight &lt;int&gt; | DisplayType &lt;chr&gt; | Touchscreen &lt;chr&gt; | IPS_Panel &lt;chr&gt; | RetinaDisplay &lt;chr&gt; |\n",
       "|---|---|---|---|---|---|---|---|---|---|---|---|---|---|---|---|---|---|---|---|\n",
       "| 1 | Apple | MacBook Pro | Ultrabook | 13.3 | Intel Core i5 2.3GHz       | 8GB  | 128GB SSD           | Intel Iris Plus Graphics 640 | macOS      | 1.37kg | 1339.69 | MacBook | 2 | 2560 | 1600 | Retina Display | 0 | 1 | 1 |\n",
       "| 2 | Apple | Macbook Air | Ultrabook | 13.3 | Intel Core i5 1.8GHz       | 8GB  | 128GB Flash Storage | Intel HD Graphics 6000       | macOS      | 1.34kg |  898.94 | Macbook | 2 | 1440 |  900 | NA             | 0 | 0 | 0 |\n",
       "| 3 | HP    | 250 G6      | Notebook  | 15.6 | Intel Core i5 7200U 2.5GHz | 8GB  | 256GB SSD           | Intel HD Graphics 620        | No OS      | 1.86kg |  575.00 | 250     | 4 | 1920 | 1080 | Full HD        | 0 | 0 | 0 |\n",
       "| 4 | Apple | MacBook Pro | Ultrabook | 15.4 | Intel Core i7 2.7GHz       | 16GB | 512GB SSD           | AMD Radeon Pro 455           | macOS      | 1.83kg | 2537.45 | MacBook | 4 | 2880 | 1800 | Retina Display | 0 | 1 | 1 |\n",
       "| 5 | Apple | MacBook Pro | Ultrabook | 13.3 | Intel Core i5 3.1GHz       | 8GB  | 256GB SSD           | Intel Iris Plus Graphics 650 | macOS      | 1.37kg | 1803.60 | MacBook | 2 | 2560 | 1600 | Retina Display | 0 | 1 | 1 |\n",
       "| 6 | Acer  | Aspire 3    | Notebook  | 15.6 | AMD A9-Series 9420 3GHz    | 4GB  | 500GB HDD           | AMD Radeon R5                | Windows 10 | 2.1kg  |  400.00 | Aspire  | 4 | 1366 |  768 | NA             | 0 | 0 | 0 |\n",
       "\n"
      ],
      "text/plain": [
       "  Company Product     TypeName  Inches Cpu                        Ram \n",
       "1 Apple   MacBook Pro Ultrabook 13.3   Intel Core i5 2.3GHz       8GB \n",
       "2 Apple   Macbook Air Ultrabook 13.3   Intel Core i5 1.8GHz       8GB \n",
       "3 HP      250 G6      Notebook  15.6   Intel Core i5 7200U 2.5GHz 8GB \n",
       "4 Apple   MacBook Pro Ultrabook 15.4   Intel Core i7 2.7GHz       16GB\n",
       "5 Apple   MacBook Pro Ultrabook 13.3   Intel Core i5 3.1GHz       8GB \n",
       "6 Acer    Aspire 3    Notebook  15.6   AMD A9-Series 9420 3GHz    4GB \n",
       "  Memory              Gpu                          OpSys      Weight\n",
       "1 128GB SSD           Intel Iris Plus Graphics 640 macOS      1.37kg\n",
       "2 128GB Flash Storage Intel HD Graphics 6000       macOS      1.34kg\n",
       "3 256GB SSD           Intel HD Graphics 620        No OS      1.86kg\n",
       "4 512GB SSD           AMD Radeon Pro 455           macOS      1.83kg\n",
       "5 256GB SSD           Intel Iris Plus Graphics 650 macOS      1.37kg\n",
       "6 500GB HDD           AMD Radeon R5                Windows 10 2.1kg \n",
       "  Price_euros Model   Inches_Binned ResolutionWidth ResolutionHeight\n",
       "1 1339.69     MacBook 2             2560            1600            \n",
       "2  898.94     Macbook 2             1440             900            \n",
       "3  575.00     250     4             1920            1080            \n",
       "4 2537.45     MacBook 4             2880            1800            \n",
       "5 1803.60     MacBook 2             2560            1600            \n",
       "6  400.00     Aspire  4             1366             768            \n",
       "  DisplayType    Touchscreen IPS_Panel RetinaDisplay\n",
       "1 Retina Display 0           1         1            \n",
       "2 NA             0           0         0            \n",
       "3 Full HD        0           0         0            \n",
       "4 Retina Display 0           1         1            \n",
       "5 Retina Display 0           1         1            \n",
       "6 NA             0           0         0            "
      ]
     },
     "metadata": {},
     "output_type": "display_data"
    }
   ],
   "source": [
    "# Split the \"Resolution\" column into \"ResolutionWidth\" and \"ResolutionHeight\" columns\n",
    "df <- df %>%\n",
    "  separate(Resolution, into = c(\"ResolutionWidth\", \"ResolutionHeight\"), sep = \"x\", convert = TRUE)\n",
    "head(df)"
   ]
  },
  {
   "cell_type": "markdown",
   "id": "4b546d4e-d5ed-464d-a199-f1bb9f9e3d62",
   "metadata": {},
   "source": [
    "#### Feature: Cpu"
   ]
  },
  {
   "cell_type": "code",
   "execution_count": 20,
   "id": "8102e4a5-ee79-40d5-a12a-3c80a29564be",
   "metadata": {},
   "outputs": [
    {
     "data": {
      "text/html": [
       "<table class=\"dataframe\">\n",
       "<caption>A data.frame: 10 × 2</caption>\n",
       "<thead>\n",
       "\t<tr><th></th><th scope=col>Cpu</th><th scope=col>n</th></tr>\n",
       "\t<tr><th></th><th scope=col>&lt;chr&gt;</th><th scope=col>&lt;int&gt;</th></tr>\n",
       "</thead>\n",
       "<tbody>\n",
       "\t<tr><th scope=row>1</th><td>Intel Core i5 7200U 2.5GHz </td><td>190</td></tr>\n",
       "\t<tr><th scope=row>2</th><td>Intel Core i7 7700HQ 2.8GHz</td><td>146</td></tr>\n",
       "\t<tr><th scope=row>3</th><td>Intel Core i7 7500U 2.7GHz </td><td>134</td></tr>\n",
       "\t<tr><th scope=row>4</th><td>Intel Core i7 8550U 1.8GHz </td><td> 73</td></tr>\n",
       "\t<tr><th scope=row>5</th><td>Intel Core i5 8250U 1.6GHz </td><td> 72</td></tr>\n",
       "\t<tr><th scope=row>6</th><td>Intel Core i5 6200U 2.3GHz </td><td> 68</td></tr>\n",
       "\t<tr><th scope=row>7</th><td>Intel Core i3 6006U 2GHz   </td><td> 64</td></tr>\n",
       "\t<tr><th scope=row>8</th><td>Intel Core i7 6500U 2.5GHz </td><td> 49</td></tr>\n",
       "\t<tr><th scope=row>9</th><td>Intel Core i7 6700HQ 2.6GHz</td><td> 43</td></tr>\n",
       "\t<tr><th scope=row>10</th><td>Intel Core i3 7100U 2.4GHz </td><td> 37</td></tr>\n",
       "</tbody>\n",
       "</table>\n"
      ],
      "text/latex": [
       "A data.frame: 10 × 2\n",
       "\\begin{tabular}{r|ll}\n",
       "  & Cpu & n\\\\\n",
       "  & <chr> & <int>\\\\\n",
       "\\hline\n",
       "\t1 & Intel Core i5 7200U 2.5GHz  & 190\\\\\n",
       "\t2 & Intel Core i7 7700HQ 2.8GHz & 146\\\\\n",
       "\t3 & Intel Core i7 7500U 2.7GHz  & 134\\\\\n",
       "\t4 & Intel Core i7 8550U 1.8GHz  &  73\\\\\n",
       "\t5 & Intel Core i5 8250U 1.6GHz  &  72\\\\\n",
       "\t6 & Intel Core i5 6200U 2.3GHz  &  68\\\\\n",
       "\t7 & Intel Core i3 6006U 2GHz    &  64\\\\\n",
       "\t8 & Intel Core i7 6500U 2.5GHz  &  49\\\\\n",
       "\t9 & Intel Core i7 6700HQ 2.6GHz &  43\\\\\n",
       "\t10 & Intel Core i3 7100U 2.4GHz  &  37\\\\\n",
       "\\end{tabular}\n"
      ],
      "text/markdown": [
       "\n",
       "A data.frame: 10 × 2\n",
       "\n",
       "| <!--/--> | Cpu &lt;chr&gt; | n &lt;int&gt; |\n",
       "|---|---|---|\n",
       "| 1 | Intel Core i5 7200U 2.5GHz  | 190 |\n",
       "| 2 | Intel Core i7 7700HQ 2.8GHz | 146 |\n",
       "| 3 | Intel Core i7 7500U 2.7GHz  | 134 |\n",
       "| 4 | Intel Core i7 8550U 1.8GHz  |  73 |\n",
       "| 5 | Intel Core i5 8250U 1.6GHz  |  72 |\n",
       "| 6 | Intel Core i5 6200U 2.3GHz  |  68 |\n",
       "| 7 | Intel Core i3 6006U 2GHz    |  64 |\n",
       "| 8 | Intel Core i7 6500U 2.5GHz  |  49 |\n",
       "| 9 | Intel Core i7 6700HQ 2.6GHz |  43 |\n",
       "| 10 | Intel Core i3 7100U 2.4GHz  |  37 |\n",
       "\n"
      ],
      "text/plain": [
       "   Cpu                         n  \n",
       "1  Intel Core i5 7200U 2.5GHz  190\n",
       "2  Intel Core i7 7700HQ 2.8GHz 146\n",
       "3  Intel Core i7 7500U 2.7GHz  134\n",
       "4  Intel Core i7 8550U 1.8GHz   73\n",
       "5  Intel Core i5 8250U 1.6GHz   72\n",
       "6  Intel Core i5 6200U 2.3GHz   68\n",
       "7  Intel Core i3 6006U 2GHz     64\n",
       "8  Intel Core i7 6500U 2.5GHz   49\n",
       "9  Intel Core i7 6700HQ 2.6GHz  43\n",
       "10 Intel Core i3 7100U 2.4GHz   37"
      ]
     },
     "metadata": {},
     "output_type": "display_data"
    }
   ],
   "source": [
    "head(dplyr::count(df, Cpu, sort=TRUE), 10)"
   ]
  },
  {
   "cell_type": "code",
   "execution_count": null,
   "id": "c132a1bf-1393-4e4b-8acc-c5e1c2c117cd",
   "metadata": {},
   "outputs": [],
   "source": []
  }
 ],
 "metadata": {
  "kernelspec": {
   "display_name": "R",
   "language": "R",
   "name": "ir"
  },
  "language_info": {
   "codemirror_mode": "r",
   "file_extension": ".r",
   "mimetype": "text/x-r-source",
   "name": "R",
   "pygments_lexer": "r",
   "version": "4.3.3"
  }
 },
 "nbformat": 4,
 "nbformat_minor": 5
}
