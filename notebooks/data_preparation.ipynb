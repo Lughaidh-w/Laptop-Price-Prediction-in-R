{
 "cells": [
  {
   "cell_type": "code",
   "execution_count": 1,
   "id": "a8ae366b-26f3-48af-accf-5cea225fc19f",
   "metadata": {},
   "outputs": [
    {
     "name": "stderr",
     "output_type": "stream",
     "text": [
      "── \u001b[1mAttaching core tidyverse packages\u001b[22m ───────────────────────────────────────────────── tidyverse 2.0.0 ──\n",
      "\u001b[32m✔\u001b[39m \u001b[34mdplyr    \u001b[39m 1.1.3     \u001b[32m✔\u001b[39m \u001b[34mreadr    \u001b[39m 2.1.4\n",
      "\u001b[32m✔\u001b[39m \u001b[34mforcats  \u001b[39m 1.0.0     \u001b[32m✔\u001b[39m \u001b[34mstringr  \u001b[39m 1.5.1\n",
      "\u001b[32m✔\u001b[39m \u001b[34mggplot2  \u001b[39m 3.5.0     \u001b[32m✔\u001b[39m \u001b[34mtibble   \u001b[39m 3.2.1\n",
      "\u001b[32m✔\u001b[39m \u001b[34mlubridate\u001b[39m 1.9.3     \u001b[32m✔\u001b[39m \u001b[34mtidyr    \u001b[39m 1.3.0\n",
      "\u001b[32m✔\u001b[39m \u001b[34mpurrr    \u001b[39m 1.0.2     \n",
      "── \u001b[1mConflicts\u001b[22m ─────────────────────────────────────────────────────────────────── tidyverse_conflicts() ──\n",
      "\u001b[31m✖\u001b[39m \u001b[34mdplyr\u001b[39m::\u001b[32mfilter()\u001b[39m masks \u001b[34mstats\u001b[39m::filter()\n",
      "\u001b[31m✖\u001b[39m \u001b[34mdplyr\u001b[39m::\u001b[32mlag()\u001b[39m    masks \u001b[34mstats\u001b[39m::lag()\n",
      "\u001b[36mℹ\u001b[39m Use the conflicted package (\u001b[3m\u001b[34m<http://conflicted.r-lib.org/>\u001b[39m\u001b[23m) to force all conflicts to become errors\n"
     ]
    }
   ],
   "source": [
    "#library(IRdisplay)\n",
    "library(tidyverse)\n",
    "library(stringr)"
   ]
  },
  {
   "cell_type": "code",
   "execution_count": 2,
   "id": "566d15d2-a961-41fa-8afd-61a20b897e9d",
   "metadata": {},
   "outputs": [],
   "source": [
    "df <- read.csv(\"../input/laptop_price_explored.csv\")"
   ]
  },
  {
   "cell_type": "code",
   "execution_count": null,
   "id": "8182a4c1-45a2-4c4f-a1ed-bbf3dee3ac6b",
   "metadata": {},
   "outputs": [],
   "source": []
  },
  {
   "cell_type": "code",
   "execution_count": 3,
   "id": "83ead015-091c-4a29-87df-9f5c02f4de76",
   "metadata": {},
   "outputs": [
    {
     "data": {
      "text/html": [
       "<table class=\"dataframe\">\n",
       "<caption>A data.frame: 6 × 12</caption>\n",
       "<thead>\n",
       "\t<tr><th></th><th scope=col>Company</th><th scope=col>Product</th><th scope=col>TypeName</th><th scope=col>Inches</th><th scope=col>ScreenResolution</th><th scope=col>Cpu</th><th scope=col>Ram</th><th scope=col>Memory</th><th scope=col>Gpu</th><th scope=col>OpSys</th><th scope=col>Weight</th><th scope=col>Price_euros</th></tr>\n",
       "\t<tr><th></th><th scope=col>&lt;chr&gt;</th><th scope=col>&lt;chr&gt;</th><th scope=col>&lt;chr&gt;</th><th scope=col>&lt;dbl&gt;</th><th scope=col>&lt;chr&gt;</th><th scope=col>&lt;chr&gt;</th><th scope=col>&lt;chr&gt;</th><th scope=col>&lt;chr&gt;</th><th scope=col>&lt;chr&gt;</th><th scope=col>&lt;chr&gt;</th><th scope=col>&lt;chr&gt;</th><th scope=col>&lt;dbl&gt;</th></tr>\n",
       "</thead>\n",
       "<tbody>\n",
       "\t<tr><th scope=row>1</th><td>Apple</td><td>MacBook Pro</td><td>Ultrabook</td><td>13.3</td><td>IPS Panel Retina Display 2560x1600</td><td>Intel Core i5 2.3GHz      </td><td>8GB </td><td>128GB SSD          </td><td>Intel Iris Plus Graphics 640</td><td>macOS     </td><td>1.37kg</td><td>1339.69</td></tr>\n",
       "\t<tr><th scope=row>2</th><td>Apple</td><td>Macbook Air</td><td>Ultrabook</td><td>13.3</td><td>1440x900                          </td><td>Intel Core i5 1.8GHz      </td><td>8GB </td><td>128GB Flash Storage</td><td>Intel HD Graphics 6000      </td><td>macOS     </td><td>1.34kg</td><td> 898.94</td></tr>\n",
       "\t<tr><th scope=row>3</th><td>HP   </td><td>250 G6     </td><td>Notebook </td><td>15.6</td><td>Full HD 1920x1080                 </td><td>Intel Core i5 7200U 2.5GHz</td><td>8GB </td><td>256GB SSD          </td><td>Intel HD Graphics 620       </td><td>No OS     </td><td>1.86kg</td><td> 575.00</td></tr>\n",
       "\t<tr><th scope=row>4</th><td>Apple</td><td>MacBook Pro</td><td>Ultrabook</td><td>15.4</td><td>IPS Panel Retina Display 2880x1800</td><td>Intel Core i7 2.7GHz      </td><td>16GB</td><td>512GB SSD          </td><td>AMD Radeon Pro 455          </td><td>macOS     </td><td>1.83kg</td><td>2537.45</td></tr>\n",
       "\t<tr><th scope=row>5</th><td>Apple</td><td>MacBook Pro</td><td>Ultrabook</td><td>13.3</td><td>IPS Panel Retina Display 2560x1600</td><td>Intel Core i5 3.1GHz      </td><td>8GB </td><td>256GB SSD          </td><td>Intel Iris Plus Graphics 650</td><td>macOS     </td><td>1.37kg</td><td>1803.60</td></tr>\n",
       "\t<tr><th scope=row>6</th><td>Acer </td><td>Aspire 3   </td><td>Notebook </td><td>15.6</td><td>1366x768                          </td><td>AMD A9-Series 9420 3GHz   </td><td>4GB </td><td>500GB HDD          </td><td>AMD Radeon R5               </td><td>Windows 10</td><td>2.1kg </td><td> 400.00</td></tr>\n",
       "</tbody>\n",
       "</table>\n"
      ],
      "text/latex": [
       "A data.frame: 6 × 12\n",
       "\\begin{tabular}{r|llllllllllll}\n",
       "  & Company & Product & TypeName & Inches & ScreenResolution & Cpu & Ram & Memory & Gpu & OpSys & Weight & Price\\_euros\\\\\n",
       "  & <chr> & <chr> & <chr> & <dbl> & <chr> & <chr> & <chr> & <chr> & <chr> & <chr> & <chr> & <dbl>\\\\\n",
       "\\hline\n",
       "\t1 & Apple & MacBook Pro & Ultrabook & 13.3 & IPS Panel Retina Display 2560x1600 & Intel Core i5 2.3GHz       & 8GB  & 128GB SSD           & Intel Iris Plus Graphics 640 & macOS      & 1.37kg & 1339.69\\\\\n",
       "\t2 & Apple & Macbook Air & Ultrabook & 13.3 & 1440x900                           & Intel Core i5 1.8GHz       & 8GB  & 128GB Flash Storage & Intel HD Graphics 6000       & macOS      & 1.34kg &  898.94\\\\\n",
       "\t3 & HP    & 250 G6      & Notebook  & 15.6 & Full HD 1920x1080                  & Intel Core i5 7200U 2.5GHz & 8GB  & 256GB SSD           & Intel HD Graphics 620        & No OS      & 1.86kg &  575.00\\\\\n",
       "\t4 & Apple & MacBook Pro & Ultrabook & 15.4 & IPS Panel Retina Display 2880x1800 & Intel Core i7 2.7GHz       & 16GB & 512GB SSD           & AMD Radeon Pro 455           & macOS      & 1.83kg & 2537.45\\\\\n",
       "\t5 & Apple & MacBook Pro & Ultrabook & 13.3 & IPS Panel Retina Display 2560x1600 & Intel Core i5 3.1GHz       & 8GB  & 256GB SSD           & Intel Iris Plus Graphics 650 & macOS      & 1.37kg & 1803.60\\\\\n",
       "\t6 & Acer  & Aspire 3    & Notebook  & 15.6 & 1366x768                           & AMD A9-Series 9420 3GHz    & 4GB  & 500GB HDD           & AMD Radeon R5                & Windows 10 & 2.1kg  &  400.00\\\\\n",
       "\\end{tabular}\n"
      ],
      "text/markdown": [
       "\n",
       "A data.frame: 6 × 12\n",
       "\n",
       "| <!--/--> | Company &lt;chr&gt; | Product &lt;chr&gt; | TypeName &lt;chr&gt; | Inches &lt;dbl&gt; | ScreenResolution &lt;chr&gt; | Cpu &lt;chr&gt; | Ram &lt;chr&gt; | Memory &lt;chr&gt; | Gpu &lt;chr&gt; | OpSys &lt;chr&gt; | Weight &lt;chr&gt; | Price_euros &lt;dbl&gt; |\n",
       "|---|---|---|---|---|---|---|---|---|---|---|---|---|\n",
       "| 1 | Apple | MacBook Pro | Ultrabook | 13.3 | IPS Panel Retina Display 2560x1600 | Intel Core i5 2.3GHz       | 8GB  | 128GB SSD           | Intel Iris Plus Graphics 640 | macOS      | 1.37kg | 1339.69 |\n",
       "| 2 | Apple | Macbook Air | Ultrabook | 13.3 | 1440x900                           | Intel Core i5 1.8GHz       | 8GB  | 128GB Flash Storage | Intel HD Graphics 6000       | macOS      | 1.34kg |  898.94 |\n",
       "| 3 | HP    | 250 G6      | Notebook  | 15.6 | Full HD 1920x1080                  | Intel Core i5 7200U 2.5GHz | 8GB  | 256GB SSD           | Intel HD Graphics 620        | No OS      | 1.86kg |  575.00 |\n",
       "| 4 | Apple | MacBook Pro | Ultrabook | 15.4 | IPS Panel Retina Display 2880x1800 | Intel Core i7 2.7GHz       | 16GB | 512GB SSD           | AMD Radeon Pro 455           | macOS      | 1.83kg | 2537.45 |\n",
       "| 5 | Apple | MacBook Pro | Ultrabook | 13.3 | IPS Panel Retina Display 2560x1600 | Intel Core i5 3.1GHz       | 8GB  | 256GB SSD           | Intel Iris Plus Graphics 650 | macOS      | 1.37kg | 1803.60 |\n",
       "| 6 | Acer  | Aspire 3    | Notebook  | 15.6 | 1366x768                           | AMD A9-Series 9420 3GHz    | 4GB  | 500GB HDD           | AMD Radeon R5                | Windows 10 | 2.1kg  |  400.00 |\n",
       "\n"
      ],
      "text/plain": [
       "  Company Product     TypeName  Inches ScreenResolution                  \n",
       "1 Apple   MacBook Pro Ultrabook 13.3   IPS Panel Retina Display 2560x1600\n",
       "2 Apple   Macbook Air Ultrabook 13.3   1440x900                          \n",
       "3 HP      250 G6      Notebook  15.6   Full HD 1920x1080                 \n",
       "4 Apple   MacBook Pro Ultrabook 15.4   IPS Panel Retina Display 2880x1800\n",
       "5 Apple   MacBook Pro Ultrabook 13.3   IPS Panel Retina Display 2560x1600\n",
       "6 Acer    Aspire 3    Notebook  15.6   1366x768                          \n",
       "  Cpu                        Ram  Memory             \n",
       "1 Intel Core i5 2.3GHz       8GB  128GB SSD          \n",
       "2 Intel Core i5 1.8GHz       8GB  128GB Flash Storage\n",
       "3 Intel Core i5 7200U 2.5GHz 8GB  256GB SSD          \n",
       "4 Intel Core i7 2.7GHz       16GB 512GB SSD          \n",
       "5 Intel Core i5 3.1GHz       8GB  256GB SSD          \n",
       "6 AMD A9-Series 9420 3GHz    4GB  500GB HDD          \n",
       "  Gpu                          OpSys      Weight Price_euros\n",
       "1 Intel Iris Plus Graphics 640 macOS      1.37kg 1339.69    \n",
       "2 Intel HD Graphics 6000       macOS      1.34kg  898.94    \n",
       "3 Intel HD Graphics 620        No OS      1.86kg  575.00    \n",
       "4 AMD Radeon Pro 455           macOS      1.83kg 2537.45    \n",
       "5 Intel Iris Plus Graphics 650 macOS      1.37kg 1803.60    \n",
       "6 AMD Radeon R5                Windows 10 2.1kg   400.00    "
      ]
     },
     "metadata": {},
     "output_type": "display_data"
    }
   ],
   "source": [
    "head(df)"
   ]
  },
  {
   "cell_type": "markdown",
   "id": "a77abdc1-82e9-4cbf-981a-0fa3a5f83398",
   "metadata": {},
   "source": [
    "### Data Preparation"
   ]
  },
  {
   "cell_type": "markdown",
   "id": "108355d4-ce02-4e07-8fdd-f8dc801a02d9",
   "metadata": {},
   "source": [
    "#### Feature: Company"
   ]
  },
  {
   "cell_type": "code",
   "execution_count": 4,
   "id": "8cc919c0-c823-4a7d-afa7-6c12dd837734",
   "metadata": {},
   "outputs": [
    {
     "data": {
      "text/plain": [
       "\n",
       "     Acer     Apple      Asus     Chuwi      Dell   Fujitsu    Google        HP \n",
       "      103        21       158         3       297         3         3       274 \n",
       "   Huawei    Lenovo        LG  Mediacom Microsoft       MSI     Razer   Samsung \n",
       "        2       297         3         7         6        54         7         9 \n",
       "  Toshiba      Vero    Xiaomi \n",
       "       48         4         4 "
      ]
     },
     "metadata": {},
     "output_type": "display_data"
    }
   ],
   "source": [
    "company_counts <- table(df$Company)\n",
    "company_counts"
   ]
  },
  {
   "cell_type": "code",
   "execution_count": 5,
   "id": "1afdaa65-2aef-4297-86e6-d3e4bb86c4c6",
   "metadata": {},
   "outputs": [
    {
     "data": {
      "text/plain": [
       "\n",
       "   Acer   Apple    Asus    Dell      HP  Lenovo     MSI   Other Toshiba \n",
       "    103      21     158     297     274     297      54      51      48 "
      ]
     },
     "metadata": {},
     "output_type": "display_data"
    }
   ],
   "source": [
    "companies_to_replace <- names(company_counts[company_counts < 20])\n",
    "\n",
    "df$Company[df$Company %in% companies_to_replace] <- \"Other\"\n",
    "\n",
    "table(df$Company)"
   ]
  },
  {
   "cell_type": "markdown",
   "id": "0a95ac61-d935-4c7c-8feb-c6cb73a7ea2f",
   "metadata": {},
   "source": [
    "#### Feature: Product"
   ]
  },
  {
   "cell_type": "code",
   "execution_count": 6,
   "id": "0d9bd033-8002-41c9-8e23-3ea4bedc9901",
   "metadata": {},
   "outputs": [
    {
     "name": "stdout",
     "output_type": "stream",
     "text": [
      "[1] 225\n"
     ]
    }
   ],
   "source": [
    "df$Model <- sapply(strsplit(as.character(df$Product), \" \"), \"[\", 1)\n",
    "\n",
    "\n",
    "num_unique_models <- length(unique(df$Model))\n",
    "\n",
    "print(num_unique_models)"
   ]
  },
  {
   "cell_type": "code",
   "execution_count": 7,
   "id": "d00aecab-d100-4b9f-893d-1a97748e11f4",
   "metadata": {},
   "outputs": [
    {
     "data": {
      "text/html": [
       "<table class=\"dataframe\">\n",
       "<caption>A data.frame: 10 × 2</caption>\n",
       "<thead>\n",
       "\t<tr><th></th><th scope=col>Model</th><th scope=col>n</th></tr>\n",
       "\t<tr><th></th><th scope=col>&lt;chr&gt;</th><th scope=col>&lt;int&gt;</th></tr>\n",
       "</thead>\n",
       "<tbody>\n",
       "\t<tr><th scope=row>1</th><td>Inspiron </td><td>141</td></tr>\n",
       "\t<tr><th scope=row>2</th><td>IdeaPad  </td><td> 95</td></tr>\n",
       "\t<tr><th scope=row>3</th><td>Aspire   </td><td> 63</td></tr>\n",
       "\t<tr><th scope=row>4</th><td>ThinkPad </td><td> 62</td></tr>\n",
       "\t<tr><th scope=row>5</th><td>Latitude </td><td> 52</td></tr>\n",
       "\t<tr><th scope=row>6</th><td>ProBook  </td><td> 50</td></tr>\n",
       "\t<tr><th scope=row>7</th><td>EliteBook</td><td> 45</td></tr>\n",
       "\t<tr><th scope=row>8</th><td>XPS      </td><td> 39</td></tr>\n",
       "\t<tr><th scope=row>9</th><td>Thinkpad </td><td> 37</td></tr>\n",
       "\t<tr><th scope=row>10</th><td>Vostro   </td><td> 33</td></tr>\n",
       "</tbody>\n",
       "</table>\n"
      ],
      "text/latex": [
       "A data.frame: 10 × 2\n",
       "\\begin{tabular}{r|ll}\n",
       "  & Model & n\\\\\n",
       "  & <chr> & <int>\\\\\n",
       "\\hline\n",
       "\t1 & Inspiron  & 141\\\\\n",
       "\t2 & IdeaPad   &  95\\\\\n",
       "\t3 & Aspire    &  63\\\\\n",
       "\t4 & ThinkPad  &  62\\\\\n",
       "\t5 & Latitude  &  52\\\\\n",
       "\t6 & ProBook   &  50\\\\\n",
       "\t7 & EliteBook &  45\\\\\n",
       "\t8 & XPS       &  39\\\\\n",
       "\t9 & Thinkpad  &  37\\\\\n",
       "\t10 & Vostro    &  33\\\\\n",
       "\\end{tabular}\n"
      ],
      "text/markdown": [
       "\n",
       "A data.frame: 10 × 2\n",
       "\n",
       "| <!--/--> | Model &lt;chr&gt; | n &lt;int&gt; |\n",
       "|---|---|---|\n",
       "| 1 | Inspiron  | 141 |\n",
       "| 2 | IdeaPad   |  95 |\n",
       "| 3 | Aspire    |  63 |\n",
       "| 4 | ThinkPad  |  62 |\n",
       "| 5 | Latitude  |  52 |\n",
       "| 6 | ProBook   |  50 |\n",
       "| 7 | EliteBook |  45 |\n",
       "| 8 | XPS       |  39 |\n",
       "| 9 | Thinkpad  |  37 |\n",
       "| 10 | Vostro    |  33 |\n",
       "\n"
      ],
      "text/plain": [
       "   Model     n  \n",
       "1  Inspiron  141\n",
       "2  IdeaPad    95\n",
       "3  Aspire     63\n",
       "4  ThinkPad   62\n",
       "5  Latitude   52\n",
       "6  ProBook    50\n",
       "7  EliteBook  45\n",
       "8  XPS        39\n",
       "9  Thinkpad   37\n",
       "10 Vostro     33"
      ]
     },
     "metadata": {},
     "output_type": "display_data"
    }
   ],
   "source": [
    "head(dplyr::count(df, Model, sort=TRUE), 10)"
   ]
  },
  {
   "cell_type": "markdown",
   "id": "bcded454-a018-447e-afaa-6a941aa517bc",
   "metadata": {},
   "source": [
    "#### Feature: Inches"
   ]
  },
  {
   "cell_type": "code",
   "execution_count": 8,
   "id": "187503bb-4760-4445-bb14-26442c86535f",
   "metadata": {},
   "outputs": [
    {
     "data": {
      "text/html": [
       "<style>\n",
       ".list-inline {list-style: none; margin:0; padding: 0}\n",
       ".list-inline>li {display: inline-block}\n",
       ".list-inline>li:not(:last-child)::after {content: \"\\00b7\"; padding: 0 .5ex}\n",
       "</style>\n",
       "<ol class=list-inline><li>13.3</li><li>15.6</li><li>15.4</li><li>14</li><li>12</li><li>11.6</li><li>17.3</li><li>10.1</li><li>13.5</li><li>12.5</li><li>13</li><li>18.4</li><li>13.9</li><li>12.3</li><li>17</li><li>15</li><li>14.1</li><li>11.3</li></ol>\n"
      ],
      "text/latex": [
       "\\begin{enumerate*}\n",
       "\\item 13.3\n",
       "\\item 15.6\n",
       "\\item 15.4\n",
       "\\item 14\n",
       "\\item 12\n",
       "\\item 11.6\n",
       "\\item 17.3\n",
       "\\item 10.1\n",
       "\\item 13.5\n",
       "\\item 12.5\n",
       "\\item 13\n",
       "\\item 18.4\n",
       "\\item 13.9\n",
       "\\item 12.3\n",
       "\\item 17\n",
       "\\item 15\n",
       "\\item 14.1\n",
       "\\item 11.3\n",
       "\\end{enumerate*}\n"
      ],
      "text/markdown": [
       "1. 13.3\n",
       "2. 15.6\n",
       "3. 15.4\n",
       "4. 14\n",
       "5. 12\n",
       "6. 11.6\n",
       "7. 17.3\n",
       "8. 10.1\n",
       "9. 13.5\n",
       "10. 12.5\n",
       "11. 13\n",
       "12. 18.4\n",
       "13. 13.9\n",
       "14. 12.3\n",
       "15. 17\n",
       "16. 15\n",
       "17. 14.1\n",
       "18. 11.3\n",
       "\n",
       "\n"
      ],
      "text/plain": [
       " [1] 13.3 15.6 15.4 14.0 12.0 11.6 17.3 10.1 13.5 12.5 13.0 18.4 13.9 12.3 17.0\n",
       "[16] 15.0 14.1 11.3"
      ]
     },
     "metadata": {},
     "output_type": "display_data"
    }
   ],
   "source": [
    "unique(df$Inches)"
   ]
  },
  {
   "cell_type": "code",
   "execution_count": 9,
   "id": "424b84e3-a819-4b23-a175-fcb8babe7fc4",
   "metadata": {},
   "outputs": [],
   "source": [
    "# Define the bin edges\n",
    "bin_edges <- c(0, 11.8, 12.6, 13.7, 14.2, 16.8, Inf)\n",
    "\n",
    "# Create custom labels\n",
    "custom_labels <- c(0, 1, 2, 3, 4, 5)\n",
    "\n",
    "# Create a new categorical variable based on binning\n",
    "df$Inches_Binned <- cut(df$Inches, breaks = bin_edges, labels = custom_labels)"
   ]
  },
  {
   "cell_type": "code",
   "execution_count": 10,
   "id": "6e814210-c740-4c13-8db0-0a6d7e3fc496",
   "metadata": {},
   "outputs": [
    {
     "data": {
      "text/html": [
       "<table class=\"dataframe\">\n",
       "<caption>A data.frame: 6 × 2</caption>\n",
       "<thead>\n",
       "\t<tr><th scope=col>Inches_Binned</th><th scope=col>n</th></tr>\n",
       "\t<tr><th scope=col>&lt;fct&gt;</th><th scope=col>&lt;int&gt;</th></tr>\n",
       "</thead>\n",
       "<tbody>\n",
       "\t<tr><td>4</td><td>673</td></tr>\n",
       "\t<tr><td>3</td><td>204</td></tr>\n",
       "\t<tr><td>2</td><td>172</td></tr>\n",
       "\t<tr><td>5</td><td>166</td></tr>\n",
       "\t<tr><td>1</td><td> 50</td></tr>\n",
       "\t<tr><td>0</td><td> 38</td></tr>\n",
       "</tbody>\n",
       "</table>\n"
      ],
      "text/latex": [
       "A data.frame: 6 × 2\n",
       "\\begin{tabular}{ll}\n",
       " Inches\\_Binned & n\\\\\n",
       " <fct> & <int>\\\\\n",
       "\\hline\n",
       "\t 4 & 673\\\\\n",
       "\t 3 & 204\\\\\n",
       "\t 2 & 172\\\\\n",
       "\t 5 & 166\\\\\n",
       "\t 1 &  50\\\\\n",
       "\t 0 &  38\\\\\n",
       "\\end{tabular}\n"
      ],
      "text/markdown": [
       "\n",
       "A data.frame: 6 × 2\n",
       "\n",
       "| Inches_Binned &lt;fct&gt; | n &lt;int&gt; |\n",
       "|---|---|\n",
       "| 4 | 673 |\n",
       "| 3 | 204 |\n",
       "| 2 | 172 |\n",
       "| 5 | 166 |\n",
       "| 1 |  50 |\n",
       "| 0 |  38 |\n",
       "\n"
      ],
      "text/plain": [
       "  Inches_Binned n  \n",
       "1 4             673\n",
       "2 3             204\n",
       "3 2             172\n",
       "4 5             166\n",
       "5 1              50\n",
       "6 0              38"
      ]
     },
     "metadata": {},
     "output_type": "display_data"
    }
   ],
   "source": [
    "dplyr::count(df, Inches_Binned, sort=TRUE)"
   ]
  },
  {
   "cell_type": "markdown",
   "id": "3f6bcaac-dd8d-4344-ae02-558e999b9d09",
   "metadata": {},
   "source": [
    "#### Feature: Screen Resolution"
   ]
  },
  {
   "cell_type": "code",
   "execution_count": 11,
   "id": "184e99d1-175f-4f5f-a546-33ab1b16645e",
   "metadata": {},
   "outputs": [],
   "source": [
    "# Extract the resolution from the \"ScreenResolution\" column\n",
    "df$Resolution <- str_extract(df$ScreenResolution, \"\\\\d+x\\\\d+\")\n",
    "\n",
    "# Create a new column for the display type\n",
    "df$DisplayType <- str_trim(str_replace(df$ScreenResolution, \"\\\\d+x\\\\d+\", \"\"))\n",
    "\n",
    "# Replace empty strings with NA\n",
    "df$DisplayType[df$DisplayType == \"\"] <- NA\n",
    "\n",
    "# Drop the original \"ScreenResolution\" column\n",
    "df <- subset(df, select = -c(ScreenResolution))"
   ]
  },
  {
   "cell_type": "code",
   "execution_count": 12,
   "id": "106b4512-5aea-4aba-8ec3-ea2d9929d505",
   "metadata": {},
   "outputs": [],
   "source": [
    "# Create touchscreen variable\n",
    "df$Touchscreen <- ifelse(grepl(\"Touchscreen\", df$DisplayType, ignore.case = TRUE), \"1\", \"0\")\n",
    "\n",
    "# Create IPS variable\n",
    "df$IPS_Panel <- ifelse(grepl(\"IPS Panel\", df$DisplayType, ignore.case = TRUE), \"1\", \"0\")\n",
    "\n",
    "# Create Retina Display variable\n",
    "df$RetinaDisplay <- ifelse(grepl(\"Retina Display\", df$DisplayType, ignore.case = TRUE), \"1\", \"0\")\n",
    "\n",
    "# Remove \"Touchscreen\" and \"/\" from \"DisplayType\"\n",
    "df$DisplayType <- gsub(\"Touchscreen\", \"\", df$DisplayType, ignore.case = TRUE)\n",
    "df$DisplayType <- gsub(\"/ \", \"\", df$DisplayType)\n",
    "df$DisplayType <- gsub(\"IPS Panel\", \"\", df$DisplayType, ignore.case = TRUE)\n",
    "df$DisplayType <- trimws(df$DisplayType)\n",
    "\n",
    "# Replace '' with NA for visualization\n",
    "df$DisplayType[df$DisplayType == \"\"] <- NA\n",
    "df$Touchscreen[df$Touchscreen == \"\"] <- NA\n",
    "df$IPS_Panel[df$IPS_Panel == \"\"] <- NA\n",
    "df$RetinaDisplay[df$RetinaDisplay == \"\"] <- NA\n",
    "\n"
   ]
  },
  {
   "cell_type": "code",
   "execution_count": 13,
   "id": "757f7a03-e60b-4aa0-9ba7-8339138601f9",
   "metadata": {},
   "outputs": [
    {
     "data": {
      "text/html": [
       "<style>\n",
       ".list-inline {list-style: none; margin:0; padding: 0}\n",
       ".list-inline>li {display: inline-block}\n",
       ".list-inline>li:not(:last-child)::after {content: \"\\00b7\"; padding: 0 .5ex}\n",
       "</style>\n",
       "<ol class=list-inline><li>'2560x1600'</li><li>'1440x900'</li><li>'1920x1080'</li><li>'2880x1800'</li><li>'1366x768'</li><li>'2304x1440'</li><li>'3200x1800'</li><li>'1920x1200'</li><li>'2256x1504'</li><li>'3840x2160'</li><li>'2160x1440'</li><li>'2560x1440'</li><li>'1600x900'</li><li>'2736x1824'</li><li>'2400x1600'</li></ol>\n"
      ],
      "text/latex": [
       "\\begin{enumerate*}\n",
       "\\item '2560x1600'\n",
       "\\item '1440x900'\n",
       "\\item '1920x1080'\n",
       "\\item '2880x1800'\n",
       "\\item '1366x768'\n",
       "\\item '2304x1440'\n",
       "\\item '3200x1800'\n",
       "\\item '1920x1200'\n",
       "\\item '2256x1504'\n",
       "\\item '3840x2160'\n",
       "\\item '2160x1440'\n",
       "\\item '2560x1440'\n",
       "\\item '1600x900'\n",
       "\\item '2736x1824'\n",
       "\\item '2400x1600'\n",
       "\\end{enumerate*}\n"
      ],
      "text/markdown": [
       "1. '2560x1600'\n",
       "2. '1440x900'\n",
       "3. '1920x1080'\n",
       "4. '2880x1800'\n",
       "5. '1366x768'\n",
       "6. '2304x1440'\n",
       "7. '3200x1800'\n",
       "8. '1920x1200'\n",
       "9. '2256x1504'\n",
       "10. '3840x2160'\n",
       "11. '2160x1440'\n",
       "12. '2560x1440'\n",
       "13. '1600x900'\n",
       "14. '2736x1824'\n",
       "15. '2400x1600'\n",
       "\n",
       "\n"
      ],
      "text/plain": [
       " [1] \"2560x1600\" \"1440x900\"  \"1920x1080\" \"2880x1800\" \"1366x768\"  \"2304x1440\"\n",
       " [7] \"3200x1800\" \"1920x1200\" \"2256x1504\" \"3840x2160\" \"2160x1440\" \"2560x1440\"\n",
       "[13] \"1600x900\"  \"2736x1824\" \"2400x1600\""
      ]
     },
     "metadata": {},
     "output_type": "display_data"
    }
   ],
   "source": [
    "unique(df$Resolution)"
   ]
  },
  {
   "cell_type": "code",
   "execution_count": 14,
   "id": "5623b53a-621c-40a7-99a2-891ff73adad9",
   "metadata": {},
   "outputs": [
    {
     "data": {
      "text/html": [
       "<table class=\"dataframe\">\n",
       "<caption>A data.frame: 6 × 19</caption>\n",
       "<thead>\n",
       "\t<tr><th></th><th scope=col>Company</th><th scope=col>Product</th><th scope=col>TypeName</th><th scope=col>Inches</th><th scope=col>Cpu</th><th scope=col>Ram</th><th scope=col>Memory</th><th scope=col>Gpu</th><th scope=col>OpSys</th><th scope=col>Weight</th><th scope=col>Price_euros</th><th scope=col>Model</th><th scope=col>Inches_Binned</th><th scope=col>ResolutionWidth</th><th scope=col>ResolutionHeight</th><th scope=col>DisplayType</th><th scope=col>Touchscreen</th><th scope=col>IPS_Panel</th><th scope=col>RetinaDisplay</th></tr>\n",
       "\t<tr><th></th><th scope=col>&lt;chr&gt;</th><th scope=col>&lt;chr&gt;</th><th scope=col>&lt;chr&gt;</th><th scope=col>&lt;dbl&gt;</th><th scope=col>&lt;chr&gt;</th><th scope=col>&lt;chr&gt;</th><th scope=col>&lt;chr&gt;</th><th scope=col>&lt;chr&gt;</th><th scope=col>&lt;chr&gt;</th><th scope=col>&lt;chr&gt;</th><th scope=col>&lt;dbl&gt;</th><th scope=col>&lt;chr&gt;</th><th scope=col>&lt;fct&gt;</th><th scope=col>&lt;int&gt;</th><th scope=col>&lt;int&gt;</th><th scope=col>&lt;chr&gt;</th><th scope=col>&lt;chr&gt;</th><th scope=col>&lt;chr&gt;</th><th scope=col>&lt;chr&gt;</th></tr>\n",
       "</thead>\n",
       "<tbody>\n",
       "\t<tr><th scope=row>1</th><td>Apple</td><td>MacBook Pro</td><td>Ultrabook</td><td>13.3</td><td>Intel Core i5 2.3GHz      </td><td>8GB </td><td>128GB SSD          </td><td>Intel Iris Plus Graphics 640</td><td>macOS     </td><td>1.37kg</td><td>1339.69</td><td>MacBook</td><td>2</td><td>2560</td><td>1600</td><td>Retina Display</td><td>0</td><td>1</td><td>1</td></tr>\n",
       "\t<tr><th scope=row>2</th><td>Apple</td><td>Macbook Air</td><td>Ultrabook</td><td>13.3</td><td>Intel Core i5 1.8GHz      </td><td>8GB </td><td>128GB Flash Storage</td><td>Intel HD Graphics 6000      </td><td>macOS     </td><td>1.34kg</td><td> 898.94</td><td>Macbook</td><td>2</td><td>1440</td><td> 900</td><td>NA            </td><td>0</td><td>0</td><td>0</td></tr>\n",
       "\t<tr><th scope=row>3</th><td>HP   </td><td>250 G6     </td><td>Notebook </td><td>15.6</td><td>Intel Core i5 7200U 2.5GHz</td><td>8GB </td><td>256GB SSD          </td><td>Intel HD Graphics 620       </td><td>No OS     </td><td>1.86kg</td><td> 575.00</td><td>250    </td><td>4</td><td>1920</td><td>1080</td><td>Full HD       </td><td>0</td><td>0</td><td>0</td></tr>\n",
       "\t<tr><th scope=row>4</th><td>Apple</td><td>MacBook Pro</td><td>Ultrabook</td><td>15.4</td><td>Intel Core i7 2.7GHz      </td><td>16GB</td><td>512GB SSD          </td><td>AMD Radeon Pro 455          </td><td>macOS     </td><td>1.83kg</td><td>2537.45</td><td>MacBook</td><td>4</td><td>2880</td><td>1800</td><td>Retina Display</td><td>0</td><td>1</td><td>1</td></tr>\n",
       "\t<tr><th scope=row>5</th><td>Apple</td><td>MacBook Pro</td><td>Ultrabook</td><td>13.3</td><td>Intel Core i5 3.1GHz      </td><td>8GB </td><td>256GB SSD          </td><td>Intel Iris Plus Graphics 650</td><td>macOS     </td><td>1.37kg</td><td>1803.60</td><td>MacBook</td><td>2</td><td>2560</td><td>1600</td><td>Retina Display</td><td>0</td><td>1</td><td>1</td></tr>\n",
       "\t<tr><th scope=row>6</th><td>Acer </td><td>Aspire 3   </td><td>Notebook </td><td>15.6</td><td>AMD A9-Series 9420 3GHz   </td><td>4GB </td><td>500GB HDD          </td><td>AMD Radeon R5               </td><td>Windows 10</td><td>2.1kg </td><td> 400.00</td><td>Aspire </td><td>4</td><td>1366</td><td> 768</td><td>NA            </td><td>0</td><td>0</td><td>0</td></tr>\n",
       "</tbody>\n",
       "</table>\n"
      ],
      "text/latex": [
       "A data.frame: 6 × 19\n",
       "\\begin{tabular}{r|lllllllllllllllllll}\n",
       "  & Company & Product & TypeName & Inches & Cpu & Ram & Memory & Gpu & OpSys & Weight & Price\\_euros & Model & Inches\\_Binned & ResolutionWidth & ResolutionHeight & DisplayType & Touchscreen & IPS\\_Panel & RetinaDisplay\\\\\n",
       "  & <chr> & <chr> & <chr> & <dbl> & <chr> & <chr> & <chr> & <chr> & <chr> & <chr> & <dbl> & <chr> & <fct> & <int> & <int> & <chr> & <chr> & <chr> & <chr>\\\\\n",
       "\\hline\n",
       "\t1 & Apple & MacBook Pro & Ultrabook & 13.3 & Intel Core i5 2.3GHz       & 8GB  & 128GB SSD           & Intel Iris Plus Graphics 640 & macOS      & 1.37kg & 1339.69 & MacBook & 2 & 2560 & 1600 & Retina Display & 0 & 1 & 1\\\\\n",
       "\t2 & Apple & Macbook Air & Ultrabook & 13.3 & Intel Core i5 1.8GHz       & 8GB  & 128GB Flash Storage & Intel HD Graphics 6000       & macOS      & 1.34kg &  898.94 & Macbook & 2 & 1440 &  900 & NA             & 0 & 0 & 0\\\\\n",
       "\t3 & HP    & 250 G6      & Notebook  & 15.6 & Intel Core i5 7200U 2.5GHz & 8GB  & 256GB SSD           & Intel HD Graphics 620        & No OS      & 1.86kg &  575.00 & 250     & 4 & 1920 & 1080 & Full HD        & 0 & 0 & 0\\\\\n",
       "\t4 & Apple & MacBook Pro & Ultrabook & 15.4 & Intel Core i7 2.7GHz       & 16GB & 512GB SSD           & AMD Radeon Pro 455           & macOS      & 1.83kg & 2537.45 & MacBook & 4 & 2880 & 1800 & Retina Display & 0 & 1 & 1\\\\\n",
       "\t5 & Apple & MacBook Pro & Ultrabook & 13.3 & Intel Core i5 3.1GHz       & 8GB  & 256GB SSD           & Intel Iris Plus Graphics 650 & macOS      & 1.37kg & 1803.60 & MacBook & 2 & 2560 & 1600 & Retina Display & 0 & 1 & 1\\\\\n",
       "\t6 & Acer  & Aspire 3    & Notebook  & 15.6 & AMD A9-Series 9420 3GHz    & 4GB  & 500GB HDD           & AMD Radeon R5                & Windows 10 & 2.1kg  &  400.00 & Aspire  & 4 & 1366 &  768 & NA             & 0 & 0 & 0\\\\\n",
       "\\end{tabular}\n"
      ],
      "text/markdown": [
       "\n",
       "A data.frame: 6 × 19\n",
       "\n",
       "| <!--/--> | Company &lt;chr&gt; | Product &lt;chr&gt; | TypeName &lt;chr&gt; | Inches &lt;dbl&gt; | Cpu &lt;chr&gt; | Ram &lt;chr&gt; | Memory &lt;chr&gt; | Gpu &lt;chr&gt; | OpSys &lt;chr&gt; | Weight &lt;chr&gt; | Price_euros &lt;dbl&gt; | Model &lt;chr&gt; | Inches_Binned &lt;fct&gt; | ResolutionWidth &lt;int&gt; | ResolutionHeight &lt;int&gt; | DisplayType &lt;chr&gt; | Touchscreen &lt;chr&gt; | IPS_Panel &lt;chr&gt; | RetinaDisplay &lt;chr&gt; |\n",
       "|---|---|---|---|---|---|---|---|---|---|---|---|---|---|---|---|---|---|---|---|\n",
       "| 1 | Apple | MacBook Pro | Ultrabook | 13.3 | Intel Core i5 2.3GHz       | 8GB  | 128GB SSD           | Intel Iris Plus Graphics 640 | macOS      | 1.37kg | 1339.69 | MacBook | 2 | 2560 | 1600 | Retina Display | 0 | 1 | 1 |\n",
       "| 2 | Apple | Macbook Air | Ultrabook | 13.3 | Intel Core i5 1.8GHz       | 8GB  | 128GB Flash Storage | Intel HD Graphics 6000       | macOS      | 1.34kg |  898.94 | Macbook | 2 | 1440 |  900 | NA             | 0 | 0 | 0 |\n",
       "| 3 | HP    | 250 G6      | Notebook  | 15.6 | Intel Core i5 7200U 2.5GHz | 8GB  | 256GB SSD           | Intel HD Graphics 620        | No OS      | 1.86kg |  575.00 | 250     | 4 | 1920 | 1080 | Full HD        | 0 | 0 | 0 |\n",
       "| 4 | Apple | MacBook Pro | Ultrabook | 15.4 | Intel Core i7 2.7GHz       | 16GB | 512GB SSD           | AMD Radeon Pro 455           | macOS      | 1.83kg | 2537.45 | MacBook | 4 | 2880 | 1800 | Retina Display | 0 | 1 | 1 |\n",
       "| 5 | Apple | MacBook Pro | Ultrabook | 13.3 | Intel Core i5 3.1GHz       | 8GB  | 256GB SSD           | Intel Iris Plus Graphics 650 | macOS      | 1.37kg | 1803.60 | MacBook | 2 | 2560 | 1600 | Retina Display | 0 | 1 | 1 |\n",
       "| 6 | Acer  | Aspire 3    | Notebook  | 15.6 | AMD A9-Series 9420 3GHz    | 4GB  | 500GB HDD           | AMD Radeon R5                | Windows 10 | 2.1kg  |  400.00 | Aspire  | 4 | 1366 |  768 | NA             | 0 | 0 | 0 |\n",
       "\n"
      ],
      "text/plain": [
       "  Company Product     TypeName  Inches Cpu                        Ram \n",
       "1 Apple   MacBook Pro Ultrabook 13.3   Intel Core i5 2.3GHz       8GB \n",
       "2 Apple   Macbook Air Ultrabook 13.3   Intel Core i5 1.8GHz       8GB \n",
       "3 HP      250 G6      Notebook  15.6   Intel Core i5 7200U 2.5GHz 8GB \n",
       "4 Apple   MacBook Pro Ultrabook 15.4   Intel Core i7 2.7GHz       16GB\n",
       "5 Apple   MacBook Pro Ultrabook 13.3   Intel Core i5 3.1GHz       8GB \n",
       "6 Acer    Aspire 3    Notebook  15.6   AMD A9-Series 9420 3GHz    4GB \n",
       "  Memory              Gpu                          OpSys      Weight\n",
       "1 128GB SSD           Intel Iris Plus Graphics 640 macOS      1.37kg\n",
       "2 128GB Flash Storage Intel HD Graphics 6000       macOS      1.34kg\n",
       "3 256GB SSD           Intel HD Graphics 620        No OS      1.86kg\n",
       "4 512GB SSD           AMD Radeon Pro 455           macOS      1.83kg\n",
       "5 256GB SSD           Intel Iris Plus Graphics 650 macOS      1.37kg\n",
       "6 500GB HDD           AMD Radeon R5                Windows 10 2.1kg \n",
       "  Price_euros Model   Inches_Binned ResolutionWidth ResolutionHeight\n",
       "1 1339.69     MacBook 2             2560            1600            \n",
       "2  898.94     Macbook 2             1440             900            \n",
       "3  575.00     250     4             1920            1080            \n",
       "4 2537.45     MacBook 4             2880            1800            \n",
       "5 1803.60     MacBook 2             2560            1600            \n",
       "6  400.00     Aspire  4             1366             768            \n",
       "  DisplayType    Touchscreen IPS_Panel RetinaDisplay\n",
       "1 Retina Display 0           1         1            \n",
       "2 NA             0           0         0            \n",
       "3 Full HD        0           0         0            \n",
       "4 Retina Display 0           1         1            \n",
       "5 Retina Display 0           1         1            \n",
       "6 NA             0           0         0            "
      ]
     },
     "metadata": {},
     "output_type": "display_data"
    }
   ],
   "source": [
    "# Split the \"Resolution\" column into \"ResolutionWidth\" and \"ResolutionHeight\" columns\n",
    "df <- df %>%\n",
    "  separate(Resolution, into = c(\"ResolutionWidth\", \"ResolutionHeight\"), sep = \"x\", convert = TRUE)\n",
    "head(df)"
   ]
  },
  {
   "cell_type": "markdown",
   "id": "4b546d4e-d5ed-464d-a199-f1bb9f9e3d62",
   "metadata": {},
   "source": [
    "#### Feature: Cpu"
   ]
  },
  {
   "cell_type": "code",
   "execution_count": 15,
   "id": "8102e4a5-ee79-40d5-a12a-3c80a29564be",
   "metadata": {},
   "outputs": [
    {
     "data": {
      "text/html": [
       "<table class=\"dataframe\">\n",
       "<caption>A data.frame: 10 × 2</caption>\n",
       "<thead>\n",
       "\t<tr><th></th><th scope=col>Cpu</th><th scope=col>n</th></tr>\n",
       "\t<tr><th></th><th scope=col>&lt;chr&gt;</th><th scope=col>&lt;int&gt;</th></tr>\n",
       "</thead>\n",
       "<tbody>\n",
       "\t<tr><th scope=row>1</th><td>Intel Core i5 7200U 2.5GHz </td><td>190</td></tr>\n",
       "\t<tr><th scope=row>2</th><td>Intel Core i7 7700HQ 2.8GHz</td><td>146</td></tr>\n",
       "\t<tr><th scope=row>3</th><td>Intel Core i7 7500U 2.7GHz </td><td>134</td></tr>\n",
       "\t<tr><th scope=row>4</th><td>Intel Core i7 8550U 1.8GHz </td><td> 73</td></tr>\n",
       "\t<tr><th scope=row>5</th><td>Intel Core i5 8250U 1.6GHz </td><td> 72</td></tr>\n",
       "\t<tr><th scope=row>6</th><td>Intel Core i5 6200U 2.3GHz </td><td> 68</td></tr>\n",
       "\t<tr><th scope=row>7</th><td>Intel Core i3 6006U 2GHz   </td><td> 64</td></tr>\n",
       "\t<tr><th scope=row>8</th><td>Intel Core i7 6500U 2.5GHz </td><td> 49</td></tr>\n",
       "\t<tr><th scope=row>9</th><td>Intel Core i7 6700HQ 2.6GHz</td><td> 43</td></tr>\n",
       "\t<tr><th scope=row>10</th><td>Intel Core i3 7100U 2.4GHz </td><td> 37</td></tr>\n",
       "</tbody>\n",
       "</table>\n"
      ],
      "text/latex": [
       "A data.frame: 10 × 2\n",
       "\\begin{tabular}{r|ll}\n",
       "  & Cpu & n\\\\\n",
       "  & <chr> & <int>\\\\\n",
       "\\hline\n",
       "\t1 & Intel Core i5 7200U 2.5GHz  & 190\\\\\n",
       "\t2 & Intel Core i7 7700HQ 2.8GHz & 146\\\\\n",
       "\t3 & Intel Core i7 7500U 2.7GHz  & 134\\\\\n",
       "\t4 & Intel Core i7 8550U 1.8GHz  &  73\\\\\n",
       "\t5 & Intel Core i5 8250U 1.6GHz  &  72\\\\\n",
       "\t6 & Intel Core i5 6200U 2.3GHz  &  68\\\\\n",
       "\t7 & Intel Core i3 6006U 2GHz    &  64\\\\\n",
       "\t8 & Intel Core i7 6500U 2.5GHz  &  49\\\\\n",
       "\t9 & Intel Core i7 6700HQ 2.6GHz &  43\\\\\n",
       "\t10 & Intel Core i3 7100U 2.4GHz  &  37\\\\\n",
       "\\end{tabular}\n"
      ],
      "text/markdown": [
       "\n",
       "A data.frame: 10 × 2\n",
       "\n",
       "| <!--/--> | Cpu &lt;chr&gt; | n &lt;int&gt; |\n",
       "|---|---|---|\n",
       "| 1 | Intel Core i5 7200U 2.5GHz  | 190 |\n",
       "| 2 | Intel Core i7 7700HQ 2.8GHz | 146 |\n",
       "| 3 | Intel Core i7 7500U 2.7GHz  | 134 |\n",
       "| 4 | Intel Core i7 8550U 1.8GHz  |  73 |\n",
       "| 5 | Intel Core i5 8250U 1.6GHz  |  72 |\n",
       "| 6 | Intel Core i5 6200U 2.3GHz  |  68 |\n",
       "| 7 | Intel Core i3 6006U 2GHz    |  64 |\n",
       "| 8 | Intel Core i7 6500U 2.5GHz  |  49 |\n",
       "| 9 | Intel Core i7 6700HQ 2.6GHz |  43 |\n",
       "| 10 | Intel Core i3 7100U 2.4GHz  |  37 |\n",
       "\n"
      ],
      "text/plain": [
       "   Cpu                         n  \n",
       "1  Intel Core i5 7200U 2.5GHz  190\n",
       "2  Intel Core i7 7700HQ 2.8GHz 146\n",
       "3  Intel Core i7 7500U 2.7GHz  134\n",
       "4  Intel Core i7 8550U 1.8GHz   73\n",
       "5  Intel Core i5 8250U 1.6GHz   72\n",
       "6  Intel Core i5 6200U 2.3GHz   68\n",
       "7  Intel Core i3 6006U 2GHz     64\n",
       "8  Intel Core i7 6500U 2.5GHz   49\n",
       "9  Intel Core i7 6700HQ 2.6GHz  43\n",
       "10 Intel Core i3 7100U 2.4GHz   37"
      ]
     },
     "metadata": {},
     "output_type": "display_data"
    }
   ],
   "source": [
    "head(dplyr::count(df, Cpu, sort=TRUE), 10)"
   ]
  },
  {
   "cell_type": "code",
   "execution_count": 16,
   "id": "c132a1bf-1393-4e4b-8acc-c5e1c2c117cd",
   "metadata": {},
   "outputs": [
    {
     "data": {
      "text/html": [
       "<table class=\"dataframe\">\n",
       "<caption>A data.frame: 6 × 22</caption>\n",
       "<thead>\n",
       "\t<tr><th></th><th scope=col>Company</th><th scope=col>Product</th><th scope=col>TypeName</th><th scope=col>Inches</th><th scope=col>Cpu</th><th scope=col>Ram</th><th scope=col>Memory</th><th scope=col>Gpu</th><th scope=col>OpSys</th><th scope=col>Weight</th><th scope=col>⋯</th><th scope=col>Inches_Binned</th><th scope=col>ResolutionWidth</th><th scope=col>ResolutionHeight</th><th scope=col>DisplayType</th><th scope=col>Touchscreen</th><th scope=col>IPS_Panel</th><th scope=col>RetinaDisplay</th><th scope=col>CpuBrand</th><th scope=col>CpuProduct</th><th scope=col>CpuClockSpeed_GHz</th></tr>\n",
       "\t<tr><th></th><th scope=col>&lt;chr&gt;</th><th scope=col>&lt;chr&gt;</th><th scope=col>&lt;chr&gt;</th><th scope=col>&lt;dbl&gt;</th><th scope=col>&lt;chr&gt;</th><th scope=col>&lt;chr&gt;</th><th scope=col>&lt;chr&gt;</th><th scope=col>&lt;chr&gt;</th><th scope=col>&lt;chr&gt;</th><th scope=col>&lt;chr&gt;</th><th scope=col>⋯</th><th scope=col>&lt;fct&gt;</th><th scope=col>&lt;int&gt;</th><th scope=col>&lt;int&gt;</th><th scope=col>&lt;chr&gt;</th><th scope=col>&lt;chr&gt;</th><th scope=col>&lt;chr&gt;</th><th scope=col>&lt;chr&gt;</th><th scope=col>&lt;chr&gt;</th><th scope=col>&lt;chr&gt;</th><th scope=col>&lt;dbl&gt;</th></tr>\n",
       "</thead>\n",
       "<tbody>\n",
       "\t<tr><th scope=row>1</th><td>Apple</td><td>MacBook Pro</td><td>Ultrabook</td><td>13.3</td><td>Intel Core i5 2.3GHz      </td><td>8GB </td><td>128GB SSD          </td><td>Intel Iris Plus Graphics 640</td><td>macOS     </td><td>1.37kg</td><td>⋯</td><td>2</td><td>2560</td><td>1600</td><td>Retina Display</td><td>0</td><td>1</td><td>1</td><td>Intel</td><td>i5</td><td>5</td></tr>\n",
       "\t<tr><th scope=row>2</th><td>Apple</td><td>Macbook Air</td><td>Ultrabook</td><td>13.3</td><td>Intel Core i5 1.8GHz      </td><td>8GB </td><td>128GB Flash Storage</td><td>Intel HD Graphics 6000      </td><td>macOS     </td><td>1.34kg</td><td>⋯</td><td>2</td><td>1440</td><td> 900</td><td>NA            </td><td>0</td><td>0</td><td>0</td><td>Intel</td><td>i5</td><td>5</td></tr>\n",
       "\t<tr><th scope=row>3</th><td>HP   </td><td>250 G6     </td><td>Notebook </td><td>15.6</td><td>Intel Core i5 7200U 2.5GHz</td><td>8GB </td><td>256GB SSD          </td><td>Intel HD Graphics 620       </td><td>No OS     </td><td>1.86kg</td><td>⋯</td><td>4</td><td>1920</td><td>1080</td><td>Full HD       </td><td>0</td><td>0</td><td>0</td><td>Intel</td><td>i5</td><td>5</td></tr>\n",
       "\t<tr><th scope=row>4</th><td>Apple</td><td>MacBook Pro</td><td>Ultrabook</td><td>15.4</td><td>Intel Core i7 2.7GHz      </td><td>16GB</td><td>512GB SSD          </td><td>AMD Radeon Pro 455          </td><td>macOS     </td><td>1.83kg</td><td>⋯</td><td>4</td><td>2880</td><td>1800</td><td>Retina Display</td><td>0</td><td>1</td><td>1</td><td>Intel</td><td>i7</td><td>7</td></tr>\n",
       "\t<tr><th scope=row>5</th><td>Apple</td><td>MacBook Pro</td><td>Ultrabook</td><td>13.3</td><td>Intel Core i5 3.1GHz      </td><td>8GB </td><td>256GB SSD          </td><td>Intel Iris Plus Graphics 650</td><td>macOS     </td><td>1.37kg</td><td>⋯</td><td>2</td><td>2560</td><td>1600</td><td>Retina Display</td><td>0</td><td>1</td><td>1</td><td>Intel</td><td>i5</td><td>5</td></tr>\n",
       "\t<tr><th scope=row>6</th><td>Acer </td><td>Aspire 3   </td><td>Notebook </td><td>15.6</td><td>AMD A9-Series 9420 3GHz   </td><td>4GB </td><td>500GB HDD          </td><td>AMD Radeon R5               </td><td>Windows 10</td><td>2.1kg </td><td>⋯</td><td>4</td><td>1366</td><td> 768</td><td>NA            </td><td>0</td><td>0</td><td>0</td><td>AMD  </td><td>NA</td><td>9</td></tr>\n",
       "</tbody>\n",
       "</table>\n"
      ],
      "text/latex": [
       "A data.frame: 6 × 22\n",
       "\\begin{tabular}{r|lllllllllllllllllllll}\n",
       "  & Company & Product & TypeName & Inches & Cpu & Ram & Memory & Gpu & OpSys & Weight & ⋯ & Inches\\_Binned & ResolutionWidth & ResolutionHeight & DisplayType & Touchscreen & IPS\\_Panel & RetinaDisplay & CpuBrand & CpuProduct & CpuClockSpeed\\_GHz\\\\\n",
       "  & <chr> & <chr> & <chr> & <dbl> & <chr> & <chr> & <chr> & <chr> & <chr> & <chr> & ⋯ & <fct> & <int> & <int> & <chr> & <chr> & <chr> & <chr> & <chr> & <chr> & <dbl>\\\\\n",
       "\\hline\n",
       "\t1 & Apple & MacBook Pro & Ultrabook & 13.3 & Intel Core i5 2.3GHz       & 8GB  & 128GB SSD           & Intel Iris Plus Graphics 640 & macOS      & 1.37kg & ⋯ & 2 & 2560 & 1600 & Retina Display & 0 & 1 & 1 & Intel & i5 & 5\\\\\n",
       "\t2 & Apple & Macbook Air & Ultrabook & 13.3 & Intel Core i5 1.8GHz       & 8GB  & 128GB Flash Storage & Intel HD Graphics 6000       & macOS      & 1.34kg & ⋯ & 2 & 1440 &  900 & NA             & 0 & 0 & 0 & Intel & i5 & 5\\\\\n",
       "\t3 & HP    & 250 G6      & Notebook  & 15.6 & Intel Core i5 7200U 2.5GHz & 8GB  & 256GB SSD           & Intel HD Graphics 620        & No OS      & 1.86kg & ⋯ & 4 & 1920 & 1080 & Full HD        & 0 & 0 & 0 & Intel & i5 & 5\\\\\n",
       "\t4 & Apple & MacBook Pro & Ultrabook & 15.4 & Intel Core i7 2.7GHz       & 16GB & 512GB SSD           & AMD Radeon Pro 455           & macOS      & 1.83kg & ⋯ & 4 & 2880 & 1800 & Retina Display & 0 & 1 & 1 & Intel & i7 & 7\\\\\n",
       "\t5 & Apple & MacBook Pro & Ultrabook & 13.3 & Intel Core i5 3.1GHz       & 8GB  & 256GB SSD           & Intel Iris Plus Graphics 650 & macOS      & 1.37kg & ⋯ & 2 & 2560 & 1600 & Retina Display & 0 & 1 & 1 & Intel & i5 & 5\\\\\n",
       "\t6 & Acer  & Aspire 3    & Notebook  & 15.6 & AMD A9-Series 9420 3GHz    & 4GB  & 500GB HDD           & AMD Radeon R5                & Windows 10 & 2.1kg  & ⋯ & 4 & 1366 &  768 & NA             & 0 & 0 & 0 & AMD   & NA & 9\\\\\n",
       "\\end{tabular}\n"
      ],
      "text/markdown": [
       "\n",
       "A data.frame: 6 × 22\n",
       "\n",
       "| <!--/--> | Company &lt;chr&gt; | Product &lt;chr&gt; | TypeName &lt;chr&gt; | Inches &lt;dbl&gt; | Cpu &lt;chr&gt; | Ram &lt;chr&gt; | Memory &lt;chr&gt; | Gpu &lt;chr&gt; | OpSys &lt;chr&gt; | Weight &lt;chr&gt; | ⋯ ⋯ | Inches_Binned &lt;fct&gt; | ResolutionWidth &lt;int&gt; | ResolutionHeight &lt;int&gt; | DisplayType &lt;chr&gt; | Touchscreen &lt;chr&gt; | IPS_Panel &lt;chr&gt; | RetinaDisplay &lt;chr&gt; | CpuBrand &lt;chr&gt; | CpuProduct &lt;chr&gt; | CpuClockSpeed_GHz &lt;dbl&gt; |\n",
       "|---|---|---|---|---|---|---|---|---|---|---|---|---|---|---|---|---|---|---|---|---|---|\n",
       "| 1 | Apple | MacBook Pro | Ultrabook | 13.3 | Intel Core i5 2.3GHz       | 8GB  | 128GB SSD           | Intel Iris Plus Graphics 640 | macOS      | 1.37kg | ⋯ | 2 | 2560 | 1600 | Retina Display | 0 | 1 | 1 | Intel | i5 | 5 |\n",
       "| 2 | Apple | Macbook Air | Ultrabook | 13.3 | Intel Core i5 1.8GHz       | 8GB  | 128GB Flash Storage | Intel HD Graphics 6000       | macOS      | 1.34kg | ⋯ | 2 | 1440 |  900 | NA             | 0 | 0 | 0 | Intel | i5 | 5 |\n",
       "| 3 | HP    | 250 G6      | Notebook  | 15.6 | Intel Core i5 7200U 2.5GHz | 8GB  | 256GB SSD           | Intel HD Graphics 620        | No OS      | 1.86kg | ⋯ | 4 | 1920 | 1080 | Full HD        | 0 | 0 | 0 | Intel | i5 | 5 |\n",
       "| 4 | Apple | MacBook Pro | Ultrabook | 15.4 | Intel Core i7 2.7GHz       | 16GB | 512GB SSD           | AMD Radeon Pro 455           | macOS      | 1.83kg | ⋯ | 4 | 2880 | 1800 | Retina Display | 0 | 1 | 1 | Intel | i7 | 7 |\n",
       "| 5 | Apple | MacBook Pro | Ultrabook | 13.3 | Intel Core i5 3.1GHz       | 8GB  | 256GB SSD           | Intel Iris Plus Graphics 650 | macOS      | 1.37kg | ⋯ | 2 | 2560 | 1600 | Retina Display | 0 | 1 | 1 | Intel | i5 | 5 |\n",
       "| 6 | Acer  | Aspire 3    | Notebook  | 15.6 | AMD A9-Series 9420 3GHz    | 4GB  | 500GB HDD           | AMD Radeon R5                | Windows 10 | 2.1kg  | ⋯ | 4 | 1366 |  768 | NA             | 0 | 0 | 0 | AMD   | NA | 9 |\n",
       "\n"
      ],
      "text/plain": [
       "  Company Product     TypeName  Inches Cpu                        Ram \n",
       "1 Apple   MacBook Pro Ultrabook 13.3   Intel Core i5 2.3GHz       8GB \n",
       "2 Apple   Macbook Air Ultrabook 13.3   Intel Core i5 1.8GHz       8GB \n",
       "3 HP      250 G6      Notebook  15.6   Intel Core i5 7200U 2.5GHz 8GB \n",
       "4 Apple   MacBook Pro Ultrabook 15.4   Intel Core i7 2.7GHz       16GB\n",
       "5 Apple   MacBook Pro Ultrabook 13.3   Intel Core i5 3.1GHz       8GB \n",
       "6 Acer    Aspire 3    Notebook  15.6   AMD A9-Series 9420 3GHz    4GB \n",
       "  Memory              Gpu                          OpSys      Weight ⋯\n",
       "1 128GB SSD           Intel Iris Plus Graphics 640 macOS      1.37kg ⋯\n",
       "2 128GB Flash Storage Intel HD Graphics 6000       macOS      1.34kg ⋯\n",
       "3 256GB SSD           Intel HD Graphics 620        No OS      1.86kg ⋯\n",
       "4 512GB SSD           AMD Radeon Pro 455           macOS      1.83kg ⋯\n",
       "5 256GB SSD           Intel Iris Plus Graphics 650 macOS      1.37kg ⋯\n",
       "6 500GB HDD           AMD Radeon R5                Windows 10 2.1kg  ⋯\n",
       "  Inches_Binned ResolutionWidth ResolutionHeight DisplayType    Touchscreen\n",
       "1 2             2560            1600             Retina Display 0          \n",
       "2 2             1440             900             NA             0          \n",
       "3 4             1920            1080             Full HD        0          \n",
       "4 4             2880            1800             Retina Display 0          \n",
       "5 2             2560            1600             Retina Display 0          \n",
       "6 4             1366             768             NA             0          \n",
       "  IPS_Panel RetinaDisplay CpuBrand CpuProduct CpuClockSpeed_GHz\n",
       "1 1         1             Intel    i5         5                \n",
       "2 0         0             Intel    i5         5                \n",
       "3 0         0             Intel    i5         5                \n",
       "4 1         1             Intel    i7         7                \n",
       "5 1         1             Intel    i5         5                \n",
       "6 0         0             AMD      NA         9                "
      ]
     },
     "metadata": {},
     "output_type": "display_data"
    }
   ],
   "source": [
    "df <- df %>%\n",
    "  mutate(CpuBrand = str_extract(Cpu, \"^[a-zA-Z0-9]+\"))\n",
    "\n",
    "# Extract CpuProduct\n",
    "df <- df %>%\n",
    "  mutate(CpuProduct = str_extract(Cpu, \"(?<=Core )[a-zA-Z0-9]+(?= [0-9])\"))\n",
    "\n",
    "# Extract CpuClockSpeed_GHz\n",
    "df <- df %>%\n",
    "  mutate(CpuClockSpeed_GHz = str_extract(Cpu, \"[0-9.]+\") %>% as.numeric())\n",
    "\n",
    "# Display the updated dataframe\n",
    "head(df)"
   ]
  },
  {
   "cell_type": "markdown",
   "id": "d4b4f1bd-1188-4cb7-b419-2e39722fc179",
   "metadata": {},
   "source": [
    "#### Feature: Ram"
   ]
  },
  {
   "cell_type": "code",
   "execution_count": 17,
   "id": "a05d0948-eb1a-4cc5-b339-b2ec36ed7460",
   "metadata": {},
   "outputs": [
    {
     "name": "stdout",
     "output_type": "stream",
     "text": [
      "[1]  8 16  4  2 12  6 32 24 64\n"
     ]
    }
   ],
   "source": [
    "# Remove \"GB\" from the end of Ram and convert to integer\n",
    "df <- df %>%\n",
    "  mutate(Ram_GB = as.integer(str_extract(Ram, \"\\\\d+\")))\n",
    "\n",
    "print(unique(df$Ram_GB))"
   ]
  },
  {
   "cell_type": "markdown",
   "id": "6ce0d74c-df14-446c-acd9-2e559b07fed3",
   "metadata": {},
   "source": [
    "#### Feature: Memory"
   ]
  },
  {
   "cell_type": "code",
   "execution_count": 18,
   "id": "7e9a8d82-bd95-49ce-a589-2b69d549c1b9",
   "metadata": {},
   "outputs": [
    {
     "data": {
      "text/html": [
       "<table class=\"dataframe\">\n",
       "<caption>A data.frame: 6 × 24</caption>\n",
       "<thead>\n",
       "\t<tr><th></th><th scope=col>Company</th><th scope=col>Product</th><th scope=col>TypeName</th><th scope=col>Inches</th><th scope=col>Cpu</th><th scope=col>Ram</th><th scope=col>PrimaryMemory</th><th scope=col>SecondaryMemory</th><th scope=col>Gpu</th><th scope=col>OpSys</th><th scope=col>⋯</th><th scope=col>ResolutionWidth</th><th scope=col>ResolutionHeight</th><th scope=col>DisplayType</th><th scope=col>Touchscreen</th><th scope=col>IPS_Panel</th><th scope=col>RetinaDisplay</th><th scope=col>CpuBrand</th><th scope=col>CpuProduct</th><th scope=col>CpuClockSpeed_GHz</th><th scope=col>Ram_GB</th></tr>\n",
       "\t<tr><th></th><th scope=col>&lt;chr&gt;</th><th scope=col>&lt;chr&gt;</th><th scope=col>&lt;chr&gt;</th><th scope=col>&lt;dbl&gt;</th><th scope=col>&lt;chr&gt;</th><th scope=col>&lt;chr&gt;</th><th scope=col>&lt;chr&gt;</th><th scope=col>&lt;chr&gt;</th><th scope=col>&lt;chr&gt;</th><th scope=col>&lt;chr&gt;</th><th scope=col>⋯</th><th scope=col>&lt;int&gt;</th><th scope=col>&lt;int&gt;</th><th scope=col>&lt;chr&gt;</th><th scope=col>&lt;chr&gt;</th><th scope=col>&lt;chr&gt;</th><th scope=col>&lt;chr&gt;</th><th scope=col>&lt;chr&gt;</th><th scope=col>&lt;chr&gt;</th><th scope=col>&lt;dbl&gt;</th><th scope=col>&lt;int&gt;</th></tr>\n",
       "</thead>\n",
       "<tbody>\n",
       "\t<tr><th scope=row>1</th><td>Apple</td><td>MacBook Pro</td><td>Ultrabook</td><td>13.3</td><td>Intel Core i5 2.3GHz      </td><td>8GB </td><td>128GB SSD          </td><td>0</td><td>Intel Iris Plus Graphics 640</td><td>macOS     </td><td>⋯</td><td>2560</td><td>1600</td><td>Retina Display</td><td>0</td><td>1</td><td>1</td><td>Intel</td><td>i5</td><td>5</td><td> 8</td></tr>\n",
       "\t<tr><th scope=row>2</th><td>Apple</td><td>Macbook Air</td><td>Ultrabook</td><td>13.3</td><td>Intel Core i5 1.8GHz      </td><td>8GB </td><td>128GB Flash Storage</td><td>0</td><td>Intel HD Graphics 6000      </td><td>macOS     </td><td>⋯</td><td>1440</td><td> 900</td><td>NA            </td><td>0</td><td>0</td><td>0</td><td>Intel</td><td>i5</td><td>5</td><td> 8</td></tr>\n",
       "\t<tr><th scope=row>3</th><td>HP   </td><td>250 G6     </td><td>Notebook </td><td>15.6</td><td>Intel Core i5 7200U 2.5GHz</td><td>8GB </td><td>256GB SSD          </td><td>0</td><td>Intel HD Graphics 620       </td><td>No OS     </td><td>⋯</td><td>1920</td><td>1080</td><td>Full HD       </td><td>0</td><td>0</td><td>0</td><td>Intel</td><td>i5</td><td>5</td><td> 8</td></tr>\n",
       "\t<tr><th scope=row>4</th><td>Apple</td><td>MacBook Pro</td><td>Ultrabook</td><td>15.4</td><td>Intel Core i7 2.7GHz      </td><td>16GB</td><td>512GB SSD          </td><td>0</td><td>AMD Radeon Pro 455          </td><td>macOS     </td><td>⋯</td><td>2880</td><td>1800</td><td>Retina Display</td><td>0</td><td>1</td><td>1</td><td>Intel</td><td>i7</td><td>7</td><td>16</td></tr>\n",
       "\t<tr><th scope=row>5</th><td>Apple</td><td>MacBook Pro</td><td>Ultrabook</td><td>13.3</td><td>Intel Core i5 3.1GHz      </td><td>8GB </td><td>256GB SSD          </td><td>0</td><td>Intel Iris Plus Graphics 650</td><td>macOS     </td><td>⋯</td><td>2560</td><td>1600</td><td>Retina Display</td><td>0</td><td>1</td><td>1</td><td>Intel</td><td>i5</td><td>5</td><td> 8</td></tr>\n",
       "\t<tr><th scope=row>6</th><td>Acer </td><td>Aspire 3   </td><td>Notebook </td><td>15.6</td><td>AMD A9-Series 9420 3GHz   </td><td>4GB </td><td>500GB HDD          </td><td>0</td><td>AMD Radeon R5               </td><td>Windows 10</td><td>⋯</td><td>1366</td><td> 768</td><td>NA            </td><td>0</td><td>0</td><td>0</td><td>AMD  </td><td>NA</td><td>9</td><td> 4</td></tr>\n",
       "</tbody>\n",
       "</table>\n"
      ],
      "text/latex": [
       "A data.frame: 6 × 24\n",
       "\\begin{tabular}{r|lllllllllllllllllllll}\n",
       "  & Company & Product & TypeName & Inches & Cpu & Ram & PrimaryMemory & SecondaryMemory & Gpu & OpSys & ⋯ & ResolutionWidth & ResolutionHeight & DisplayType & Touchscreen & IPS\\_Panel & RetinaDisplay & CpuBrand & CpuProduct & CpuClockSpeed\\_GHz & Ram\\_GB\\\\\n",
       "  & <chr> & <chr> & <chr> & <dbl> & <chr> & <chr> & <chr> & <chr> & <chr> & <chr> & ⋯ & <int> & <int> & <chr> & <chr> & <chr> & <chr> & <chr> & <chr> & <dbl> & <int>\\\\\n",
       "\\hline\n",
       "\t1 & Apple & MacBook Pro & Ultrabook & 13.3 & Intel Core i5 2.3GHz       & 8GB  & 128GB SSD           & 0 & Intel Iris Plus Graphics 640 & macOS      & ⋯ & 2560 & 1600 & Retina Display & 0 & 1 & 1 & Intel & i5 & 5 &  8\\\\\n",
       "\t2 & Apple & Macbook Air & Ultrabook & 13.3 & Intel Core i5 1.8GHz       & 8GB  & 128GB Flash Storage & 0 & Intel HD Graphics 6000       & macOS      & ⋯ & 1440 &  900 & NA             & 0 & 0 & 0 & Intel & i5 & 5 &  8\\\\\n",
       "\t3 & HP    & 250 G6      & Notebook  & 15.6 & Intel Core i5 7200U 2.5GHz & 8GB  & 256GB SSD           & 0 & Intel HD Graphics 620        & No OS      & ⋯ & 1920 & 1080 & Full HD        & 0 & 0 & 0 & Intel & i5 & 5 &  8\\\\\n",
       "\t4 & Apple & MacBook Pro & Ultrabook & 15.4 & Intel Core i7 2.7GHz       & 16GB & 512GB SSD           & 0 & AMD Radeon Pro 455           & macOS      & ⋯ & 2880 & 1800 & Retina Display & 0 & 1 & 1 & Intel & i7 & 7 & 16\\\\\n",
       "\t5 & Apple & MacBook Pro & Ultrabook & 13.3 & Intel Core i5 3.1GHz       & 8GB  & 256GB SSD           & 0 & Intel Iris Plus Graphics 650 & macOS      & ⋯ & 2560 & 1600 & Retina Display & 0 & 1 & 1 & Intel & i5 & 5 &  8\\\\\n",
       "\t6 & Acer  & Aspire 3    & Notebook  & 15.6 & AMD A9-Series 9420 3GHz    & 4GB  & 500GB HDD           & 0 & AMD Radeon R5                & Windows 10 & ⋯ & 1366 &  768 & NA             & 0 & 0 & 0 & AMD   & NA & 9 &  4\\\\\n",
       "\\end{tabular}\n"
      ],
      "text/markdown": [
       "\n",
       "A data.frame: 6 × 24\n",
       "\n",
       "| <!--/--> | Company &lt;chr&gt; | Product &lt;chr&gt; | TypeName &lt;chr&gt; | Inches &lt;dbl&gt; | Cpu &lt;chr&gt; | Ram &lt;chr&gt; | PrimaryMemory &lt;chr&gt; | SecondaryMemory &lt;chr&gt; | Gpu &lt;chr&gt; | OpSys &lt;chr&gt; | ⋯ ⋯ | ResolutionWidth &lt;int&gt; | ResolutionHeight &lt;int&gt; | DisplayType &lt;chr&gt; | Touchscreen &lt;chr&gt; | IPS_Panel &lt;chr&gt; | RetinaDisplay &lt;chr&gt; | CpuBrand &lt;chr&gt; | CpuProduct &lt;chr&gt; | CpuClockSpeed_GHz &lt;dbl&gt; | Ram_GB &lt;int&gt; |\n",
       "|---|---|---|---|---|---|---|---|---|---|---|---|---|---|---|---|---|---|---|---|---|---|\n",
       "| 1 | Apple | MacBook Pro | Ultrabook | 13.3 | Intel Core i5 2.3GHz       | 8GB  | 128GB SSD           | 0 | Intel Iris Plus Graphics 640 | macOS      | ⋯ | 2560 | 1600 | Retina Display | 0 | 1 | 1 | Intel | i5 | 5 |  8 |\n",
       "| 2 | Apple | Macbook Air | Ultrabook | 13.3 | Intel Core i5 1.8GHz       | 8GB  | 128GB Flash Storage | 0 | Intel HD Graphics 6000       | macOS      | ⋯ | 1440 |  900 | NA             | 0 | 0 | 0 | Intel | i5 | 5 |  8 |\n",
       "| 3 | HP    | 250 G6      | Notebook  | 15.6 | Intel Core i5 7200U 2.5GHz | 8GB  | 256GB SSD           | 0 | Intel HD Graphics 620        | No OS      | ⋯ | 1920 | 1080 | Full HD        | 0 | 0 | 0 | Intel | i5 | 5 |  8 |\n",
       "| 4 | Apple | MacBook Pro | Ultrabook | 15.4 | Intel Core i7 2.7GHz       | 16GB | 512GB SSD           | 0 | AMD Radeon Pro 455           | macOS      | ⋯ | 2880 | 1800 | Retina Display | 0 | 1 | 1 | Intel | i7 | 7 | 16 |\n",
       "| 5 | Apple | MacBook Pro | Ultrabook | 13.3 | Intel Core i5 3.1GHz       | 8GB  | 256GB SSD           | 0 | Intel Iris Plus Graphics 650 | macOS      | ⋯ | 2560 | 1600 | Retina Display | 0 | 1 | 1 | Intel | i5 | 5 |  8 |\n",
       "| 6 | Acer  | Aspire 3    | Notebook  | 15.6 | AMD A9-Series 9420 3GHz    | 4GB  | 500GB HDD           | 0 | AMD Radeon R5                | Windows 10 | ⋯ | 1366 |  768 | NA             | 0 | 0 | 0 | AMD   | NA | 9 |  4 |\n",
       "\n"
      ],
      "text/plain": [
       "  Company Product     TypeName  Inches Cpu                        Ram \n",
       "1 Apple   MacBook Pro Ultrabook 13.3   Intel Core i5 2.3GHz       8GB \n",
       "2 Apple   Macbook Air Ultrabook 13.3   Intel Core i5 1.8GHz       8GB \n",
       "3 HP      250 G6      Notebook  15.6   Intel Core i5 7200U 2.5GHz 8GB \n",
       "4 Apple   MacBook Pro Ultrabook 15.4   Intel Core i7 2.7GHz       16GB\n",
       "5 Apple   MacBook Pro Ultrabook 13.3   Intel Core i5 3.1GHz       8GB \n",
       "6 Acer    Aspire 3    Notebook  15.6   AMD A9-Series 9420 3GHz    4GB \n",
       "  PrimaryMemory       SecondaryMemory Gpu                          OpSys      ⋯\n",
       "1 128GB SSD           0               Intel Iris Plus Graphics 640 macOS      ⋯\n",
       "2 128GB Flash Storage 0               Intel HD Graphics 6000       macOS      ⋯\n",
       "3 256GB SSD           0               Intel HD Graphics 620        No OS      ⋯\n",
       "4 512GB SSD           0               AMD Radeon Pro 455           macOS      ⋯\n",
       "5 256GB SSD           0               Intel Iris Plus Graphics 650 macOS      ⋯\n",
       "6 500GB HDD           0               AMD Radeon R5                Windows 10 ⋯\n",
       "  ResolutionWidth ResolutionHeight DisplayType    Touchscreen IPS_Panel\n",
       "1 2560            1600             Retina Display 0           1        \n",
       "2 1440             900             NA             0           0        \n",
       "3 1920            1080             Full HD        0           0        \n",
       "4 2880            1800             Retina Display 0           1        \n",
       "5 2560            1600             Retina Display 0           1        \n",
       "6 1366             768             NA             0           0        \n",
       "  RetinaDisplay CpuBrand CpuProduct CpuClockSpeed_GHz Ram_GB\n",
       "1 1             Intel    i5         5                  8    \n",
       "2 0             Intel    i5         5                  8    \n",
       "3 0             Intel    i5         5                  8    \n",
       "4 1             Intel    i7         7                 16    \n",
       "5 1             Intel    i5         5                  8    \n",
       "6 0             AMD      NA         9                  4    "
      ]
     },
     "metadata": {},
     "output_type": "display_data"
    }
   ],
   "source": [
    "df <- df %>%\n",
    "  separate(Memory, into = c(\"PrimaryMemory\", \"SecondaryMemory\"), sep = \"\\\\s\\\\+\\\\s\", fill = \"right\")\n",
    "\n",
    "# Replace NA values in SecondaryMemory with \"0\"\n",
    "df <- df %>%\n",
    "  mutate(SecondaryMemory = coalesce(SecondaryMemory, \"0\"))\n",
    "\n",
    "head(df)"
   ]
  },
  {
   "cell_type": "code",
   "execution_count": 19,
   "id": "8c34bb46-1219-41ac-80de-7199b7811a0a",
   "metadata": {},
   "outputs": [
    {
     "data": {
      "text/html": [
       "<table class=\"dataframe\">\n",
       "<caption>A data.frame: 24 × 2</caption>\n",
       "<thead>\n",
       "\t<tr><th scope=col>PrimaryMemory</th><th scope=col>n</th></tr>\n",
       "\t<tr><th scope=col>&lt;chr&gt;</th><th scope=col>&lt;int&gt;</th></tr>\n",
       "</thead>\n",
       "<tbody>\n",
       "\t<tr><td>256GB SSD          </td><td>500</td></tr>\n",
       "\t<tr><td>1TB HDD            </td><td>224</td></tr>\n",
       "\t<tr><td>128GB SSD          </td><td>172</td></tr>\n",
       "\t<tr><td>512GB SSD          </td><td>138</td></tr>\n",
       "\t<tr><td>500GB HDD          </td><td>132</td></tr>\n",
       "\t<tr><td>32GB Flash Storage </td><td> 38</td></tr>\n",
       "\t<tr><td>1TB SSD            </td><td> 16</td></tr>\n",
       "\t<tr><td>2TB HDD            </td><td> 16</td></tr>\n",
       "\t<tr><td>64GB Flash Storage </td><td> 16</td></tr>\n",
       "\t<tr><td>1.0TB Hybrid       </td><td>  9</td></tr>\n",
       "\t<tr><td>256GB Flash Storage</td><td>  8</td></tr>\n",
       "\t<tr><td>16GB Flash Storage </td><td>  7</td></tr>\n",
       "\t<tr><td>32GB SSD           </td><td>  6</td></tr>\n",
       "\t<tr><td>180GB SSD          </td><td>  5</td></tr>\n",
       "\t<tr><td>128GB Flash Storage</td><td>  4</td></tr>\n",
       "\t<tr><td>16GB SSD           </td><td>  3</td></tr>\n",
       "\t<tr><td>512GB Flash Storage</td><td>  2</td></tr>\n",
       "\t<tr><td>1.0TB HDD          </td><td>  1</td></tr>\n",
       "\t<tr><td>128GB HDD          </td><td>  1</td></tr>\n",
       "\t<tr><td>240GB SSD          </td><td>  1</td></tr>\n",
       "\t<tr><td>32GB HDD           </td><td>  1</td></tr>\n",
       "\t<tr><td>508GB Hybrid       </td><td>  1</td></tr>\n",
       "\t<tr><td>64GB SSD           </td><td>  1</td></tr>\n",
       "\t<tr><td>8GB SSD            </td><td>  1</td></tr>\n",
       "</tbody>\n",
       "</table>\n"
      ],
      "text/latex": [
       "A data.frame: 24 × 2\n",
       "\\begin{tabular}{ll}\n",
       " PrimaryMemory & n\\\\\n",
       " <chr> & <int>\\\\\n",
       "\\hline\n",
       "\t 256GB SSD           & 500\\\\\n",
       "\t 1TB HDD             & 224\\\\\n",
       "\t 128GB SSD           & 172\\\\\n",
       "\t 512GB SSD           & 138\\\\\n",
       "\t 500GB HDD           & 132\\\\\n",
       "\t 32GB Flash Storage  &  38\\\\\n",
       "\t 1TB SSD             &  16\\\\\n",
       "\t 2TB HDD             &  16\\\\\n",
       "\t 64GB Flash Storage  &  16\\\\\n",
       "\t 1.0TB Hybrid        &   9\\\\\n",
       "\t 256GB Flash Storage &   8\\\\\n",
       "\t 16GB Flash Storage  &   7\\\\\n",
       "\t 32GB SSD            &   6\\\\\n",
       "\t 180GB SSD           &   5\\\\\n",
       "\t 128GB Flash Storage &   4\\\\\n",
       "\t 16GB SSD            &   3\\\\\n",
       "\t 512GB Flash Storage &   2\\\\\n",
       "\t 1.0TB HDD           &   1\\\\\n",
       "\t 128GB HDD           &   1\\\\\n",
       "\t 240GB SSD           &   1\\\\\n",
       "\t 32GB HDD            &   1\\\\\n",
       "\t 508GB Hybrid        &   1\\\\\n",
       "\t 64GB SSD            &   1\\\\\n",
       "\t 8GB SSD             &   1\\\\\n",
       "\\end{tabular}\n"
      ],
      "text/markdown": [
       "\n",
       "A data.frame: 24 × 2\n",
       "\n",
       "| PrimaryMemory &lt;chr&gt; | n &lt;int&gt; |\n",
       "|---|---|\n",
       "| 256GB SSD           | 500 |\n",
       "| 1TB HDD             | 224 |\n",
       "| 128GB SSD           | 172 |\n",
       "| 512GB SSD           | 138 |\n",
       "| 500GB HDD           | 132 |\n",
       "| 32GB Flash Storage  |  38 |\n",
       "| 1TB SSD             |  16 |\n",
       "| 2TB HDD             |  16 |\n",
       "| 64GB Flash Storage  |  16 |\n",
       "| 1.0TB Hybrid        |   9 |\n",
       "| 256GB Flash Storage |   8 |\n",
       "| 16GB Flash Storage  |   7 |\n",
       "| 32GB SSD            |   6 |\n",
       "| 180GB SSD           |   5 |\n",
       "| 128GB Flash Storage |   4 |\n",
       "| 16GB SSD            |   3 |\n",
       "| 512GB Flash Storage |   2 |\n",
       "| 1.0TB HDD           |   1 |\n",
       "| 128GB HDD           |   1 |\n",
       "| 240GB SSD           |   1 |\n",
       "| 32GB HDD            |   1 |\n",
       "| 508GB Hybrid        |   1 |\n",
       "| 64GB SSD            |   1 |\n",
       "| 8GB SSD             |   1 |\n",
       "\n"
      ],
      "text/plain": [
       "   PrimaryMemory       n  \n",
       "1  256GB SSD           500\n",
       "2  1TB HDD             224\n",
       "3  128GB SSD           172\n",
       "4  512GB SSD           138\n",
       "5  500GB HDD           132\n",
       "6  32GB Flash Storage   38\n",
       "7  1TB SSD              16\n",
       "8  2TB HDD              16\n",
       "9  64GB Flash Storage   16\n",
       "10 1.0TB Hybrid          9\n",
       "11 256GB Flash Storage   8\n",
       "12 16GB Flash Storage    7\n",
       "13 32GB SSD              6\n",
       "14 180GB SSD             5\n",
       "15 128GB Flash Storage   4\n",
       "16 16GB SSD              3\n",
       "17 512GB Flash Storage   2\n",
       "18 1.0TB HDD             1\n",
       "19 128GB HDD             1\n",
       "20 240GB SSD             1\n",
       "21 32GB HDD              1\n",
       "22 508GB Hybrid          1\n",
       "23 64GB SSD              1\n",
       "24 8GB SSD               1"
      ]
     },
     "metadata": {},
     "output_type": "display_data"
    }
   ],
   "source": [
    "dplyr::count(df, PrimaryMemory, sort=TRUE)"
   ]
  },
  {
   "cell_type": "code",
   "execution_count": 20,
   "id": "44ff2660-2ffa-4fe0-9a43-2c5e631b86d1",
   "metadata": {},
   "outputs": [],
   "source": [
    "df <- df %>%\n",
    "  separate(PrimaryMemory, into = c(\"PrimaryMemSize\", \"PrimaryMemType\"), sep = \"\\\\s\", extra = \"merge\", fill = \"right\")"
   ]
  },
  {
   "cell_type": "code",
   "execution_count": 21,
   "id": "e61e4f42-c13c-43de-a324-ec598eef16d9",
   "metadata": {},
   "outputs": [
    {
     "data": {
      "text/html": [
       "<table class=\"dataframe\">\n",
       "<caption>A data.frame: 14 × 2</caption>\n",
       "<thead>\n",
       "\t<tr><th scope=col>PrimaryMemSize</th><th scope=col>n</th></tr>\n",
       "\t<tr><th scope=col>&lt;chr&gt;</th><th scope=col>&lt;int&gt;</th></tr>\n",
       "</thead>\n",
       "<tbody>\n",
       "\t<tr><td>256GB</td><td>508</td></tr>\n",
       "\t<tr><td>1TB  </td><td>240</td></tr>\n",
       "\t<tr><td>128GB</td><td>177</td></tr>\n",
       "\t<tr><td>512GB</td><td>140</td></tr>\n",
       "\t<tr><td>500GB</td><td>132</td></tr>\n",
       "\t<tr><td>32GB </td><td> 45</td></tr>\n",
       "\t<tr><td>64GB </td><td> 17</td></tr>\n",
       "\t<tr><td>2TB  </td><td> 16</td></tr>\n",
       "\t<tr><td>1.0TB</td><td> 10</td></tr>\n",
       "\t<tr><td>16GB </td><td> 10</td></tr>\n",
       "\t<tr><td>180GB</td><td>  5</td></tr>\n",
       "\t<tr><td>240GB</td><td>  1</td></tr>\n",
       "\t<tr><td>508GB</td><td>  1</td></tr>\n",
       "\t<tr><td>8GB  </td><td>  1</td></tr>\n",
       "</tbody>\n",
       "</table>\n"
      ],
      "text/latex": [
       "A data.frame: 14 × 2\n",
       "\\begin{tabular}{ll}\n",
       " PrimaryMemSize & n\\\\\n",
       " <chr> & <int>\\\\\n",
       "\\hline\n",
       "\t 256GB & 508\\\\\n",
       "\t 1TB   & 240\\\\\n",
       "\t 128GB & 177\\\\\n",
       "\t 512GB & 140\\\\\n",
       "\t 500GB & 132\\\\\n",
       "\t 32GB  &  45\\\\\n",
       "\t 64GB  &  17\\\\\n",
       "\t 2TB   &  16\\\\\n",
       "\t 1.0TB &  10\\\\\n",
       "\t 16GB  &  10\\\\\n",
       "\t 180GB &   5\\\\\n",
       "\t 240GB &   1\\\\\n",
       "\t 508GB &   1\\\\\n",
       "\t 8GB   &   1\\\\\n",
       "\\end{tabular}\n"
      ],
      "text/markdown": [
       "\n",
       "A data.frame: 14 × 2\n",
       "\n",
       "| PrimaryMemSize &lt;chr&gt; | n &lt;int&gt; |\n",
       "|---|---|\n",
       "| 256GB | 508 |\n",
       "| 1TB   | 240 |\n",
       "| 128GB | 177 |\n",
       "| 512GB | 140 |\n",
       "| 500GB | 132 |\n",
       "| 32GB  |  45 |\n",
       "| 64GB  |  17 |\n",
       "| 2TB   |  16 |\n",
       "| 1.0TB |  10 |\n",
       "| 16GB  |  10 |\n",
       "| 180GB |   5 |\n",
       "| 240GB |   1 |\n",
       "| 508GB |   1 |\n",
       "| 8GB   |   1 |\n",
       "\n"
      ],
      "text/plain": [
       "   PrimaryMemSize n  \n",
       "1  256GB          508\n",
       "2  1TB            240\n",
       "3  128GB          177\n",
       "4  512GB          140\n",
       "5  500GB          132\n",
       "6  32GB            45\n",
       "7  64GB            17\n",
       "8  2TB             16\n",
       "9  1.0TB           10\n",
       "10 16GB            10\n",
       "11 180GB            5\n",
       "12 240GB            1\n",
       "13 508GB            1\n",
       "14 8GB              1"
      ]
     },
     "metadata": {},
     "output_type": "display_data"
    }
   ],
   "source": [
    "dplyr::count(df, PrimaryMemSize, sort=TRUE)"
   ]
  },
  {
   "cell_type": "code",
   "execution_count": 22,
   "id": "6a0ba5ba-6714-401d-87fa-a1f408207453",
   "metadata": {},
   "outputs": [],
   "source": [
    "# Replace non-zero values in SecondaryMemory with 1\n",
    "df <- df %>%\n",
    "  mutate(SecondaryMemory = ifelse(SecondaryMemory != \"0\", \"1\", SecondaryMemory))"
   ]
  },
  {
   "cell_type": "markdown",
   "id": "9b4f3a05-82f8-41cd-8b22-7d18fe779cc8",
   "metadata": {},
   "source": [
    "#### Feature: Gpu"
   ]
  },
  {
   "cell_type": "code",
   "execution_count": 23,
   "id": "6b646169-affa-4937-b07b-b1862f174f5f",
   "metadata": {},
   "outputs": [
    {
     "data": {
      "text/html": [
       "110"
      ],
      "text/latex": [
       "110"
      ],
      "text/markdown": [
       "110"
      ],
      "text/plain": [
       "[1] 110"
      ]
     },
     "metadata": {},
     "output_type": "display_data"
    }
   ],
   "source": [
    "length(unique(df$Gpu))"
   ]
  },
  {
   "cell_type": "code",
   "execution_count": 24,
   "id": "2337eddd-4ac6-415e-a774-d0af442e920d",
   "metadata": {},
   "outputs": [
    {
     "data": {
      "text/html": [
       "<table class=\"dataframe\">\n",
       "<caption>A data.frame: 10 × 2</caption>\n",
       "<thead>\n",
       "\t<tr><th></th><th scope=col>Gpu</th><th scope=col>n</th></tr>\n",
       "\t<tr><th></th><th scope=col>&lt;chr&gt;</th><th scope=col>&lt;int&gt;</th></tr>\n",
       "</thead>\n",
       "<tbody>\n",
       "\t<tr><th scope=row>1</th><td>Intel HD Graphics 620  </td><td>281</td></tr>\n",
       "\t<tr><th scope=row>2</th><td>Intel HD Graphics 520  </td><td>185</td></tr>\n",
       "\t<tr><th scope=row>3</th><td>Intel UHD Graphics 620 </td><td> 68</td></tr>\n",
       "\t<tr><th scope=row>4</th><td>Nvidia GeForce GTX 1050</td><td> 66</td></tr>\n",
       "\t<tr><th scope=row>5</th><td>Nvidia GeForce GTX 1060</td><td> 48</td></tr>\n",
       "\t<tr><th scope=row>6</th><td>Nvidia GeForce 940MX   </td><td> 43</td></tr>\n",
       "\t<tr><th scope=row>7</th><td>AMD Radeon 530         </td><td> 41</td></tr>\n",
       "\t<tr><th scope=row>8</th><td>Intel HD Graphics 500  </td><td> 39</td></tr>\n",
       "\t<tr><th scope=row>9</th><td>Intel HD Graphics 400  </td><td> 37</td></tr>\n",
       "\t<tr><th scope=row>10</th><td>Nvidia GeForce GTX 1070</td><td> 30</td></tr>\n",
       "</tbody>\n",
       "</table>\n"
      ],
      "text/latex": [
       "A data.frame: 10 × 2\n",
       "\\begin{tabular}{r|ll}\n",
       "  & Gpu & n\\\\\n",
       "  & <chr> & <int>\\\\\n",
       "\\hline\n",
       "\t1 & Intel HD Graphics 620   & 281\\\\\n",
       "\t2 & Intel HD Graphics 520   & 185\\\\\n",
       "\t3 & Intel UHD Graphics 620  &  68\\\\\n",
       "\t4 & Nvidia GeForce GTX 1050 &  66\\\\\n",
       "\t5 & Nvidia GeForce GTX 1060 &  48\\\\\n",
       "\t6 & Nvidia GeForce 940MX    &  43\\\\\n",
       "\t7 & AMD Radeon 530          &  41\\\\\n",
       "\t8 & Intel HD Graphics 500   &  39\\\\\n",
       "\t9 & Intel HD Graphics 400   &  37\\\\\n",
       "\t10 & Nvidia GeForce GTX 1070 &  30\\\\\n",
       "\\end{tabular}\n"
      ],
      "text/markdown": [
       "\n",
       "A data.frame: 10 × 2\n",
       "\n",
       "| <!--/--> | Gpu &lt;chr&gt; | n &lt;int&gt; |\n",
       "|---|---|---|\n",
       "| 1 | Intel HD Graphics 620   | 281 |\n",
       "| 2 | Intel HD Graphics 520   | 185 |\n",
       "| 3 | Intel UHD Graphics 620  |  68 |\n",
       "| 4 | Nvidia GeForce GTX 1050 |  66 |\n",
       "| 5 | Nvidia GeForce GTX 1060 |  48 |\n",
       "| 6 | Nvidia GeForce 940MX    |  43 |\n",
       "| 7 | AMD Radeon 530          |  41 |\n",
       "| 8 | Intel HD Graphics 500   |  39 |\n",
       "| 9 | Intel HD Graphics 400   |  37 |\n",
       "| 10 | Nvidia GeForce GTX 1070 |  30 |\n",
       "\n"
      ],
      "text/plain": [
       "   Gpu                     n  \n",
       "1  Intel HD Graphics 620   281\n",
       "2  Intel HD Graphics 520   185\n",
       "3  Intel UHD Graphics 620   68\n",
       "4  Nvidia GeForce GTX 1050  66\n",
       "5  Nvidia GeForce GTX 1060  48\n",
       "6  Nvidia GeForce 940MX     43\n",
       "7  AMD Radeon 530           41\n",
       "8  Intel HD Graphics 500    39\n",
       "9  Intel HD Graphics 400    37\n",
       "10 Nvidia GeForce GTX 1070  30"
      ]
     },
     "metadata": {},
     "output_type": "display_data"
    }
   ],
   "source": [
    "head(dplyr::count(df, Gpu, sort=TRUE), 10)"
   ]
  },
  {
   "cell_type": "code",
   "execution_count": 25,
   "id": "ccd9a803-4806-4516-8b75-57f58a0a8305",
   "metadata": {},
   "outputs": [],
   "source": [
    "df <- df %>%\n",
    "  mutate(Gpu_Brand = word(Gpu, 1),\n",
    "         Gpu_Product = str_remove(Gpu, paste0(Gpu_Brand, \"\\\\s\")))\n",
    "\n",
    "# Drop the original \"Gpu\" column\n",
    "df <- df %>%\n",
    "  select(-Gpu)"
   ]
  },
  {
   "cell_type": "code",
   "execution_count": 26,
   "id": "8b8551ee-3334-4574-b784-ce2fd8abb59a",
   "metadata": {},
   "outputs": [
    {
     "data": {
      "image/png": "[encoded data removed]",
      "text/plain": [
       "plot without title"
      ]
     },
     "metadata": {
      "image/png": {
       "height": 420,
       "width": 420
      }
     },
     "output_type": "display_data"
    }
   ],
   "source": [
    "barplot(table(df$Gpu_Brand), col=\"lightblue\")"
   ]
  },
  {
   "cell_type": "code",
   "execution_count": 27,
   "id": "2657791e-7a98-42e3-8453-8229fb5a3bea",
   "metadata": {},
   "outputs": [],
   "source": [
    "df <- df %>%\n",
    "  filter(Gpu_Brand != \"ARM\")"
   ]
  },
  {
   "cell_type": "code",
   "execution_count": 28,
   "id": "6a67eb50-e1b6-4ba5-aac3-c8e41919e420",
   "metadata": {},
   "outputs": [
    {
     "data": {
      "text/html": [
       "<table class=\"dataframe\">\n",
       "<caption>A data.frame: 10 × 2</caption>\n",
       "<thead>\n",
       "\t<tr><th></th><th scope=col>Gpu_Product</th><th scope=col>n</th></tr>\n",
       "\t<tr><th></th><th scope=col>&lt;chr&gt;</th><th scope=col>&lt;int&gt;</th></tr>\n",
       "</thead>\n",
       "<tbody>\n",
       "\t<tr><th scope=row>1</th><td>HD Graphics 620 </td><td>281</td></tr>\n",
       "\t<tr><th scope=row>2</th><td>HD Graphics 520 </td><td>185</td></tr>\n",
       "\t<tr><th scope=row>3</th><td>UHD Graphics 620</td><td> 68</td></tr>\n",
       "\t<tr><th scope=row>4</th><td>GeForce GTX 1050</td><td> 66</td></tr>\n",
       "\t<tr><th scope=row>5</th><td>GeForce GTX 1060</td><td> 48</td></tr>\n",
       "\t<tr><th scope=row>6</th><td>GeForce 940MX   </td><td> 43</td></tr>\n",
       "\t<tr><th scope=row>7</th><td>Radeon 530      </td><td> 41</td></tr>\n",
       "\t<tr><th scope=row>8</th><td>HD Graphics 500 </td><td> 39</td></tr>\n",
       "\t<tr><th scope=row>9</th><td>HD Graphics 400 </td><td> 37</td></tr>\n",
       "\t<tr><th scope=row>10</th><td>GeForce GTX 1070</td><td> 30</td></tr>\n",
       "</tbody>\n",
       "</table>\n"
      ],
      "text/latex": [
       "A data.frame: 10 × 2\n",
       "\\begin{tabular}{r|ll}\n",
       "  & Gpu\\_Product & n\\\\\n",
       "  & <chr> & <int>\\\\\n",
       "\\hline\n",
       "\t1 & HD Graphics 620  & 281\\\\\n",
       "\t2 & HD Graphics 520  & 185\\\\\n",
       "\t3 & UHD Graphics 620 &  68\\\\\n",
       "\t4 & GeForce GTX 1050 &  66\\\\\n",
       "\t5 & GeForce GTX 1060 &  48\\\\\n",
       "\t6 & GeForce 940MX    &  43\\\\\n",
       "\t7 & Radeon 530       &  41\\\\\n",
       "\t8 & HD Graphics 500  &  39\\\\\n",
       "\t9 & HD Graphics 400  &  37\\\\\n",
       "\t10 & GeForce GTX 1070 &  30\\\\\n",
       "\\end{tabular}\n"
      ],
      "text/markdown": [
       "\n",
       "A data.frame: 10 × 2\n",
       "\n",
       "| <!--/--> | Gpu_Product &lt;chr&gt; | n &lt;int&gt; |\n",
       "|---|---|---|\n",
       "| 1 | HD Graphics 620  | 281 |\n",
       "| 2 | HD Graphics 520  | 185 |\n",
       "| 3 | UHD Graphics 620 |  68 |\n",
       "| 4 | GeForce GTX 1050 |  66 |\n",
       "| 5 | GeForce GTX 1060 |  48 |\n",
       "| 6 | GeForce 940MX    |  43 |\n",
       "| 7 | Radeon 530       |  41 |\n",
       "| 8 | HD Graphics 500  |  39 |\n",
       "| 9 | HD Graphics 400  |  37 |\n",
       "| 10 | GeForce GTX 1070 |  30 |\n",
       "\n"
      ],
      "text/plain": [
       "   Gpu_Product      n  \n",
       "1  HD Graphics 620  281\n",
       "2  HD Graphics 520  185\n",
       "3  UHD Graphics 620  68\n",
       "4  GeForce GTX 1050  66\n",
       "5  GeForce GTX 1060  48\n",
       "6  GeForce 940MX     43\n",
       "7  Radeon 530        41\n",
       "8  HD Graphics 500   39\n",
       "9  HD Graphics 400   37\n",
       "10 GeForce GTX 1070  30"
      ]
     },
     "metadata": {},
     "output_type": "display_data"
    }
   ],
   "source": [
    "head(dplyr::count(df, Gpu_Product, sort=TRUE), 10)"
   ]
  },
  {
   "cell_type": "code",
   "execution_count": 29,
   "id": "a1cb7912-0b1c-46a0-b330-4c570b690f2d",
   "metadata": {},
   "outputs": [],
   "source": [
    "df$Gpu_Product <- gsub(\"\\\\s+\\\\w+$\", \"\", df$Gpu_Product)"
   ]
  },
  {
   "cell_type": "code",
   "execution_count": 30,
   "id": "5a07b9f0-2896-43e5-9b9d-7409529d93cf",
   "metadata": {},
   "outputs": [
    {
     "data": {
      "text/html": [
       "<table class=\"dataframe\">\n",
       "<caption>A data.frame: 31 × 2</caption>\n",
       "<thead>\n",
       "\t<tr><th scope=col>Gpu_Product</th><th scope=col>n</th></tr>\n",
       "\t<tr><th scope=col>&lt;chr&gt;</th><th scope=col>&lt;int&gt;</th></tr>\n",
       "</thead>\n",
       "<tbody>\n",
       "\t<tr><td>HD Graphics            </td><td>609</td></tr>\n",
       "\t<tr><td>GeForce GTX            </td><td>204</td></tr>\n",
       "\t<tr><td>GeForce                </td><td>117</td></tr>\n",
       "\t<tr><td>Radeon                 </td><td> 80</td></tr>\n",
       "\t<tr><td>UHD Graphics           </td><td> 68</td></tr>\n",
       "\t<tr><td>Radeon R5              </td><td> 43</td></tr>\n",
       "\t<tr><td>Quadro                 </td><td> 31</td></tr>\n",
       "\t<tr><td>HD                     </td><td> 29</td></tr>\n",
       "\t<tr><td>GeForce GTX 1050       </td><td> 28</td></tr>\n",
       "\t<tr><td>Radeon R7              </td><td> 25</td></tr>\n",
       "\t<tr><td>Radeon RX              </td><td> 12</td></tr>\n",
       "\t<tr><td>Iris Plus Graphics     </td><td> 10</td></tr>\n",
       "\t<tr><td>GeForce 920MX          </td><td>  5</td></tr>\n",
       "\t<tr><td>GeForce 930MX          </td><td>  5</td></tr>\n",
       "\t<tr><td>GeForce GT             </td><td>  5</td></tr>\n",
       "\t<tr><td>Radeon R4              </td><td>  5</td></tr>\n",
       "\t<tr><td>Radeon R2              </td><td>  4</td></tr>\n",
       "\t<tr><td>FirePro                </td><td>  3</td></tr>\n",
       "\t<tr><td>Iris Graphics          </td><td>  3</td></tr>\n",
       "\t<tr><td>Radeon Pro             </td><td>  3</td></tr>\n",
       "\t<tr><td>FirePro W4190M         </td><td>  2</td></tr>\n",
       "\t<tr><td>GeForce GTX 960&lt;U+039C&gt;</td><td><span style=white-space:pre-wrap>  2</span></td></tr>\n",
       "\t<tr><td>GTX 980                </td><td>  1</td></tr>\n",
       "\t<tr><td>GeForce GTX 980        </td><td>  1</td></tr>\n",
       "\t<tr><td>GeForce GTX1050        </td><td>  1</td></tr>\n",
       "\t<tr><td>Graphics               </td><td>  1</td></tr>\n",
       "\t<tr><td>HD Graphics 620        </td><td>  1</td></tr>\n",
       "\t<tr><td>Iris Pro               </td><td>  1</td></tr>\n",
       "\t<tr><td>R17M-M1-70             </td><td>  1</td></tr>\n",
       "\t<tr><td>R4                     </td><td>  1</td></tr>\n",
       "\t<tr><td>Radeon R9              </td><td>  1</td></tr>\n",
       "</tbody>\n",
       "</table>\n"
      ],
      "text/latex": [
       "A data.frame: 31 × 2\n",
       "\\begin{tabular}{ll}\n",
       " Gpu\\_Product & n\\\\\n",
       " <chr> & <int>\\\\\n",
       "\\hline\n",
       "\t HD Graphics             & 609\\\\\n",
       "\t GeForce GTX             & 204\\\\\n",
       "\t GeForce                 & 117\\\\\n",
       "\t Radeon                  &  80\\\\\n",
       "\t UHD Graphics            &  68\\\\\n",
       "\t Radeon R5               &  43\\\\\n",
       "\t Quadro                  &  31\\\\\n",
       "\t HD                      &  29\\\\\n",
       "\t GeForce GTX 1050        &  28\\\\\n",
       "\t Radeon R7               &  25\\\\\n",
       "\t Radeon RX               &  12\\\\\n",
       "\t Iris Plus Graphics      &  10\\\\\n",
       "\t GeForce 920MX           &   5\\\\\n",
       "\t GeForce 930MX           &   5\\\\\n",
       "\t GeForce GT              &   5\\\\\n",
       "\t Radeon R4               &   5\\\\\n",
       "\t Radeon R2               &   4\\\\\n",
       "\t FirePro                 &   3\\\\\n",
       "\t Iris Graphics           &   3\\\\\n",
       "\t Radeon Pro              &   3\\\\\n",
       "\t FirePro W4190M          &   2\\\\\n",
       "\t GeForce GTX 960<U+039C> &   2\\\\\n",
       "\t GTX 980                 &   1\\\\\n",
       "\t GeForce GTX 980         &   1\\\\\n",
       "\t GeForce GTX1050         &   1\\\\\n",
       "\t Graphics                &   1\\\\\n",
       "\t HD Graphics 620         &   1\\\\\n",
       "\t Iris Pro                &   1\\\\\n",
       "\t R17M-M1-70              &   1\\\\\n",
       "\t R4                      &   1\\\\\n",
       "\t Radeon R9               &   1\\\\\n",
       "\\end{tabular}\n"
      ],
      "text/markdown": [
       "\n",
       "A data.frame: 31 × 2\n",
       "\n",
       "| Gpu_Product &lt;chr&gt; | n &lt;int&gt; |\n",
       "|---|---|\n",
       "| HD Graphics             | 609 |\n",
       "| GeForce GTX             | 204 |\n",
       "| GeForce                 | 117 |\n",
       "| Radeon                  |  80 |\n",
       "| UHD Graphics            |  68 |\n",
       "| Radeon R5               |  43 |\n",
       "| Quadro                  |  31 |\n",
       "| HD                      |  29 |\n",
       "| GeForce GTX 1050        |  28 |\n",
       "| Radeon R7               |  25 |\n",
       "| Radeon RX               |  12 |\n",
       "| Iris Plus Graphics      |  10 |\n",
       "| GeForce 920MX           |   5 |\n",
       "| GeForce 930MX           |   5 |\n",
       "| GeForce GT              |   5 |\n",
       "| Radeon R4               |   5 |\n",
       "| Radeon R2               |   4 |\n",
       "| FirePro                 |   3 |\n",
       "| Iris Graphics           |   3 |\n",
       "| Radeon Pro              |   3 |\n",
       "| FirePro W4190M          |   2 |\n",
       "| GeForce GTX 960&lt;U+039C&gt; |   2 |\n",
       "| GTX 980                 |   1 |\n",
       "| GeForce GTX 980         |   1 |\n",
       "| GeForce GTX1050         |   1 |\n",
       "| Graphics                |   1 |\n",
       "| HD Graphics 620         |   1 |\n",
       "| Iris Pro                |   1 |\n",
       "| R17M-M1-70              |   1 |\n",
       "| R4                      |   1 |\n",
       "| Radeon R9               |   1 |\n",
       "\n"
      ],
      "text/plain": [
       "   Gpu_Product             n  \n",
       "1  HD Graphics             609\n",
       "2  GeForce GTX             204\n",
       "3  GeForce                 117\n",
       "4  Radeon                   80\n",
       "5  UHD Graphics             68\n",
       "6  Radeon R5                43\n",
       "7  Quadro                   31\n",
       "8  HD                       29\n",
       "9  GeForce GTX 1050         28\n",
       "10 Radeon R7                25\n",
       "11 Radeon RX                12\n",
       "12 Iris Plus Graphics       10\n",
       "13 GeForce 920MX             5\n",
       "14 GeForce 930MX             5\n",
       "15 GeForce GT                5\n",
       "16 Radeon R4                 5\n",
       "17 Radeon R2                 4\n",
       "18 FirePro                   3\n",
       "19 Iris Graphics             3\n",
       "20 Radeon Pro                3\n",
       "21 FirePro W4190M            2\n",
       "22 GeForce GTX 960<U+039C>   2\n",
       "23 GTX 980                   1\n",
       "24 GeForce GTX 980           1\n",
       "25 GeForce GTX1050           1\n",
       "26 Graphics                  1\n",
       "27 HD Graphics 620           1\n",
       "28 Iris Pro                  1\n",
       "29 R17M-M1-70                1\n",
       "30 R4                        1\n",
       "31 Radeon R9                 1"
      ]
     },
     "metadata": {},
     "output_type": "display_data"
    }
   ],
   "source": [
    "dplyr::count(df, Gpu_Product, sort=TRUE)"
   ]
  },
  {
   "cell_type": "code",
   "execution_count": 31,
   "id": "78026230-3a9f-4b14-a854-3dcc219f48cb",
   "metadata": {},
   "outputs": [],
   "source": [
    "df$Gpu_Product <- sapply(strsplit(df$Gpu_Product, \"\\\\s+\"), `[`, 1)"
   ]
  },
  {
   "cell_type": "code",
   "execution_count": 32,
   "id": "a1fab899-124e-4258-851f-57478dabf860",
   "metadata": {},
   "outputs": [],
   "source": [
    "# Replace \"GTX\" with \"GeForce\" in Gpu_Product\n",
    "df$Gpu_Product <- gsub(\"GTX\", \"GeForce\", df$Gpu_Product)\n",
    "\n",
    "# Drop rows with NA values in Gpu_Product\n",
    "df <- df[!is.na(df$Gpu_Product), ]\n",
    "\n",
    "df <- df[!grepl('Graphics|R4|FirePro', df$Gpu_Product), ]"
   ]
  },
  {
   "cell_type": "code",
   "execution_count": 33,
   "id": "18b0a92c-83eb-4aa0-a90a-86b127dd0fec",
   "metadata": {},
   "outputs": [
    {
     "data": {
      "image/png": "[encoded data removed]",
      "text/plain": [
       "plot without title"
      ]
     },
     "metadata": {
      "image/png": {
       "height": 480,
       "width": 600
      }
     },
     "output_type": "display_data"
    }
   ],
   "source": [
    "options(repr.plot.width=10, repr.plot.height=8)\n",
    "boxplot(Price_euros ~ Gpu_Product, data = df, col=\"lightblue\")"
   ]
  },
  {
   "cell_type": "markdown",
   "id": "52b2cd09-270d-4559-978d-29646f114fdf",
   "metadata": {},
   "source": [
    "#### Feature: OpSys"
   ]
  },
  {
   "cell_type": "code",
   "execution_count": 34,
   "id": "5f4c3d3f-3940-42fc-a05c-ad74d4198559",
   "metadata": {},
   "outputs": [
    {
     "data": {
      "text/html": [
       "<table class=\"dataframe\">\n",
       "<caption>A data.frame: 9 × 2</caption>\n",
       "<thead>\n",
       "\t<tr><th scope=col>OpSys</th><th scope=col>n</th></tr>\n",
       "\t<tr><th scope=col>&lt;chr&gt;</th><th scope=col>&lt;int&gt;</th></tr>\n",
       "</thead>\n",
       "<tbody>\n",
       "\t<tr><td>Windows 10  </td><td>1067</td></tr>\n",
       "\t<tr><td>No OS       </td><td>  66</td></tr>\n",
       "\t<tr><td>Linux       </td><td>  62</td></tr>\n",
       "\t<tr><td>Windows 7   </td><td>  43</td></tr>\n",
       "\t<tr><td>Chrome OS   </td><td>  26</td></tr>\n",
       "\t<tr><td>macOS       </td><td>  13</td></tr>\n",
       "\t<tr><td>Mac OS X    </td><td>   8</td></tr>\n",
       "\t<tr><td>Windows 10 S</td><td>   8</td></tr>\n",
       "\t<tr><td>Android     </td><td>   2</td></tr>\n",
       "</tbody>\n",
       "</table>\n"
      ],
      "text/latex": [
       "A data.frame: 9 × 2\n",
       "\\begin{tabular}{ll}\n",
       " OpSys & n\\\\\n",
       " <chr> & <int>\\\\\n",
       "\\hline\n",
       "\t Windows 10   & 1067\\\\\n",
       "\t No OS        &   66\\\\\n",
       "\t Linux        &   62\\\\\n",
       "\t Windows 7    &   43\\\\\n",
       "\t Chrome OS    &   26\\\\\n",
       "\t macOS        &   13\\\\\n",
       "\t Mac OS X     &    8\\\\\n",
       "\t Windows 10 S &    8\\\\\n",
       "\t Android      &    2\\\\\n",
       "\\end{tabular}\n"
      ],
      "text/markdown": [
       "\n",
       "A data.frame: 9 × 2\n",
       "\n",
       "| OpSys &lt;chr&gt; | n &lt;int&gt; |\n",
       "|---|---|\n",
       "| Windows 10   | 1067 |\n",
       "| No OS        |   66 |\n",
       "| Linux        |   62 |\n",
       "| Windows 7    |   43 |\n",
       "| Chrome OS    |   26 |\n",
       "| macOS        |   13 |\n",
       "| Mac OS X     |    8 |\n",
       "| Windows 10 S |    8 |\n",
       "| Android      |    2 |\n",
       "\n"
      ],
      "text/plain": [
       "  OpSys        n   \n",
       "1 Windows 10   1067\n",
       "2 No OS          66\n",
       "3 Linux          62\n",
       "4 Windows 7      43\n",
       "5 Chrome OS      26\n",
       "6 macOS          13\n",
       "7 Mac OS X        8\n",
       "8 Windows 10 S    8\n",
       "9 Android         2"
      ]
     },
     "metadata": {},
     "output_type": "display_data"
    }
   ],
   "source": [
    "dplyr::count(df, OpSys, sort=TRUE)"
   ]
  },
  {
   "cell_type": "code",
   "execution_count": 35,
   "id": "81c87082-7e75-451c-83fb-d1fc89c9f53f",
   "metadata": {},
   "outputs": [],
   "source": [
    "# mapping dict\n",
    "map_dict <- c(\"Windows 10 S\" = \"Windows 10\",\n",
    "              \"Mac OS X\" = \"macOS\",\n",
    "              \"Chrome OS\" = \"Chrome/Android\",\n",
    "              \"Android\" = \"Chrome/Android\")\n",
    "\n",
    "# Recode the OpSys column using the mapping dictionary\n",
    "df$OpSys <- recode(df$OpSys, !!!map_dict)"
   ]
  },
  {
   "cell_type": "code",
   "execution_count": 36,
   "id": "147737e5-e891-4bf8-8adb-218bb64e44d2",
   "metadata": {},
   "outputs": [
    {
     "data": {
      "image/png": "[encoded data removed]",
      "text/plain": [
       "plot without title"
      ]
     },
     "metadata": {
      "image/png": {
       "height": 480,
       "width": 600
      }
     },
     "output_type": "display_data"
    }
   ],
   "source": [
    "options(repr.plot.width=10, repr.plot.height=8)\n",
    "boxplot(Price_euros ~ OpSys, data = df, col=\"lightblue\")"
   ]
  },
  {
   "cell_type": "markdown",
   "id": "3a25ea3d-3bb1-44b6-90be-4ee49bde5bc2",
   "metadata": {},
   "source": [
    "#### Weight Feature"
   ]
  },
  {
   "cell_type": "code",
   "execution_count": 37,
   "id": "f09ca5e0-705e-47c1-8f51-68c3cf142338",
   "metadata": {},
   "outputs": [
    {
     "data": {
      "text/html": [
       "179"
      ],
      "text/latex": [
       "179"
      ],
      "text/markdown": [
       "179"
      ],
      "text/plain": [
       "[1] 179"
      ]
     },
     "metadata": {},
     "output_type": "display_data"
    }
   ],
   "source": [
    "length(unique(df$Weight))"
   ]
  },
  {
   "cell_type": "code",
   "execution_count": 38,
   "id": "1d1f7a34-05c3-4d22-af1c-ad7c1a9fbbe8",
   "metadata": {},
   "outputs": [],
   "source": [
    "df$Weight_kg <- as.numeric(sub(\"kg$\", \"\", df$Weight))\n",
    "\n",
    "# Rename the column to Weight_kg\n",
    "#colnames(df)[colnames(df) == \"Weight\"] <- \"Weight_kg\""
   ]
  },
  {
   "cell_type": "code",
   "execution_count": 39,
   "id": "55760ef1-9306-403d-87c2-ba658ee9eef8",
   "metadata": {},
   "outputs": [
    {
     "data": {
      "text/html": [
       "171"
      ],
      "text/latex": [
       "171"
      ],
      "text/markdown": [
       "171"
      ],
      "text/plain": [
       "[1] 171"
      ]
     },
     "metadata": {},
     "output_type": "display_data"
    }
   ],
   "source": [
    "length(unique(df$Weight_kg))"
   ]
  },
  {
   "cell_type": "code",
   "execution_count": 40,
   "id": "8fa4d768-e532-42de-9caa-c29d8f54ea85",
   "metadata": {},
   "outputs": [
    {
     "data": {
      "image/png": "[encoded data removed]",
      "text/plain": [
       "Plot with title “Histogram of df$Weight_kg”"
      ]
     },
     "metadata": {
      "image/png": {
       "height": 480,
       "width": 600
      }
     },
     "output_type": "display_data"
    }
   ],
   "source": [
    "hist(df$Weight_kg, col=\"lightblue\")"
   ]
  },
  {
   "cell_type": "markdown",
   "id": "24f98d47-c2a0-4b81-9993-bf55cf05875c",
   "metadata": {},
   "source": [
    "#### Saving Prepared data"
   ]
  },
  {
   "cell_type": "code",
   "execution_count": 41,
   "id": "0d074648-ac19-42f2-9c9c-dee444cb6d8c",
   "metadata": {},
   "outputs": [],
   "source": [
    "write.csv(df, file = \"../input/laptop_price_prepared.csv\", row.names=FALSE)"
   ]
  }
 ],
 "metadata": {
  "kernelspec": {
   "display_name": "R",
   "language": "R",
   "name": "ir"
  },
  "language_info": {
   "codemirror_mode": "r",
   "file_extension": ".r",
   "mimetype": "text/x-r-source",
   "name": "R",
   "pygments_lexer": "r",
   "version": "4.3.3"
  }
 },
 "nbformat": 4,
 "nbformat_minor": 5
}
